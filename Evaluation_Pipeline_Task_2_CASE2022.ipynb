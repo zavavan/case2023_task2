{
  "cells": [
    {
      "cell_type": "markdown",
      "metadata": {
        "id": "view-in-github",
        "colab_type": "text"
      },
      "source": [
        "<a href=\"https://colab.research.google.com/github/zavavan/case2023_task2/blob/main/Evaluation_Pipeline_Task_2_CASE2022.ipynb\" target=\"_parent\"><img src=\"https://colab.research.google.com/assets/colab-badge.svg\" alt=\"Open In Colab\"/></a>"
      ]
    },
    {
      "cell_type": "code",
      "source": [
        "from google.colab import drive\n",
        "drive.mount('/content/drive')"
      ],
      "metadata": {
        "id": "YbXCnsPxOaeD",
        "colab": {
          "base_uri": "https://localhost:8080/"
        },
        "outputId": "1c6ccd37-fa3f-4a5a-c3b6-3d0333abbf94"
      },
      "execution_count": 1,
      "outputs": [
        {
          "output_type": "stream",
          "name": "stdout",
          "text": [
            "Mounted at /content/drive\n"
          ]
        }
      ]
    },
    {
      "cell_type": "markdown",
      "metadata": {
        "id": "TpagkKYB8JvL"
      },
      "source": [
        "## Setup"
      ]
    },
    {
      "cell_type": "code",
      "source": [
        "#!python -m pip uninstall matplotlib\n",
        "#!pip install matplotlib==3.1.3"
      ],
      "metadata": {
        "id": "bvlrhqQGpwHe"
      },
      "execution_count": null,
      "outputs": []
    },
    {
      "cell_type": "code",
      "execution_count": null,
      "metadata": {
        "id": "ZI1ZqJD_8JvM"
      },
      "outputs": [],
      "source": [
        "from IPython.display import clear_output\n",
        "#!pip install argparse\n",
        "!pip install xtract\n",
        "!pip install wget\n",
        "import time as time\n",
        "import ipywidgets as widgets\n",
        "import json\n",
        "#clear_output()\n",
        "import gzip\n",
        "import shutil\n",
        "import os\n",
        "import wget\n",
        "import csv\n",
        "import linecache\n",
        "from shutil import copyfile\n",
        "import numpy as np\n",
        "import pandas as pd\n",
        "import datetime\n",
        "import shapely.speedups\n",
        "\n",
        "# To plot pretty figures\n",
        "#%matplotlib inline\n",
        "import matplotlib as mpl\n",
        "import matplotlib.pyplot as plt\n",
        "mpl.rc('axes', labelsize=14)\n",
        "mpl.rc('xtick', labelsize=12)\n",
        "mpl.rc('ytick', labelsize=12)\n",
        "\n",
        "!pip install geopandas\n",
        "!pip install scipy\n",
        "!pip install shapely\n",
        "!pip install bokeh\n",
        "!pip install cartopy\n",
        "!pip install statsmodels\n",
        "!pip install sklearn\n",
        "!pip install osmnx\n",
        "!pip install folium\n",
        "\n",
        "import numpy as np\n",
        "import pandas as pd\n",
        "import geopandas as gpd\n",
        "import scipy\n",
        "import shapely\n",
        "#import matplotlib.pyplot as plt\n",
        "import bokeh\n",
        "import cartopy\n",
        "import statsmodels\n",
        "import sklearn\n",
        "import osmnx\n",
        "import folium\n",
        "from sklearn.metrics import mean_squared_error\n",
        "\n",
        "import time\n"
      ]
    },
    {
      "cell_type": "code",
      "source": [
        "from tqdm import tqdm"
      ],
      "metadata": {
        "id": "jUqMc5zdq6mH"
      },
      "execution_count": 3,
      "outputs": []
    },
    {
      "cell_type": "code",
      "source": [
        "import multiprocessing\n",
        "\n",
        "cores = multiprocessing.cpu_count() # Count the number of cores in a computer\n",
        "cores"
      ],
      "metadata": {
        "id": "YF2lXy0SVgRw"
      },
      "execution_count": null,
      "outputs": []
    },
    {
      "cell_type": "code",
      "source": [
        "import time\n",
        "from joblib import Parallel, delayed\n",
        "from tqdm import tqdm\n",
        "from functools import partial\n",
        "import string\n",
        "import traceback"
      ],
      "metadata": {
        "id": "fGZ1oKZaVkWh"
      },
      "execution_count": null,
      "outputs": []
    },
    {
      "cell_type": "code",
      "source": [
        "def chunkIt(seq, num):\n",
        "    avg = len(seq) / float(num)\n",
        "    out = []\n",
        "    last = 0.0\n",
        "\n",
        "    while last < len(seq):\n",
        "        out.append(seq[int(last):int(last + avg)])\n",
        "        last += avg\n",
        "\n",
        "    return out"
      ],
      "metadata": {
        "id": "XVp9E3VnV36y"
      },
      "execution_count": null,
      "outputs": []
    },
    {
      "cell_type": "code",
      "source": [
        "# Where to save the figures\n",
        "PROJECT_ROOT_DIR = \"/content/drive/MyDrive/Colab Notebooks/CASE2023_Task2\"\n",
        "IMAGES_PATH = os.path.join(PROJECT_ROOT_DIR, \"images\")\n",
        "\n",
        "def save_fig(fig_id, tight_layout=False, fig_extension=\"png\", resolution=1200):\n",
        "    path = os.path.join(IMAGES_PATH, fig_id + \".\" + fig_extension)\n",
        "    print(\"Saving figure\", fig_id)\n",
        "    if tight_layout:\n",
        "        plt.tight_layout()\n",
        "    plt.savefig(path, format=fig_extension, dpi=resolution)"
      ],
      "metadata": {
        "id": "Bs72Bnr1qyQg"
      },
      "execution_count": 4,
      "outputs": []
    },
    {
      "cell_type": "code",
      "execution_count": 5,
      "metadata": {
        "id": "b1KPXYn98JvQ"
      },
      "outputs": [],
      "source": [
        "INPUT_DATA_PATH = os.path.join(PROJECT_ROOT_DIR, \"SYSTEM_SUBMISSIONS\")\n",
        "os.makedirs(INPUT_DATA_PATH, exist_ok=True)\n",
        "\n",
        "def load_system_submission(input_data_path,system_name,submission_name,_header):\n",
        "    path = os.path.join(input_data_path, system_name, submission_name)\n",
        "    ext = os.path.splitext(path)[-1].lower()\n",
        "    if ext == \".csv\":\n",
        "      print('loading system submission data from csv file: ' + path)\n",
        "      return pd.read_csv(path,header=_header)\n",
        "    elif ext == \".xlsx\":\n",
        "      print('loading system submission data from excel file: ' + path)\n",
        "      return pd.read_excel(path, index_col=_header)\n",
        "\n",
        "#\"D:\\\\knime_workspace\\\\Event Deduplication Evaluation New\\\\Data\\\\CASE2021\\\\Hu-Tiancheng-ETH\\\\submission.NoConflict.twitter.1.csv\""
      ]
    },
    {
      "cell_type": "markdown",
      "metadata": {
        "id": "FeMeO7YU8JvR"
      },
      "source": [
        "## Open Street Map (Nominatim API) location normalization\n",
        "\n",
        "The String representation of the event location will be automatically converted into a pair of geographical coordinates by using the Nominatim search API (https://nominatim.org/release-docs/develop/api/Search/). While only the country attribute is mandatory, systems are expected to assign a description of the event location at the finest grained level possible, as otherwise geographical coordinate conversion from Nominatim will place the event at the geographical centroid of the polygon of the assigned administrative unit, which may penalize the correlation score on Prio-GRID cell aggregation.\n",
        "   "
      ]
    },
    {
      "cell_type": "code",
      "execution_count": 6,
      "metadata": {
        "colab": {
          "base_uri": "https://localhost:8080/"
        },
        "id": "Os23Diw28JvS",
        "outputId": "728dc4f3-5547-47fa-8ca4-534a9844a6e5"
      },
      "outputs": [
        {
          "output_type": "stream",
          "name": "stdout",
          "text": [
            "Requirement already satisfied: geopy in /usr/local/lib/python3.10/dist-packages (2.3.0)\n",
            "Requirement already satisfied: geographiclib<3,>=1.52 in /usr/local/lib/python3.10/dist-packages (from geopy) (2.0)\n"
          ]
        }
      ],
      "source": [
        "!pip install geopy\n",
        "from geopy.geocoders import Nominatim"
      ]
    },
    {
      "cell_type": "code",
      "execution_count": 7,
      "metadata": {
        "id": "3GqmDVQ68JvU"
      },
      "outputs": [],
      "source": [
        "geolocator = Nominatim(user_agent=\"case2022_task2\",timeout=30)"
      ]
    },
    {
      "cell_type": "code",
      "execution_count": 8,
      "metadata": {
        "id": "N1vPj3ON8JvW"
      },
      "outputs": [],
      "source": [
        "def make_structured_query(x, y, z):\n",
        "    return {\"city\":x, \"state\":y, \"country\":z}"
      ]
    },
    {
      "cell_type": "markdown",
      "metadata": {
        "id": "OJqTfBz98JvY"
      },
      "source": [
        "### System Output File"
      ]
    },
    {
      "cell_type": "code",
      "execution_count": 9,
      "metadata": {
        "id": "soUe0t9R8JvZ",
        "colab": {
          "base_uri": "https://localhost:8080/"
        },
        "outputId": "af0c9f0b-7e42-44df-ae6a-5c5e2d0b5a82"
      },
      "outputs": [
        {
          "output_type": "stream",
          "name": "stdout",
          "text": [
            "loading system submission data from csv file: /content/drive/MyDrive/Colab Notebooks/CASE2023_Task2/SYSTEM_SUBMISSIONS/mordecai/submission.mordecai.news.2.csv\n"
          ]
        }
      ],
      "source": [
        "system_output = load_system_submission(\"/content/drive/MyDrive/Colab Notebooks/CASE2023_Task2/SYSTEM_SUBMISSIONS\",\"mordecai\",\"submission.mordecai.news.2.csv\",0)"
      ]
    },
    {
      "cell_type": "code",
      "source": [
        "system_output.head()"
      ],
      "metadata": {
        "id": "prped9Y9Cfuy"
      },
      "execution_count": null,
      "outputs": []
    },
    {
      "cell_type": "markdown",
      "source": [
        "### Column mapping for not compliant system output files ###"
      ],
      "metadata": {
        "id": "X89vytSpIXFn"
      }
    },
    {
      "cell_type": "code",
      "source": [
        "len(system_output)"
      ],
      "metadata": {
        "colab": {
          "base_uri": "https://localhost:8080/"
        },
        "id": "ZH8jM0GIHhtR",
        "outputId": "3eddbda2-6e27-464f-f93b-6daf1b0f65e9"
      },
      "execution_count": 10,
      "outputs": [
        {
          "output_type": "execute_result",
          "data": {
            "text/plain": [
              "519"
            ]
          },
          "metadata": {},
          "execution_count": 10
        }
      ]
    },
    {
      "cell_type": "code",
      "source": [
        "system_output=system_output.dropna(subset=['name_0'])"
      ],
      "metadata": {
        "id": "ddLhcaUpHXe3"
      },
      "execution_count": 11,
      "outputs": []
    },
    {
      "cell_type": "code",
      "source": [
        "len(system_output)"
      ],
      "metadata": {
        "colab": {
          "base_uri": "https://localhost:8080/"
        },
        "id": "iIkp7IjzH3I9",
        "outputId": "65aa349c-1da7-457e-82df-694e6787146a"
      },
      "execution_count": null,
      "outputs": [
        {
          "output_type": "execute_result",
          "data": {
            "text/plain": [
              "262"
            ]
          },
          "metadata": {},
          "execution_count": 148
        }
      ]
    },
    {
      "cell_type": "code",
      "source": [
        "system_output_expanded = pd.DataFrame(columns=['date','city', 'state', 'country','lat','lon'])"
      ],
      "metadata": {
        "id": "eHl6Zhl8EXwE"
      },
      "execution_count": 12,
      "outputs": []
    },
    {
      "cell_type": "code",
      "source": [
        "system_output_expanded"
      ],
      "metadata": {
        "id": "I40KA2E3Zwp0"
      },
      "execution_count": null,
      "outputs": []
    },
    {
      "cell_type": "code",
      "source": [
        "for index, row in system_output.iterrows():\n",
        "  mapped_row = {'date': row['date'], 'city': row['name_0'],'state':row['admin1_name_0'],'country': row['country_code3_0'],'lat':row['lat_0'],'lon': row['lon_0']}\n",
        "  system_output_expanded.loc[len(system_output_expanded)] = mapped_row\n",
        "  if not pd.isna(row['name_1']):\n",
        "    mapped_row = {'date': row['date'], 'city': row['name_1'],'state':row['admin1_name_1'],'country': row['country_code3_1'],'lat':row['lat_1'],'lon': row['lon_1']}\n",
        "    system_output_expanded.loc[len(system_output_expanded)] = mapped_row\n",
        "  if not pd.isna(row['name_2']):\n",
        "    mapped_row = {'date': row['date'], 'city': row['name_2'],'state':row['admin1_name_2'],'country': row['country_code3_2'],'lat':row['lat_2'],'lon': row['lon_2']}\n",
        "    system_output_expanded.loc[len(system_output_expanded)] = mapped_row\n",
        "  if not pd.isna(row['name_3']):\n",
        "    mapped_row = {'date': row['date'], 'city': row['name_3'],'state':row['admin1_name_3'],'country': row['country_code3_3'],'lat':row['lat_3'],'lon': row['lon_3']}\n",
        "    system_output_expanded.loc[len(system_output_expanded)] = mapped_row\n",
        "  if not pd.isna(row['name_4']):\n",
        "    mapped_row = {'date': row['date'], 'city': row['name_4'],'state':row['admin1_name_4'],'country': row['country_code3_4'],'lat':row['lat_4'],'lon': row['lon_4']}\n",
        "    system_output_expanded.loc[len(system_output_expanded)] = mapped_row\n",
        "  if not pd.isna(row['name_5']):\n",
        "    mapped_row = {'date': row['date'], 'city': row['name_5'],'state':row['admin1_name_5'],'country': row['country_code3_5'],'lat':row['lat_5'],'lon': row['lon_5']}\n",
        "    system_output_expanded.loc[len(system_output_expanded)] = mapped_row\n",
        "  if not pd.isna(row['name_6']):\n",
        "    mapped_row = {'date': row['date'], 'city': row['name_6'],'state':row['admin1_name_6'],'country': row['country_code3_6'],'lat':row['lat_6'],'lon': row['lon_6']}\n",
        "    system_output_expanded.loc[len(system_output_expanded)] = mapped_row\n",
        "  if not pd.isna(row['name_7']):\n",
        "    mapped_row = {'date': row['date'], 'city': row['name_7'],'state':row['admin1_name_7'],'country': row['country_code3_7'],'lat':row['lat_7'],'lon': row['lon_7']}\n",
        "    system_output_expanded.loc[len(system_output_expanded)] = mapped_row\n",
        "  if not pd.isna(row['name_8']):\n",
        "    mapped_row = {'date': row['date'], 'city': row['name_8'],'state':row['admin1_name_8'],'country': row['country_code3_8'],'lat':row['lat_8'],'lon': row['lon_8']}\n",
        "    system_output_expanded.loc[len(system_output_expanded)] = mapped_row\n"
      ],
      "metadata": {
        "id": "S-St6dOGEdWj"
      },
      "execution_count": 13,
      "outputs": []
    },
    {
      "cell_type": "code",
      "source": [
        "system_output_expanded['id'] = system_output_expanded.index"
      ],
      "metadata": {
        "id": "7ztS3-uIDp5r"
      },
      "execution_count": 14,
      "outputs": []
    },
    {
      "cell_type": "code",
      "source": [
        "system_output_expanded"
      ],
      "metadata": {
        "id": "x8S3Do9UZBrL",
        "colab": {
          "base_uri": "https://localhost:8080/",
          "height": 424
        },
        "outputId": "8473abce-9d4d-4c26-917a-3e01c2014a3e"
      },
      "execution_count": 15,
      "outputs": [
        {
          "output_type": "execute_result",
          "data": {
            "text/plain": [
              "                          date             city       state country       lat  \\\n",
              "0    2023-04-02 09:55:24+00:00          Bakhmut     Donetsk     UKR  48.59441   \n",
              "1    2023-03-10 04:01:26+00:00         Avdiivka     Donetsk     UKR  48.13989   \n",
              "2    2023-03-09 20:25:46+00:00          Bakhmut     Donetsk     UKR  48.59441   \n",
              "3    2023-03-08 06:23:44+00:00           Vesele     Donetsk     UKR  47.93379   \n",
              "4    2023-03-02 01:03:39+00:00     Nuevo Laredo  Tamaulipas     MEX  27.47629   \n",
              "..                         ...              ...         ...     ...       ...   \n",
              "363  2022-04-27 21:37:01+00:00  Sievierodonetsk     Luhansk     UKR  48.94628   \n",
              "364  2022-04-27 21:37:01+00:00  Luhanska Oblast     Luhansk     UKR  49.00000   \n",
              "365  2022-03-14 18:22:05+00:00         Mariupol     Donetsk     UKR  47.09514   \n",
              "366  2022-03-14 18:22:05+00:00         Mariupol     Donetsk     UKR  47.09514   \n",
              "367  2022-05-26 13:44:16+00:00          Kharkiv     Kharkiv     UKR  49.98081   \n",
              "\n",
              "          lon   id  \n",
              "0    37.99983    0  \n",
              "1    37.74255    1  \n",
              "2    37.99983    2  \n",
              "3    36.76199    3  \n",
              "4   -99.51639    4  \n",
              "..        ...  ...  \n",
              "363  38.48624  363  \n",
              "364  39.00000  364  \n",
              "365  37.54131  365  \n",
              "366  37.54131  366  \n",
              "367  36.25272  367  \n",
              "\n",
              "[368 rows x 7 columns]"
            ],
            "text/html": [
              "\n",
              "\n",
              "  <div id=\"df-0dce9039-2c16-4e31-878e-c0a26b54726c\">\n",
              "    <div class=\"colab-df-container\">\n",
              "      <div>\n",
              "<style scoped>\n",
              "    .dataframe tbody tr th:only-of-type {\n",
              "        vertical-align: middle;\n",
              "    }\n",
              "\n",
              "    .dataframe tbody tr th {\n",
              "        vertical-align: top;\n",
              "    }\n",
              "\n",
              "    .dataframe thead th {\n",
              "        text-align: right;\n",
              "    }\n",
              "</style>\n",
              "<table border=\"1\" class=\"dataframe\">\n",
              "  <thead>\n",
              "    <tr style=\"text-align: right;\">\n",
              "      <th></th>\n",
              "      <th>date</th>\n",
              "      <th>city</th>\n",
              "      <th>state</th>\n",
              "      <th>country</th>\n",
              "      <th>lat</th>\n",
              "      <th>lon</th>\n",
              "      <th>id</th>\n",
              "    </tr>\n",
              "  </thead>\n",
              "  <tbody>\n",
              "    <tr>\n",
              "      <th>0</th>\n",
              "      <td>2023-04-02 09:55:24+00:00</td>\n",
              "      <td>Bakhmut</td>\n",
              "      <td>Donetsk</td>\n",
              "      <td>UKR</td>\n",
              "      <td>48.59441</td>\n",
              "      <td>37.99983</td>\n",
              "      <td>0</td>\n",
              "    </tr>\n",
              "    <tr>\n",
              "      <th>1</th>\n",
              "      <td>2023-03-10 04:01:26+00:00</td>\n",
              "      <td>Avdiivka</td>\n",
              "      <td>Donetsk</td>\n",
              "      <td>UKR</td>\n",
              "      <td>48.13989</td>\n",
              "      <td>37.74255</td>\n",
              "      <td>1</td>\n",
              "    </tr>\n",
              "    <tr>\n",
              "      <th>2</th>\n",
              "      <td>2023-03-09 20:25:46+00:00</td>\n",
              "      <td>Bakhmut</td>\n",
              "      <td>Donetsk</td>\n",
              "      <td>UKR</td>\n",
              "      <td>48.59441</td>\n",
              "      <td>37.99983</td>\n",
              "      <td>2</td>\n",
              "    </tr>\n",
              "    <tr>\n",
              "      <th>3</th>\n",
              "      <td>2023-03-08 06:23:44+00:00</td>\n",
              "      <td>Vesele</td>\n",
              "      <td>Donetsk</td>\n",
              "      <td>UKR</td>\n",
              "      <td>47.93379</td>\n",
              "      <td>36.76199</td>\n",
              "      <td>3</td>\n",
              "    </tr>\n",
              "    <tr>\n",
              "      <th>4</th>\n",
              "      <td>2023-03-02 01:03:39+00:00</td>\n",
              "      <td>Nuevo Laredo</td>\n",
              "      <td>Tamaulipas</td>\n",
              "      <td>MEX</td>\n",
              "      <td>27.47629</td>\n",
              "      <td>-99.51639</td>\n",
              "      <td>4</td>\n",
              "    </tr>\n",
              "    <tr>\n",
              "      <th>...</th>\n",
              "      <td>...</td>\n",
              "      <td>...</td>\n",
              "      <td>...</td>\n",
              "      <td>...</td>\n",
              "      <td>...</td>\n",
              "      <td>...</td>\n",
              "      <td>...</td>\n",
              "    </tr>\n",
              "    <tr>\n",
              "      <th>363</th>\n",
              "      <td>2022-04-27 21:37:01+00:00</td>\n",
              "      <td>Sievierodonetsk</td>\n",
              "      <td>Luhansk</td>\n",
              "      <td>UKR</td>\n",
              "      <td>48.94628</td>\n",
              "      <td>38.48624</td>\n",
              "      <td>363</td>\n",
              "    </tr>\n",
              "    <tr>\n",
              "      <th>364</th>\n",
              "      <td>2022-04-27 21:37:01+00:00</td>\n",
              "      <td>Luhanska Oblast</td>\n",
              "      <td>Luhansk</td>\n",
              "      <td>UKR</td>\n",
              "      <td>49.00000</td>\n",
              "      <td>39.00000</td>\n",
              "      <td>364</td>\n",
              "    </tr>\n",
              "    <tr>\n",
              "      <th>365</th>\n",
              "      <td>2022-03-14 18:22:05+00:00</td>\n",
              "      <td>Mariupol</td>\n",
              "      <td>Donetsk</td>\n",
              "      <td>UKR</td>\n",
              "      <td>47.09514</td>\n",
              "      <td>37.54131</td>\n",
              "      <td>365</td>\n",
              "    </tr>\n",
              "    <tr>\n",
              "      <th>366</th>\n",
              "      <td>2022-03-14 18:22:05+00:00</td>\n",
              "      <td>Mariupol</td>\n",
              "      <td>Donetsk</td>\n",
              "      <td>UKR</td>\n",
              "      <td>47.09514</td>\n",
              "      <td>37.54131</td>\n",
              "      <td>366</td>\n",
              "    </tr>\n",
              "    <tr>\n",
              "      <th>367</th>\n",
              "      <td>2022-05-26 13:44:16+00:00</td>\n",
              "      <td>Kharkiv</td>\n",
              "      <td>Kharkiv</td>\n",
              "      <td>UKR</td>\n",
              "      <td>49.98081</td>\n",
              "      <td>36.25272</td>\n",
              "      <td>367</td>\n",
              "    </tr>\n",
              "  </tbody>\n",
              "</table>\n",
              "<p>368 rows × 7 columns</p>\n",
              "</div>\n",
              "      <button class=\"colab-df-convert\" onclick=\"convertToInteractive('df-0dce9039-2c16-4e31-878e-c0a26b54726c')\"\n",
              "              title=\"Convert this dataframe to an interactive table.\"\n",
              "              style=\"display:none;\">\n",
              "\n",
              "  <svg xmlns=\"http://www.w3.org/2000/svg\" height=\"24px\"viewBox=\"0 0 24 24\"\n",
              "       width=\"24px\">\n",
              "    <path d=\"M0 0h24v24H0V0z\" fill=\"none\"/>\n",
              "    <path d=\"M18.56 5.44l.94 2.06.94-2.06 2.06-.94-2.06-.94-.94-2.06-.94 2.06-2.06.94zm-11 1L8.5 8.5l.94-2.06 2.06-.94-2.06-.94L8.5 2.5l-.94 2.06-2.06.94zm10 10l.94 2.06.94-2.06 2.06-.94-2.06-.94-.94-2.06-.94 2.06-2.06.94z\"/><path d=\"M17.41 7.96l-1.37-1.37c-.4-.4-.92-.59-1.43-.59-.52 0-1.04.2-1.43.59L10.3 9.45l-7.72 7.72c-.78.78-.78 2.05 0 2.83L4 21.41c.39.39.9.59 1.41.59.51 0 1.02-.2 1.41-.59l7.78-7.78 2.81-2.81c.8-.78.8-2.07 0-2.86zM5.41 20L4 18.59l7.72-7.72 1.47 1.35L5.41 20z\"/>\n",
              "  </svg>\n",
              "      </button>\n",
              "\n",
              "\n",
              "\n",
              "    <div id=\"df-6eefe29f-d826-4ee0-a070-67e73f15f05e\">\n",
              "      <button class=\"colab-df-quickchart\" onclick=\"quickchart('df-6eefe29f-d826-4ee0-a070-67e73f15f05e')\"\n",
              "              title=\"Suggest charts.\"\n",
              "              style=\"display:none;\">\n",
              "\n",
              "<svg xmlns=\"http://www.w3.org/2000/svg\" height=\"24px\"viewBox=\"0 0 24 24\"\n",
              "     width=\"24px\">\n",
              "    <g>\n",
              "        <path d=\"M19 3H5c-1.1 0-2 .9-2 2v14c0 1.1.9 2 2 2h14c1.1 0 2-.9 2-2V5c0-1.1-.9-2-2-2zM9 17H7v-7h2v7zm4 0h-2V7h2v10zm4 0h-2v-4h2v4z\"/>\n",
              "    </g>\n",
              "</svg>\n",
              "      </button>\n",
              "    </div>\n",
              "\n",
              "<style>\n",
              "  .colab-df-quickchart {\n",
              "    background-color: #E8F0FE;\n",
              "    border: none;\n",
              "    border-radius: 50%;\n",
              "    cursor: pointer;\n",
              "    display: none;\n",
              "    fill: #1967D2;\n",
              "    height: 32px;\n",
              "    padding: 0 0 0 0;\n",
              "    width: 32px;\n",
              "  }\n",
              "\n",
              "  .colab-df-quickchart:hover {\n",
              "    background-color: #E2EBFA;\n",
              "    box-shadow: 0px 1px 2px rgba(60, 64, 67, 0.3), 0px 1px 3px 1px rgba(60, 64, 67, 0.15);\n",
              "    fill: #174EA6;\n",
              "  }\n",
              "\n",
              "  [theme=dark] .colab-df-quickchart {\n",
              "    background-color: #3B4455;\n",
              "    fill: #D2E3FC;\n",
              "  }\n",
              "\n",
              "  [theme=dark] .colab-df-quickchart:hover {\n",
              "    background-color: #434B5C;\n",
              "    box-shadow: 0px 1px 3px 1px rgba(0, 0, 0, 0.15);\n",
              "    filter: drop-shadow(0px 1px 2px rgba(0, 0, 0, 0.3));\n",
              "    fill: #FFFFFF;\n",
              "  }\n",
              "</style>\n",
              "\n",
              "    <script>\n",
              "      async function quickchart(key) {\n",
              "        const containerElement = document.querySelector('#' + key);\n",
              "        const charts = await google.colab.kernel.invokeFunction(\n",
              "            'suggestCharts', [key], {});\n",
              "      }\n",
              "    </script>\n",
              "\n",
              "      <script>\n",
              "\n",
              "function displayQuickchartButton(domScope) {\n",
              "  let quickchartButtonEl =\n",
              "    domScope.querySelector('#df-6eefe29f-d826-4ee0-a070-67e73f15f05e button.colab-df-quickchart');\n",
              "  quickchartButtonEl.style.display =\n",
              "    google.colab.kernel.accessAllowed ? 'block' : 'none';\n",
              "}\n",
              "\n",
              "        displayQuickchartButton(document);\n",
              "      </script>\n",
              "      <style>\n",
              "    .colab-df-container {\n",
              "      display:flex;\n",
              "      flex-wrap:wrap;\n",
              "      gap: 12px;\n",
              "    }\n",
              "\n",
              "    .colab-df-convert {\n",
              "      background-color: #E8F0FE;\n",
              "      border: none;\n",
              "      border-radius: 50%;\n",
              "      cursor: pointer;\n",
              "      display: none;\n",
              "      fill: #1967D2;\n",
              "      height: 32px;\n",
              "      padding: 0 0 0 0;\n",
              "      width: 32px;\n",
              "    }\n",
              "\n",
              "    .colab-df-convert:hover {\n",
              "      background-color: #E2EBFA;\n",
              "      box-shadow: 0px 1px 2px rgba(60, 64, 67, 0.3), 0px 1px 3px 1px rgba(60, 64, 67, 0.15);\n",
              "      fill: #174EA6;\n",
              "    }\n",
              "\n",
              "    [theme=dark] .colab-df-convert {\n",
              "      background-color: #3B4455;\n",
              "      fill: #D2E3FC;\n",
              "    }\n",
              "\n",
              "    [theme=dark] .colab-df-convert:hover {\n",
              "      background-color: #434B5C;\n",
              "      box-shadow: 0px 1px 3px 1px rgba(0, 0, 0, 0.15);\n",
              "      filter: drop-shadow(0px 1px 2px rgba(0, 0, 0, 0.3));\n",
              "      fill: #FFFFFF;\n",
              "    }\n",
              "  </style>\n",
              "\n",
              "      <script>\n",
              "        const buttonEl =\n",
              "          document.querySelector('#df-0dce9039-2c16-4e31-878e-c0a26b54726c button.colab-df-convert');\n",
              "        buttonEl.style.display =\n",
              "          google.colab.kernel.accessAllowed ? 'block' : 'none';\n",
              "\n",
              "        async function convertToInteractive(key) {\n",
              "          const element = document.querySelector('#df-0dce9039-2c16-4e31-878e-c0a26b54726c');\n",
              "          const dataTable =\n",
              "            await google.colab.kernel.invokeFunction('convertToInteractive',\n",
              "                                                     [key], {});\n",
              "          if (!dataTable) return;\n",
              "\n",
              "          const docLinkHtml = 'Like what you see? Visit the ' +\n",
              "            '<a target=\"_blank\" href=https://colab.research.google.com/notebooks/data_table.ipynb>data table notebook</a>'\n",
              "            + ' to learn more about interactive tables.';\n",
              "          element.innerHTML = '';\n",
              "          dataTable['output_type'] = 'display_data';\n",
              "          await google.colab.output.renderOutput(dataTable, element);\n",
              "          const docLink = document.createElement('div');\n",
              "          docLink.innerHTML = docLinkHtml;\n",
              "          element.appendChild(docLink);\n",
              "        }\n",
              "      </script>\n",
              "    </div>\n",
              "  </div>\n"
            ]
          },
          "metadata": {},
          "execution_count": 15
        }
      ]
    },
    {
      "cell_type": "markdown",
      "source": [
        "\n",
        "\n",
        "---\n",
        "\n"
      ],
      "metadata": {
        "id": "01zSjWWvimxK"
      }
    },
    {
      "cell_type": "code",
      "source": [
        "system_output = system_output[['id','city','country','lat','lon' ]]"
      ],
      "metadata": {
        "id": "61TTgAI-N8M-"
      },
      "execution_count": null,
      "outputs": []
    },
    {
      "cell_type": "code",
      "source": [
        "system_output"
      ],
      "metadata": {
        "id": "J8EttGU1Of4P"
      },
      "execution_count": null,
      "outputs": []
    },
    {
      "cell_type": "markdown",
      "source": [
        "\n",
        "\n",
        "---\n",
        "\n"
      ],
      "metadata": {
        "id": "sANXELM0J1x3"
      }
    },
    {
      "cell_type": "code",
      "source": [
        "system_output.columns =['id','city', 'state', 'country', 'date']\n",
        "system_output.tail()"
      ],
      "metadata": {
        "id": "iKOlzYm8J0wO"
      },
      "execution_count": null,
      "outputs": []
    },
    {
      "cell_type": "code",
      "execution_count": null,
      "metadata": {
        "id": "vEodUPct8JvZ"
      },
      "outputs": [],
      "source": [
        "#so_locations = system_output[['city','state','country']].value_counts(ascending=False).reset_index(name='count')[['city','state','country']]"
      ]
    },
    {
      "cell_type": "code",
      "source": [
        "so_locations = system_output[['city','country']].value_counts(ascending=False).reset_index(name='count')[['city','country']]"
      ],
      "metadata": {
        "id": "JemdkyxdQHQr"
      },
      "execution_count": null,
      "outputs": []
    },
    {
      "cell_type": "code",
      "source": [
        "so_locations"
      ],
      "metadata": {
        "colab": {
          "base_uri": "https://localhost:8080/",
          "height": 424
        },
        "id": "jiebJTphQMKw",
        "outputId": "7bf59cf7-d9e6-40ac-f876-96ca591b7a8b"
      },
      "execution_count": null,
      "outputs": [
        {
          "output_type": "execute_result",
          "data": {
            "text/plain": [
              "                city country\n",
              "0     Kherson Oblast     UKR\n",
              "1            Bakhmut     UKR\n",
              "2            Ukraine     UKR\n",
              "3            Kharkiv     UKR\n",
              "4    Sievierodonetsk     UKR\n",
              "..               ...     ...\n",
              "142        Logvinovo     RUS\n",
              "143            Liman     AZE\n",
              "144       La Bandera     MEX\n",
              "145             Kyiv     UKR\n",
              "146     'Asir Region     SAU\n",
              "\n",
              "[147 rows x 2 columns]"
            ],
            "text/html": [
              "\n",
              "\n",
              "  <div id=\"df-e1ebcfcf-de34-4746-85e7-87df002ef16b\">\n",
              "    <div class=\"colab-df-container\">\n",
              "      <div>\n",
              "<style scoped>\n",
              "    .dataframe tbody tr th:only-of-type {\n",
              "        vertical-align: middle;\n",
              "    }\n",
              "\n",
              "    .dataframe tbody tr th {\n",
              "        vertical-align: top;\n",
              "    }\n",
              "\n",
              "    .dataframe thead th {\n",
              "        text-align: right;\n",
              "    }\n",
              "</style>\n",
              "<table border=\"1\" class=\"dataframe\">\n",
              "  <thead>\n",
              "    <tr style=\"text-align: right;\">\n",
              "      <th></th>\n",
              "      <th>city</th>\n",
              "      <th>country</th>\n",
              "    </tr>\n",
              "  </thead>\n",
              "  <tbody>\n",
              "    <tr>\n",
              "      <th>0</th>\n",
              "      <td>Kherson Oblast</td>\n",
              "      <td>UKR</td>\n",
              "    </tr>\n",
              "    <tr>\n",
              "      <th>1</th>\n",
              "      <td>Bakhmut</td>\n",
              "      <td>UKR</td>\n",
              "    </tr>\n",
              "    <tr>\n",
              "      <th>2</th>\n",
              "      <td>Ukraine</td>\n",
              "      <td>UKR</td>\n",
              "    </tr>\n",
              "    <tr>\n",
              "      <th>3</th>\n",
              "      <td>Kharkiv</td>\n",
              "      <td>UKR</td>\n",
              "    </tr>\n",
              "    <tr>\n",
              "      <th>4</th>\n",
              "      <td>Sievierodonetsk</td>\n",
              "      <td>UKR</td>\n",
              "    </tr>\n",
              "    <tr>\n",
              "      <th>...</th>\n",
              "      <td>...</td>\n",
              "      <td>...</td>\n",
              "    </tr>\n",
              "    <tr>\n",
              "      <th>142</th>\n",
              "      <td>Logvinovo</td>\n",
              "      <td>RUS</td>\n",
              "    </tr>\n",
              "    <tr>\n",
              "      <th>143</th>\n",
              "      <td>Liman</td>\n",
              "      <td>AZE</td>\n",
              "    </tr>\n",
              "    <tr>\n",
              "      <th>144</th>\n",
              "      <td>La Bandera</td>\n",
              "      <td>MEX</td>\n",
              "    </tr>\n",
              "    <tr>\n",
              "      <th>145</th>\n",
              "      <td>Kyiv</td>\n",
              "      <td>UKR</td>\n",
              "    </tr>\n",
              "    <tr>\n",
              "      <th>146</th>\n",
              "      <td>'Asir Region</td>\n",
              "      <td>SAU</td>\n",
              "    </tr>\n",
              "  </tbody>\n",
              "</table>\n",
              "<p>147 rows × 2 columns</p>\n",
              "</div>\n",
              "      <button class=\"colab-df-convert\" onclick=\"convertToInteractive('df-e1ebcfcf-de34-4746-85e7-87df002ef16b')\"\n",
              "              title=\"Convert this dataframe to an interactive table.\"\n",
              "              style=\"display:none;\">\n",
              "\n",
              "  <svg xmlns=\"http://www.w3.org/2000/svg\" height=\"24px\"viewBox=\"0 0 24 24\"\n",
              "       width=\"24px\">\n",
              "    <path d=\"M0 0h24v24H0V0z\" fill=\"none\"/>\n",
              "    <path d=\"M18.56 5.44l.94 2.06.94-2.06 2.06-.94-2.06-.94-.94-2.06-.94 2.06-2.06.94zm-11 1L8.5 8.5l.94-2.06 2.06-.94-2.06-.94L8.5 2.5l-.94 2.06-2.06.94zm10 10l.94 2.06.94-2.06 2.06-.94-2.06-.94-.94-2.06-.94 2.06-2.06.94z\"/><path d=\"M17.41 7.96l-1.37-1.37c-.4-.4-.92-.59-1.43-.59-.52 0-1.04.2-1.43.59L10.3 9.45l-7.72 7.72c-.78.78-.78 2.05 0 2.83L4 21.41c.39.39.9.59 1.41.59.51 0 1.02-.2 1.41-.59l7.78-7.78 2.81-2.81c.8-.78.8-2.07 0-2.86zM5.41 20L4 18.59l7.72-7.72 1.47 1.35L5.41 20z\"/>\n",
              "  </svg>\n",
              "      </button>\n",
              "\n",
              "\n",
              "\n",
              "    <div id=\"df-31fb3c64-0b15-4484-9137-3b67f0b68c2b\">\n",
              "      <button class=\"colab-df-quickchart\" onclick=\"quickchart('df-31fb3c64-0b15-4484-9137-3b67f0b68c2b')\"\n",
              "              title=\"Suggest charts.\"\n",
              "              style=\"display:none;\">\n",
              "\n",
              "<svg xmlns=\"http://www.w3.org/2000/svg\" height=\"24px\"viewBox=\"0 0 24 24\"\n",
              "     width=\"24px\">\n",
              "    <g>\n",
              "        <path d=\"M19 3H5c-1.1 0-2 .9-2 2v14c0 1.1.9 2 2 2h14c1.1 0 2-.9 2-2V5c0-1.1-.9-2-2-2zM9 17H7v-7h2v7zm4 0h-2V7h2v10zm4 0h-2v-4h2v4z\"/>\n",
              "    </g>\n",
              "</svg>\n",
              "      </button>\n",
              "    </div>\n",
              "\n",
              "<style>\n",
              "  .colab-df-quickchart {\n",
              "    background-color: #E8F0FE;\n",
              "    border: none;\n",
              "    border-radius: 50%;\n",
              "    cursor: pointer;\n",
              "    display: none;\n",
              "    fill: #1967D2;\n",
              "    height: 32px;\n",
              "    padding: 0 0 0 0;\n",
              "    width: 32px;\n",
              "  }\n",
              "\n",
              "  .colab-df-quickchart:hover {\n",
              "    background-color: #E2EBFA;\n",
              "    box-shadow: 0px 1px 2px rgba(60, 64, 67, 0.3), 0px 1px 3px 1px rgba(60, 64, 67, 0.15);\n",
              "    fill: #174EA6;\n",
              "  }\n",
              "\n",
              "  [theme=dark] .colab-df-quickchart {\n",
              "    background-color: #3B4455;\n",
              "    fill: #D2E3FC;\n",
              "  }\n",
              "\n",
              "  [theme=dark] .colab-df-quickchart:hover {\n",
              "    background-color: #434B5C;\n",
              "    box-shadow: 0px 1px 3px 1px rgba(0, 0, 0, 0.15);\n",
              "    filter: drop-shadow(0px 1px 2px rgba(0, 0, 0, 0.3));\n",
              "    fill: #FFFFFF;\n",
              "  }\n",
              "</style>\n",
              "\n",
              "    <script>\n",
              "      async function quickchart(key) {\n",
              "        const containerElement = document.querySelector('#' + key);\n",
              "        const charts = await google.colab.kernel.invokeFunction(\n",
              "            'suggestCharts', [key], {});\n",
              "      }\n",
              "    </script>\n",
              "\n",
              "      <script>\n",
              "\n",
              "function displayQuickchartButton(domScope) {\n",
              "  let quickchartButtonEl =\n",
              "    domScope.querySelector('#df-31fb3c64-0b15-4484-9137-3b67f0b68c2b button.colab-df-quickchart');\n",
              "  quickchartButtonEl.style.display =\n",
              "    google.colab.kernel.accessAllowed ? 'block' : 'none';\n",
              "}\n",
              "\n",
              "        displayQuickchartButton(document);\n",
              "      </script>\n",
              "      <style>\n",
              "    .colab-df-container {\n",
              "      display:flex;\n",
              "      flex-wrap:wrap;\n",
              "      gap: 12px;\n",
              "    }\n",
              "\n",
              "    .colab-df-convert {\n",
              "      background-color: #E8F0FE;\n",
              "      border: none;\n",
              "      border-radius: 50%;\n",
              "      cursor: pointer;\n",
              "      display: none;\n",
              "      fill: #1967D2;\n",
              "      height: 32px;\n",
              "      padding: 0 0 0 0;\n",
              "      width: 32px;\n",
              "    }\n",
              "\n",
              "    .colab-df-convert:hover {\n",
              "      background-color: #E2EBFA;\n",
              "      box-shadow: 0px 1px 2px rgba(60, 64, 67, 0.3), 0px 1px 3px 1px rgba(60, 64, 67, 0.15);\n",
              "      fill: #174EA6;\n",
              "    }\n",
              "\n",
              "    [theme=dark] .colab-df-convert {\n",
              "      background-color: #3B4455;\n",
              "      fill: #D2E3FC;\n",
              "    }\n",
              "\n",
              "    [theme=dark] .colab-df-convert:hover {\n",
              "      background-color: #434B5C;\n",
              "      box-shadow: 0px 1px 3px 1px rgba(0, 0, 0, 0.15);\n",
              "      filter: drop-shadow(0px 1px 2px rgba(0, 0, 0, 0.3));\n",
              "      fill: #FFFFFF;\n",
              "    }\n",
              "  </style>\n",
              "\n",
              "      <script>\n",
              "        const buttonEl =\n",
              "          document.querySelector('#df-e1ebcfcf-de34-4746-85e7-87df002ef16b button.colab-df-convert');\n",
              "        buttonEl.style.display =\n",
              "          google.colab.kernel.accessAllowed ? 'block' : 'none';\n",
              "\n",
              "        async function convertToInteractive(key) {\n",
              "          const element = document.querySelector('#df-e1ebcfcf-de34-4746-85e7-87df002ef16b');\n",
              "          const dataTable =\n",
              "            await google.colab.kernel.invokeFunction('convertToInteractive',\n",
              "                                                     [key], {});\n",
              "          if (!dataTable) return;\n",
              "\n",
              "          const docLinkHtml = 'Like what you see? Visit the ' +\n",
              "            '<a target=\"_blank\" href=https://colab.research.google.com/notebooks/data_table.ipynb>data table notebook</a>'\n",
              "            + ' to learn more about interactive tables.';\n",
              "          element.innerHTML = '';\n",
              "          dataTable['output_type'] = 'display_data';\n",
              "          await google.colab.output.renderOutput(dataTable, element);\n",
              "          const docLink = document.createElement('div');\n",
              "          docLink.innerHTML = docLinkHtml;\n",
              "          element.appendChild(docLink);\n",
              "        }\n",
              "      </script>\n",
              "    </div>\n",
              "  </div>\n"
            ]
          },
          "metadata": {},
          "execution_count": 24
        }
      ]
    },
    {
      "cell_type": "code",
      "execution_count": null,
      "metadata": {
        "id": "-WYsu-h58Jva"
      },
      "outputs": [],
      "source": [
        "#so_results = [geolocator.geocode(make_structured_query(x,y,z)) if geolocator.geocode(make_structured_query(x,y,z)) is not None else geolocator.geocode(x + \",\" + y + \",\" + z)  for x, y, z in so_locations[['city','state','country']].to_numpy()]\n"
      ]
    },
    {
      "cell_type": "code",
      "source": [
        "so_results = [geolocator.geocode(make_structured_query(x,'',z)) if geolocator.geocode(make_structured_query(x,'',z)) is not None else geolocator.geocode(x + \",\" + '' + \",\" + z)  for x, z in so_locations[['city','country']].to_numpy()]\n"
      ],
      "metadata": {
        "id": "BM4zE6CVQlqq"
      },
      "execution_count": null,
      "outputs": []
    },
    {
      "cell_type": "code",
      "execution_count": null,
      "metadata": {
        "id": "QV6oTo7i8Jvb"
      },
      "outputs": [],
      "source": [
        "so_locations['lat'] = [result.latitude if result is not None else 'NaN' for result in so_results]\n",
        "so_locations['lon'] = [result.longitude if result is not None else 'NaN' for result in so_results]"
      ]
    },
    {
      "cell_type": "code",
      "source": [
        "so_locations"
      ],
      "metadata": {
        "colab": {
          "base_uri": "https://localhost:8080/",
          "height": 424
        },
        "id": "Qy4G64_CyVD5",
        "outputId": "83ba3053-bad2-4b06-c653-31c1dde3c04c"
      },
      "execution_count": null,
      "outputs": [
        {
          "output_type": "execute_result",
          "data": {
            "text/plain": [
              "                city country        lat        lon\n",
              "0     Kherson Oblast     UKR        NaN        NaN\n",
              "1            Bakhmut     UKR        NaN        NaN\n",
              "2            Ukraine     UKR  49.386572   30.18246\n",
              "3            Kharkiv     UKR   48.88914  36.312881\n",
              "4    Sievierodonetsk     UKR  48.943717  38.506217\n",
              "..               ...     ...        ...        ...\n",
              "142        Logvinovo     RUS        NaN        NaN\n",
              "143            Liman     AZE        NaN        NaN\n",
              "144       La Bandera     MEX  19.585386 -98.700994\n",
              "145             Kyiv     UKR  49.386572   30.18246\n",
              "146     'Asir Region     SAU        NaN        NaN\n",
              "\n",
              "[147 rows x 4 columns]"
            ],
            "text/html": [
              "\n",
              "\n",
              "  <div id=\"df-487bb1c9-1db1-482f-8bdd-0bbbe465c1c7\">\n",
              "    <div class=\"colab-df-container\">\n",
              "      <div>\n",
              "<style scoped>\n",
              "    .dataframe tbody tr th:only-of-type {\n",
              "        vertical-align: middle;\n",
              "    }\n",
              "\n",
              "    .dataframe tbody tr th {\n",
              "        vertical-align: top;\n",
              "    }\n",
              "\n",
              "    .dataframe thead th {\n",
              "        text-align: right;\n",
              "    }\n",
              "</style>\n",
              "<table border=\"1\" class=\"dataframe\">\n",
              "  <thead>\n",
              "    <tr style=\"text-align: right;\">\n",
              "      <th></th>\n",
              "      <th>city</th>\n",
              "      <th>country</th>\n",
              "      <th>lat</th>\n",
              "      <th>lon</th>\n",
              "    </tr>\n",
              "  </thead>\n",
              "  <tbody>\n",
              "    <tr>\n",
              "      <th>0</th>\n",
              "      <td>Kherson Oblast</td>\n",
              "      <td>UKR</td>\n",
              "      <td>NaN</td>\n",
              "      <td>NaN</td>\n",
              "    </tr>\n",
              "    <tr>\n",
              "      <th>1</th>\n",
              "      <td>Bakhmut</td>\n",
              "      <td>UKR</td>\n",
              "      <td>NaN</td>\n",
              "      <td>NaN</td>\n",
              "    </tr>\n",
              "    <tr>\n",
              "      <th>2</th>\n",
              "      <td>Ukraine</td>\n",
              "      <td>UKR</td>\n",
              "      <td>49.386572</td>\n",
              "      <td>30.18246</td>\n",
              "    </tr>\n",
              "    <tr>\n",
              "      <th>3</th>\n",
              "      <td>Kharkiv</td>\n",
              "      <td>UKR</td>\n",
              "      <td>48.88914</td>\n",
              "      <td>36.312881</td>\n",
              "    </tr>\n",
              "    <tr>\n",
              "      <th>4</th>\n",
              "      <td>Sievierodonetsk</td>\n",
              "      <td>UKR</td>\n",
              "      <td>48.943717</td>\n",
              "      <td>38.506217</td>\n",
              "    </tr>\n",
              "    <tr>\n",
              "      <th>...</th>\n",
              "      <td>...</td>\n",
              "      <td>...</td>\n",
              "      <td>...</td>\n",
              "      <td>...</td>\n",
              "    </tr>\n",
              "    <tr>\n",
              "      <th>142</th>\n",
              "      <td>Logvinovo</td>\n",
              "      <td>RUS</td>\n",
              "      <td>NaN</td>\n",
              "      <td>NaN</td>\n",
              "    </tr>\n",
              "    <tr>\n",
              "      <th>143</th>\n",
              "      <td>Liman</td>\n",
              "      <td>AZE</td>\n",
              "      <td>NaN</td>\n",
              "      <td>NaN</td>\n",
              "    </tr>\n",
              "    <tr>\n",
              "      <th>144</th>\n",
              "      <td>La Bandera</td>\n",
              "      <td>MEX</td>\n",
              "      <td>19.585386</td>\n",
              "      <td>-98.700994</td>\n",
              "    </tr>\n",
              "    <tr>\n",
              "      <th>145</th>\n",
              "      <td>Kyiv</td>\n",
              "      <td>UKR</td>\n",
              "      <td>49.386572</td>\n",
              "      <td>30.18246</td>\n",
              "    </tr>\n",
              "    <tr>\n",
              "      <th>146</th>\n",
              "      <td>'Asir Region</td>\n",
              "      <td>SAU</td>\n",
              "      <td>NaN</td>\n",
              "      <td>NaN</td>\n",
              "    </tr>\n",
              "  </tbody>\n",
              "</table>\n",
              "<p>147 rows × 4 columns</p>\n",
              "</div>\n",
              "      <button class=\"colab-df-convert\" onclick=\"convertToInteractive('df-487bb1c9-1db1-482f-8bdd-0bbbe465c1c7')\"\n",
              "              title=\"Convert this dataframe to an interactive table.\"\n",
              "              style=\"display:none;\">\n",
              "\n",
              "  <svg xmlns=\"http://www.w3.org/2000/svg\" height=\"24px\"viewBox=\"0 0 24 24\"\n",
              "       width=\"24px\">\n",
              "    <path d=\"M0 0h24v24H0V0z\" fill=\"none\"/>\n",
              "    <path d=\"M18.56 5.44l.94 2.06.94-2.06 2.06-.94-2.06-.94-.94-2.06-.94 2.06-2.06.94zm-11 1L8.5 8.5l.94-2.06 2.06-.94-2.06-.94L8.5 2.5l-.94 2.06-2.06.94zm10 10l.94 2.06.94-2.06 2.06-.94-2.06-.94-.94-2.06-.94 2.06-2.06.94z\"/><path d=\"M17.41 7.96l-1.37-1.37c-.4-.4-.92-.59-1.43-.59-.52 0-1.04.2-1.43.59L10.3 9.45l-7.72 7.72c-.78.78-.78 2.05 0 2.83L4 21.41c.39.39.9.59 1.41.59.51 0 1.02-.2 1.41-.59l7.78-7.78 2.81-2.81c.8-.78.8-2.07 0-2.86zM5.41 20L4 18.59l7.72-7.72 1.47 1.35L5.41 20z\"/>\n",
              "  </svg>\n",
              "      </button>\n",
              "\n",
              "\n",
              "\n",
              "    <div id=\"df-4d3a0af3-708c-4a1b-a946-103eadd22c3f\">\n",
              "      <button class=\"colab-df-quickchart\" onclick=\"quickchart('df-4d3a0af3-708c-4a1b-a946-103eadd22c3f')\"\n",
              "              title=\"Suggest charts.\"\n",
              "              style=\"display:none;\">\n",
              "\n",
              "<svg xmlns=\"http://www.w3.org/2000/svg\" height=\"24px\"viewBox=\"0 0 24 24\"\n",
              "     width=\"24px\">\n",
              "    <g>\n",
              "        <path d=\"M19 3H5c-1.1 0-2 .9-2 2v14c0 1.1.9 2 2 2h14c1.1 0 2-.9 2-2V5c0-1.1-.9-2-2-2zM9 17H7v-7h2v7zm4 0h-2V7h2v10zm4 0h-2v-4h2v4z\"/>\n",
              "    </g>\n",
              "</svg>\n",
              "      </button>\n",
              "    </div>\n",
              "\n",
              "<style>\n",
              "  .colab-df-quickchart {\n",
              "    background-color: #E8F0FE;\n",
              "    border: none;\n",
              "    border-radius: 50%;\n",
              "    cursor: pointer;\n",
              "    display: none;\n",
              "    fill: #1967D2;\n",
              "    height: 32px;\n",
              "    padding: 0 0 0 0;\n",
              "    width: 32px;\n",
              "  }\n",
              "\n",
              "  .colab-df-quickchart:hover {\n",
              "    background-color: #E2EBFA;\n",
              "    box-shadow: 0px 1px 2px rgba(60, 64, 67, 0.3), 0px 1px 3px 1px rgba(60, 64, 67, 0.15);\n",
              "    fill: #174EA6;\n",
              "  }\n",
              "\n",
              "  [theme=dark] .colab-df-quickchart {\n",
              "    background-color: #3B4455;\n",
              "    fill: #D2E3FC;\n",
              "  }\n",
              "\n",
              "  [theme=dark] .colab-df-quickchart:hover {\n",
              "    background-color: #434B5C;\n",
              "    box-shadow: 0px 1px 3px 1px rgba(0, 0, 0, 0.15);\n",
              "    filter: drop-shadow(0px 1px 2px rgba(0, 0, 0, 0.3));\n",
              "    fill: #FFFFFF;\n",
              "  }\n",
              "</style>\n",
              "\n",
              "    <script>\n",
              "      async function quickchart(key) {\n",
              "        const containerElement = document.querySelector('#' + key);\n",
              "        const charts = await google.colab.kernel.invokeFunction(\n",
              "            'suggestCharts', [key], {});\n",
              "      }\n",
              "    </script>\n",
              "\n",
              "      <script>\n",
              "\n",
              "function displayQuickchartButton(domScope) {\n",
              "  let quickchartButtonEl =\n",
              "    domScope.querySelector('#df-4d3a0af3-708c-4a1b-a946-103eadd22c3f button.colab-df-quickchart');\n",
              "  quickchartButtonEl.style.display =\n",
              "    google.colab.kernel.accessAllowed ? 'block' : 'none';\n",
              "}\n",
              "\n",
              "        displayQuickchartButton(document);\n",
              "      </script>\n",
              "      <style>\n",
              "    .colab-df-container {\n",
              "      display:flex;\n",
              "      flex-wrap:wrap;\n",
              "      gap: 12px;\n",
              "    }\n",
              "\n",
              "    .colab-df-convert {\n",
              "      background-color: #E8F0FE;\n",
              "      border: none;\n",
              "      border-radius: 50%;\n",
              "      cursor: pointer;\n",
              "      display: none;\n",
              "      fill: #1967D2;\n",
              "      height: 32px;\n",
              "      padding: 0 0 0 0;\n",
              "      width: 32px;\n",
              "    }\n",
              "\n",
              "    .colab-df-convert:hover {\n",
              "      background-color: #E2EBFA;\n",
              "      box-shadow: 0px 1px 2px rgba(60, 64, 67, 0.3), 0px 1px 3px 1px rgba(60, 64, 67, 0.15);\n",
              "      fill: #174EA6;\n",
              "    }\n",
              "\n",
              "    [theme=dark] .colab-df-convert {\n",
              "      background-color: #3B4455;\n",
              "      fill: #D2E3FC;\n",
              "    }\n",
              "\n",
              "    [theme=dark] .colab-df-convert:hover {\n",
              "      background-color: #434B5C;\n",
              "      box-shadow: 0px 1px 3px 1px rgba(0, 0, 0, 0.15);\n",
              "      filter: drop-shadow(0px 1px 2px rgba(0, 0, 0, 0.3));\n",
              "      fill: #FFFFFF;\n",
              "    }\n",
              "  </style>\n",
              "\n",
              "      <script>\n",
              "        const buttonEl =\n",
              "          document.querySelector('#df-487bb1c9-1db1-482f-8bdd-0bbbe465c1c7 button.colab-df-convert');\n",
              "        buttonEl.style.display =\n",
              "          google.colab.kernel.accessAllowed ? 'block' : 'none';\n",
              "\n",
              "        async function convertToInteractive(key) {\n",
              "          const element = document.querySelector('#df-487bb1c9-1db1-482f-8bdd-0bbbe465c1c7');\n",
              "          const dataTable =\n",
              "            await google.colab.kernel.invokeFunction('convertToInteractive',\n",
              "                                                     [key], {});\n",
              "          if (!dataTable) return;\n",
              "\n",
              "          const docLinkHtml = 'Like what you see? Visit the ' +\n",
              "            '<a target=\"_blank\" href=https://colab.research.google.com/notebooks/data_table.ipynb>data table notebook</a>'\n",
              "            + ' to learn more about interactive tables.';\n",
              "          element.innerHTML = '';\n",
              "          dataTable['output_type'] = 'display_data';\n",
              "          await google.colab.output.renderOutput(dataTable, element);\n",
              "          const docLink = document.createElement('div');\n",
              "          docLink.innerHTML = docLinkHtml;\n",
              "          element.appendChild(docLink);\n",
              "        }\n",
              "      </script>\n",
              "    </div>\n",
              "  </div>\n"
            ]
          },
          "metadata": {},
          "execution_count": 51
        }
      ]
    },
    {
      "cell_type": "code",
      "execution_count": null,
      "metadata": {
        "id": "cm3wPzZK8Jvb"
      },
      "outputs": [],
      "source": [
        "so_locations.to_csv(\"/content/drive/MyDrive/Colab Notebooks/CASE2023_Task2/SYSTEM_SUBMISSIONS/mordecai/OSMNormalizedLocations.submission.mordecai.news.1.csv\",index=False)"
      ]
    },
    {
      "cell_type": "code",
      "execution_count": null,
      "metadata": {
        "id": "TVA1JnQ-8Jvc"
      },
      "outputs": [],
      "source": [
        "#system_output['lat'] = [ so_locations.loc[(so_locations['city'] == x) & (so_locations['state'] == y) & (so_locations['country'] == z), 'lat'].iloc[0]  for x,y,z in system_output[['city','state','country']].to_numpy()]\n",
        "#system_output['lon'] = [ so_locations.loc[(so_locations['city'] == x) & (so_locations['state'] == y) & (so_locations['country'] == z), 'lon'].iloc[0]  for x,y,z in system_output[['city','state','country']].to_numpy()]"
      ]
    },
    {
      "cell_type": "code",
      "source": [
        "system_output['lat'] = [ so_locations.loc[(so_locations['city'] == x) &  (so_locations['country'] == z), 'lat'].iloc[0]  for x,z in system_output[['city','country']].to_numpy()]\n",
        "system_output['lon'] = [ so_locations.loc[(so_locations['city'] == x) &  (so_locations['country'] == z), 'lon'].iloc[0]  for x,z in system_output[['city','country']].to_numpy()]"
      ],
      "metadata": {
        "colab": {
          "base_uri": "https://localhost:8080/"
        },
        "id": "exRMhuR3x-UF",
        "outputId": "01c0be83-4c26-418d-92fa-2e82362b5323"
      },
      "execution_count": null,
      "outputs": [
        {
          "output_type": "stream",
          "name": "stderr",
          "text": [
            "<ipython-input-50-7f322890b6a3>:1: SettingWithCopyWarning: \n",
            "A value is trying to be set on a copy of a slice from a DataFrame.\n",
            "Try using .loc[row_indexer,col_indexer] = value instead\n",
            "\n",
            "See the caveats in the documentation: https://pandas.pydata.org/pandas-docs/stable/user_guide/indexing.html#returning-a-view-versus-a-copy\n",
            "  system_output['lat'] = [ so_locations.loc[(so_locations['city'] == x) &  (so_locations['country'] == z), 'lat'].iloc[0]  for x,z in system_output[['city','country']].to_numpy()]\n",
            "<ipython-input-50-7f322890b6a3>:2: SettingWithCopyWarning: \n",
            "A value is trying to be set on a copy of a slice from a DataFrame.\n",
            "Try using .loc[row_indexer,col_indexer] = value instead\n",
            "\n",
            "See the caveats in the documentation: https://pandas.pydata.org/pandas-docs/stable/user_guide/indexing.html#returning-a-view-versus-a-copy\n",
            "  system_output['lon'] = [ so_locations.loc[(so_locations['city'] == x) &  (so_locations['country'] == z), 'lon'].iloc[0]  for x,z in system_output[['city','country']].to_numpy()]\n"
          ]
        }
      ]
    },
    {
      "cell_type": "code",
      "source": [
        "system_output_expanded.to_csv(\"/content/drive/MyDrive/Colab Notebooks/CASE2023_Task2/SYSTEM_SUBMISSIONS/mordecai/submission.mordecai.news.2.OSMNormalized.csv\",index=False)"
      ],
      "metadata": {
        "id": "-oX31OIHc6g4"
      },
      "execution_count": 16,
      "outputs": []
    },
    {
      "cell_type": "code",
      "source": [
        "len(system_output_expanded)"
      ],
      "metadata": {
        "id": "H9-S7Ub0ljsV",
        "colab": {
          "base_uri": "https://localhost:8080/"
        },
        "outputId": "32f3c7b9-2be4-44cd-cf16-2c665d088527"
      },
      "execution_count": 17,
      "outputs": [
        {
          "output_type": "execute_result",
          "data": {
            "text/plain": [
              "368"
            ]
          },
          "metadata": {},
          "execution_count": 17
        }
      ]
    },
    {
      "cell_type": "markdown",
      "metadata": {
        "id": "X6avM5zY8Jvc"
      },
      "source": [
        "### Gold Standard File"
      ]
    },
    {
      "cell_type": "code",
      "execution_count": 18,
      "metadata": {
        "id": "6o3zxg0M8Jvd",
        "colab": {
          "base_uri": "https://localhost:8080/"
        },
        "outputId": "33b25558-7e19-49f7-f3cd-c1b17e1bffd1"
      },
      "outputs": [
        {
          "output_type": "stream",
          "name": "stdout",
          "text": [
            "loading system submission data from excel file: /content/drive/MyDrive/Colab Notebooks/CASE2023_Task2/GOLD_STANDARD/ACLED22.4-22.08.22.xlsx\n"
          ]
        }
      ],
      "source": [
        "gs = load_system_submission(\"/content/drive/MyDrive/Colab Notebooks/CASE2023_Task2\",\"GOLD_STANDARD\",\"ACLED22.4-22.08.22.xlsx\",0)\n",
        "#df.columns =['id','city', 'state', 'country', 'date','url']\n"
      ]
    },
    {
      "cell_type": "code",
      "execution_count": 19,
      "metadata": {
        "id": "7YtW9HSY8Jvd",
        "colab": {
          "base_uri": "https://localhost:8080/"
        },
        "outputId": "8c7d6fba-428c-49ec-8aa2-178f46b3c6c2"
      },
      "outputs": [
        {
          "output_type": "execute_result",
          "data": {
            "text/plain": [
              "18261"
            ]
          },
          "metadata": {},
          "execution_count": 19
        }
      ],
      "source": [
        "len(gs)"
      ]
    },
    {
      "cell_type": "code",
      "source": [
        "gs.tail()"
      ],
      "metadata": {
        "id": "NV2AmYk2GDOj"
      },
      "execution_count": null,
      "outputs": []
    },
    {
      "cell_type": "code",
      "execution_count": 20,
      "metadata": {
        "id": "HOAJ3x6i8Jvd"
      },
      "outputs": [],
      "source": [
        "locations_gs = gs[['LOCATION','ADMIN1','COUNTRY']].value_counts(ascending=False).reset_index(name='count')[['LOCATION','ADMIN1','COUNTRY']]"
      ]
    },
    {
      "cell_type": "code",
      "source": [
        "len(locations_gs)"
      ],
      "metadata": {
        "id": "6UIe49lLt2kf",
        "colab": {
          "base_uri": "https://localhost:8080/"
        },
        "outputId": "6d513d1c-cbc1-493c-93d7-7922d2d4590a"
      },
      "execution_count": 21,
      "outputs": [
        {
          "output_type": "execute_result",
          "data": {
            "text/plain": [
              "1681"
            ]
          },
          "metadata": {},
          "execution_count": 21
        }
      ]
    },
    {
      "cell_type": "code",
      "execution_count": null,
      "metadata": {
        "id": "-LTuNwGJ8Jve"
      },
      "outputs": [],
      "source": [
        "# Iterating over two columns, use `zip`\n",
        "#results_gs = [geolocator.geocode(make_structured_query(x,y,z)) if geolocator.geocode(make_structured_query(x,y,z)) is not None else geolocator.geocode(x + \",\" + y + \",\" + z) for x, y, z in locations_gs[['LOCATION','ADMIN1','COUNTRY']].to_numpy()]\n"
      ]
    },
    {
      "cell_type": "code",
      "source": [
        "#results_gs"
      ],
      "metadata": {
        "id": "G9GlA8hUtsPP"
      },
      "execution_count": null,
      "outputs": []
    },
    {
      "cell_type": "code",
      "execution_count": null,
      "metadata": {
        "id": "Kxw4VQSV8Jve"
      },
      "outputs": [],
      "source": [
        "#locations_gs['lat'] = [result.latitude if result is not None else 'NaN' for result in results_gs]\n",
        "#locations_gs['lon'] = [result.longitude if result is not None else 'NaN' for result in results_gs]"
      ]
    },
    {
      "cell_type": "code",
      "source": [
        "#len(locations_gs)"
      ],
      "metadata": {
        "id": "UgiUMQjFoMKH"
      },
      "execution_count": null,
      "outputs": []
    },
    {
      "cell_type": "code",
      "source": [
        "#locations_gs.head()"
      ],
      "metadata": {
        "id": "fjbhowszkMSS"
      },
      "execution_count": null,
      "outputs": []
    },
    {
      "cell_type": "code",
      "source": [
        "locations_gs.to_csv(\"/content/drive/MyDrive/Colab Notebooks/CASE2023_Task2/GOLD_STANDARD/OSMNormalizedLocations.csv\",index=False)"
      ],
      "metadata": {
        "id": "DUordibQ5AY2"
      },
      "execution_count": null,
      "outputs": []
    },
    {
      "cell_type": "code",
      "source": [
        "locations_gs = pd.read_csv(\"/content/drive/MyDrive/Colab Notebooks/CASE2023_Task2/GOLD_STANDARD/OSMNormalizedLocations.csv\",header=0)"
      ],
      "metadata": {
        "id": "BR2e6iQXaFWe"
      },
      "execution_count": 23,
      "outputs": []
    },
    {
      "cell_type": "code",
      "execution_count": 24,
      "metadata": {
        "id": "hS0Vnw608Jve"
      },
      "outputs": [],
      "source": [
        "gs['lat'] = [ locations_gs.loc[(locations_gs['LOCATION'] == x) & (locations_gs['ADMIN1'] == y) & (locations_gs['COUNTRY'] == z)].iloc[0]['lat'] if len(locations_gs.loc[(locations_gs['LOCATION'] == x) & (locations_gs['ADMIN1'] == y) & (locations_gs['COUNTRY'] == z)])!=0 else float('nan') for x,y,z in gs[['LOCATION','ADMIN1','COUNTRY']].to_numpy() ]\n",
        "gs['lon'] = [ locations_gs.loc[(locations_gs['LOCATION'] == x) & (locations_gs['ADMIN1'] == y) & (locations_gs['COUNTRY'] == z)].iloc[0]['lon'] if len(locations_gs.loc[(locations_gs['LOCATION'] == x) & (locations_gs['ADMIN1'] == y) & (locations_gs['COUNTRY'] == z)])!=0 else float('nan') for x,y,z in gs[['LOCATION','ADMIN1','COUNTRY']].to_numpy()]"
      ]
    },
    {
      "cell_type": "code",
      "execution_count": null,
      "metadata": {
        "id": "mFC0Qefu8Jve"
      },
      "outputs": [],
      "source": [
        "gs.head(3)"
      ]
    },
    {
      "cell_type": "code",
      "source": [
        "gs['EVENT_ID_NO_CNTY']=gs.index"
      ],
      "metadata": {
        "id": "HCvaMlWNmIN_"
      },
      "execution_count": 26,
      "outputs": []
    },
    {
      "cell_type": "code",
      "source": [
        "gs.columns"
      ],
      "metadata": {
        "id": "t5aTnyeamXy3"
      },
      "execution_count": null,
      "outputs": []
    },
    {
      "cell_type": "code",
      "source": [
        "gs.to_csv(\"/content/drive/MyDrive/Colab Notebooks/CASE2023_Task2/GOLD_STANDARD/russo-ukrainian_conflict.OSMNormalized.csv\",index=False)"
      ],
      "metadata": {
        "id": "iAEkCOXueeeY"
      },
      "execution_count": 28,
      "outputs": []
    },
    {
      "cell_type": "markdown",
      "metadata": {
        "id": "h0bMRByn8Jvf"
      },
      "source": [
        "## PRIO-GRID normalization"
      ]
    },
    {
      "cell_type": "markdown",
      "metadata": {
        "id": "8TC2t90b8Jvf"
      },
      "source": [
        "We join event point shapefiles with a PRIO-GRID shapefile. PRIO-GRID is a vector grid network with a resolution of 0.5 x 0.5 decimal degrees (~55 km), covering all terrestrial areas of the world.\n",
        "The following code is the equivalent of the following QGIS procedure:\n",
        "Menu > Vector > Data Management Tools > Join attributes by location\n",
        "Target : points layer, Join layer: polygons layer. That way info from your districts goes into your points Geometric predicate : Check ON all the options: intersects, touches etc. I haven't looked further into this yet but just one option had not worked out earlier.\n",
        "Attributes summary : Take attributes of first located feature Joined table :\n",
        "Keep all records ... that will preserve the points that were outside of all the wards too"
      ]
    },
    {
      "cell_type": "markdown",
      "source": [
        "### Loading the PRIOGrid shape file"
      ],
      "metadata": {
        "id": "RBLUui0HYBF6"
      }
    },
    {
      "cell_type": "code",
      "execution_count": 29,
      "metadata": {
        "colab": {
          "base_uri": "https://localhost:8080/"
        },
        "id": "poQnzjUa8Jvg",
        "outputId": "3f63cf1e-51e5-4bcc-fa43-e91928d60094"
      },
      "outputs": [
        {
          "output_type": "stream",
          "name": "stdout",
          "text": [
            "time to read the priogrid shape file = 1.1022597233454385 minutes\n"
          ]
        }
      ],
      "source": [
        "tic = time.time()\n",
        "fp = \"/content/drive/MyDrive/Colab Notebooks/CASE2022_Task2/priogrid_shapefiles/priogrid_cell.shp\"\n",
        "\n",
        "# Read the data\n",
        "priogrid = gpd.read_file(fp)\n",
        "priogrid.set_crs(\"EPSG:4326\")\n",
        "toc = time.time()\n",
        "print('time to read the priogrid shape file = ' + str((toc - tic)/60) + ' minutes' )\n",
        "\n",
        "selected_cols = ['gid', 'geometry']\n",
        "priogrid = priogrid[selected_cols]"
      ]
    },
    {
      "cell_type": "code",
      "source": [
        "priogrid.head()\n"
      ],
      "metadata": {
        "id": "ZBtJKqaFkcSH",
        "colab": {
          "base_uri": "https://localhost:8080/",
          "height": 206
        },
        "outputId": "c8abcd74-57c0-4507-943c-bafb934181f8"
      },
      "execution_count": 30,
      "outputs": [
        {
          "output_type": "execute_result",
          "data": {
            "text/plain": [
              "      gid                                           geometry\n",
              "0  259168  POLYGON ((163.50000 89.50000, 163.50000 90.000...\n",
              "1  259169  POLYGON ((164.00000 89.50000, 164.00000 90.000...\n",
              "2  259170  POLYGON ((164.50000 89.50000, 164.50000 90.000...\n",
              "3  259171  POLYGON ((165.00000 89.50000, 165.00000 90.000...\n",
              "4  259172  POLYGON ((165.50000 89.50000, 165.50000 90.000..."
            ],
            "text/html": [
              "\n",
              "\n",
              "  <div id=\"df-d46dabd3-b583-4f37-929c-833ce917baf6\">\n",
              "    <div class=\"colab-df-container\">\n",
              "      <div>\n",
              "<style scoped>\n",
              "    .dataframe tbody tr th:only-of-type {\n",
              "        vertical-align: middle;\n",
              "    }\n",
              "\n",
              "    .dataframe tbody tr th {\n",
              "        vertical-align: top;\n",
              "    }\n",
              "\n",
              "    .dataframe thead th {\n",
              "        text-align: right;\n",
              "    }\n",
              "</style>\n",
              "<table border=\"1\" class=\"dataframe\">\n",
              "  <thead>\n",
              "    <tr style=\"text-align: right;\">\n",
              "      <th></th>\n",
              "      <th>gid</th>\n",
              "      <th>geometry</th>\n",
              "    </tr>\n",
              "  </thead>\n",
              "  <tbody>\n",
              "    <tr>\n",
              "      <th>0</th>\n",
              "      <td>259168</td>\n",
              "      <td>POLYGON ((163.50000 89.50000, 163.50000 90.000...</td>\n",
              "    </tr>\n",
              "    <tr>\n",
              "      <th>1</th>\n",
              "      <td>259169</td>\n",
              "      <td>POLYGON ((164.00000 89.50000, 164.00000 90.000...</td>\n",
              "    </tr>\n",
              "    <tr>\n",
              "      <th>2</th>\n",
              "      <td>259170</td>\n",
              "      <td>POLYGON ((164.50000 89.50000, 164.50000 90.000...</td>\n",
              "    </tr>\n",
              "    <tr>\n",
              "      <th>3</th>\n",
              "      <td>259171</td>\n",
              "      <td>POLYGON ((165.00000 89.50000, 165.00000 90.000...</td>\n",
              "    </tr>\n",
              "    <tr>\n",
              "      <th>4</th>\n",
              "      <td>259172</td>\n",
              "      <td>POLYGON ((165.50000 89.50000, 165.50000 90.000...</td>\n",
              "    </tr>\n",
              "  </tbody>\n",
              "</table>\n",
              "</div>\n",
              "      <button class=\"colab-df-convert\" onclick=\"convertToInteractive('df-d46dabd3-b583-4f37-929c-833ce917baf6')\"\n",
              "              title=\"Convert this dataframe to an interactive table.\"\n",
              "              style=\"display:none;\">\n",
              "\n",
              "  <svg xmlns=\"http://www.w3.org/2000/svg\" height=\"24px\"viewBox=\"0 0 24 24\"\n",
              "       width=\"24px\">\n",
              "    <path d=\"M0 0h24v24H0V0z\" fill=\"none\"/>\n",
              "    <path d=\"M18.56 5.44l.94 2.06.94-2.06 2.06-.94-2.06-.94-.94-2.06-.94 2.06-2.06.94zm-11 1L8.5 8.5l.94-2.06 2.06-.94-2.06-.94L8.5 2.5l-.94 2.06-2.06.94zm10 10l.94 2.06.94-2.06 2.06-.94-2.06-.94-.94-2.06-.94 2.06-2.06.94z\"/><path d=\"M17.41 7.96l-1.37-1.37c-.4-.4-.92-.59-1.43-.59-.52 0-1.04.2-1.43.59L10.3 9.45l-7.72 7.72c-.78.78-.78 2.05 0 2.83L4 21.41c.39.39.9.59 1.41.59.51 0 1.02-.2 1.41-.59l7.78-7.78 2.81-2.81c.8-.78.8-2.07 0-2.86zM5.41 20L4 18.59l7.72-7.72 1.47 1.35L5.41 20z\"/>\n",
              "  </svg>\n",
              "      </button>\n",
              "\n",
              "\n",
              "\n",
              "    <div id=\"df-e98305a2-536f-44e6-b054-c3a4820430da\">\n",
              "      <button class=\"colab-df-quickchart\" onclick=\"quickchart('df-e98305a2-536f-44e6-b054-c3a4820430da')\"\n",
              "              title=\"Suggest charts.\"\n",
              "              style=\"display:none;\">\n",
              "\n",
              "<svg xmlns=\"http://www.w3.org/2000/svg\" height=\"24px\"viewBox=\"0 0 24 24\"\n",
              "     width=\"24px\">\n",
              "    <g>\n",
              "        <path d=\"M19 3H5c-1.1 0-2 .9-2 2v14c0 1.1.9 2 2 2h14c1.1 0 2-.9 2-2V5c0-1.1-.9-2-2-2zM9 17H7v-7h2v7zm4 0h-2V7h2v10zm4 0h-2v-4h2v4z\"/>\n",
              "    </g>\n",
              "</svg>\n",
              "      </button>\n",
              "    </div>\n",
              "\n",
              "<style>\n",
              "  .colab-df-quickchart {\n",
              "    background-color: #E8F0FE;\n",
              "    border: none;\n",
              "    border-radius: 50%;\n",
              "    cursor: pointer;\n",
              "    display: none;\n",
              "    fill: #1967D2;\n",
              "    height: 32px;\n",
              "    padding: 0 0 0 0;\n",
              "    width: 32px;\n",
              "  }\n",
              "\n",
              "  .colab-df-quickchart:hover {\n",
              "    background-color: #E2EBFA;\n",
              "    box-shadow: 0px 1px 2px rgba(60, 64, 67, 0.3), 0px 1px 3px 1px rgba(60, 64, 67, 0.15);\n",
              "    fill: #174EA6;\n",
              "  }\n",
              "\n",
              "  [theme=dark] .colab-df-quickchart {\n",
              "    background-color: #3B4455;\n",
              "    fill: #D2E3FC;\n",
              "  }\n",
              "\n",
              "  [theme=dark] .colab-df-quickchart:hover {\n",
              "    background-color: #434B5C;\n",
              "    box-shadow: 0px 1px 3px 1px rgba(0, 0, 0, 0.15);\n",
              "    filter: drop-shadow(0px 1px 2px rgba(0, 0, 0, 0.3));\n",
              "    fill: #FFFFFF;\n",
              "  }\n",
              "</style>\n",
              "\n",
              "    <script>\n",
              "      async function quickchart(key) {\n",
              "        const containerElement = document.querySelector('#' + key);\n",
              "        const charts = await google.colab.kernel.invokeFunction(\n",
              "            'suggestCharts', [key], {});\n",
              "      }\n",
              "    </script>\n",
              "\n",
              "      <script>\n",
              "\n",
              "function displayQuickchartButton(domScope) {\n",
              "  let quickchartButtonEl =\n",
              "    domScope.querySelector('#df-e98305a2-536f-44e6-b054-c3a4820430da button.colab-df-quickchart');\n",
              "  quickchartButtonEl.style.display =\n",
              "    google.colab.kernel.accessAllowed ? 'block' : 'none';\n",
              "}\n",
              "\n",
              "        displayQuickchartButton(document);\n",
              "      </script>\n",
              "      <style>\n",
              "    .colab-df-container {\n",
              "      display:flex;\n",
              "      flex-wrap:wrap;\n",
              "      gap: 12px;\n",
              "    }\n",
              "\n",
              "    .colab-df-convert {\n",
              "      background-color: #E8F0FE;\n",
              "      border: none;\n",
              "      border-radius: 50%;\n",
              "      cursor: pointer;\n",
              "      display: none;\n",
              "      fill: #1967D2;\n",
              "      height: 32px;\n",
              "      padding: 0 0 0 0;\n",
              "      width: 32px;\n",
              "    }\n",
              "\n",
              "    .colab-df-convert:hover {\n",
              "      background-color: #E2EBFA;\n",
              "      box-shadow: 0px 1px 2px rgba(60, 64, 67, 0.3), 0px 1px 3px 1px rgba(60, 64, 67, 0.15);\n",
              "      fill: #174EA6;\n",
              "    }\n",
              "\n",
              "    [theme=dark] .colab-df-convert {\n",
              "      background-color: #3B4455;\n",
              "      fill: #D2E3FC;\n",
              "    }\n",
              "\n",
              "    [theme=dark] .colab-df-convert:hover {\n",
              "      background-color: #434B5C;\n",
              "      box-shadow: 0px 1px 3px 1px rgba(0, 0, 0, 0.15);\n",
              "      filter: drop-shadow(0px 1px 2px rgba(0, 0, 0, 0.3));\n",
              "      fill: #FFFFFF;\n",
              "    }\n",
              "  </style>\n",
              "\n",
              "      <script>\n",
              "        const buttonEl =\n",
              "          document.querySelector('#df-d46dabd3-b583-4f37-929c-833ce917baf6 button.colab-df-convert');\n",
              "        buttonEl.style.display =\n",
              "          google.colab.kernel.accessAllowed ? 'block' : 'none';\n",
              "\n",
              "        async function convertToInteractive(key) {\n",
              "          const element = document.querySelector('#df-d46dabd3-b583-4f37-929c-833ce917baf6');\n",
              "          const dataTable =\n",
              "            await google.colab.kernel.invokeFunction('convertToInteractive',\n",
              "                                                     [key], {});\n",
              "          if (!dataTable) return;\n",
              "\n",
              "          const docLinkHtml = 'Like what you see? Visit the ' +\n",
              "            '<a target=\"_blank\" href=https://colab.research.google.com/notebooks/data_table.ipynb>data table notebook</a>'\n",
              "            + ' to learn more about interactive tables.';\n",
              "          element.innerHTML = '';\n",
              "          dataTable['output_type'] = 'display_data';\n",
              "          await google.colab.output.renderOutput(dataTable, element);\n",
              "          const docLink = document.createElement('div');\n",
              "          docLink.innerHTML = docLinkHtml;\n",
              "          element.appendChild(docLink);\n",
              "        }\n",
              "      </script>\n",
              "    </div>\n",
              "  </div>\n"
            ]
          },
          "metadata": {},
          "execution_count": 30
        }
      ]
    },
    {
      "cell_type": "code",
      "source": [
        "[priogrid.loc[priogrid['gid'] == 181609]['geometry']]"
      ],
      "metadata": {
        "colab": {
          "base_uri": "https://localhost:8080/"
        },
        "id": "-CL9DrLbmG1Q",
        "outputId": "9bb2117f-b6a9-41a7-9bfc-03fb9310e7d9"
      },
      "execution_count": 31,
      "outputs": [
        {
          "output_type": "execute_result",
          "data": {
            "text/plain": [
              "[77566    POLYGON ((-96.00000 36.00000, -96.00000 36.500...\n",
              " Name: geometry, dtype: geometry]"
            ]
          },
          "metadata": {},
          "execution_count": 31
        }
      ]
    },
    {
      "cell_type": "markdown",
      "metadata": {
        "id": "ySUH_sjc8Jvh"
      },
      "source": [
        "### Loading the US country shape file ###\n",
        "\n"
      ]
    },
    {
      "cell_type": "code",
      "execution_count": null,
      "metadata": {
        "id": "g5lAE8gt8Jvh",
        "colab": {
          "base_uri": "https://localhost:8080/"
        },
        "outputId": "959136d8-9191-4a16-95e9-072c90817288"
      },
      "outputs": [
        {
          "output_type": "stream",
          "name": "stdout",
          "text": [
            "time to read the US shape file = 0.02243025302886963 minutes\n",
            "<class 'geopandas.geodataframe.GeoDataFrame'>\n",
            "RangeIndex: 1 entries, 0 to 0\n",
            "Data columns (total 3 columns):\n",
            " #   Column    Non-Null Count  Dtype   \n",
            "---  ------    --------------  -----   \n",
            " 0   GID_0     1 non-null      object  \n",
            " 1   NAME_0    1 non-null      object  \n",
            " 2   geometry  1 non-null      geometry\n",
            "dtypes: geometry(1), object(2)\n",
            "memory usage: 152.0+ bytes\n"
          ]
        }
      ],
      "source": [
        "tic = time.time()\n",
        "fp = \"/content/drive/MyDrive/Colab Notebooks/CASE2022_Task2/gadm36_USA_shp/gadm36_USA_0.shp\"\n",
        "usa = gpd.read_file(fp)\n",
        "toc = time.time()\n",
        "print('time to read the US shape file = ' + str((toc - tic)/60) + ' minutes' )\n",
        "\n",
        "usa.info()"
      ]
    },
    {
      "cell_type": "markdown",
      "source": [
        "### Loading the Ukraine and Russia country shape files ###"
      ],
      "metadata": {
        "id": "vHL80oVfpZDa"
      }
    },
    {
      "cell_type": "code",
      "source": [
        "tic = time.time()\n",
        "fp = \"/content/drive/MyDrive/Colab Notebooks/CASE2023_Task2/gis/gadm36_UKR_0.shp\"\n",
        "ukr = gpd.read_file(fp)\n",
        "toc = time.time()\n",
        "print('time to read the Ukraine shape file = ' + str((toc - tic)/60) + ' minutes' )\n",
        "\n",
        "ukr.info()"
      ],
      "metadata": {
        "id": "Rxri0vnMpe-D"
      },
      "execution_count": null,
      "outputs": []
    },
    {
      "cell_type": "code",
      "source": [
        "type(ukr.loc[0, 'geometry'])\n",
        "type(priogrid['geometry'])"
      ],
      "metadata": {
        "colab": {
          "base_uri": "https://localhost:8080/"
        },
        "id": "vtEzVwLE-8BQ",
        "outputId": "97d4c492-621e-437e-bc07-0af5a836fcd2"
      },
      "execution_count": 33,
      "outputs": [
        {
          "output_type": "execute_result",
          "data": {
            "text/plain": [
              "geopandas.geoseries.GeoSeries"
            ]
          },
          "metadata": {},
          "execution_count": 33
        }
      ]
    },
    {
      "cell_type": "code",
      "source": [
        "tic = time.time()\n",
        "fp = \"/content/drive/MyDrive/Colab Notebooks/CASE2023_Task2/gis/gadm36_RUS_0.shp\"\n",
        "rus = gpd.read_file(fp)\n",
        "toc = time.time()\n",
        "print('time to read the RUS shape file = ' + str((toc - tic)/60) + ' minutes' )\n",
        "\n",
        "rus.info()"
      ],
      "metadata": {
        "id": "tqqBNdQ8phF7"
      },
      "execution_count": null,
      "outputs": []
    },
    {
      "cell_type": "markdown",
      "metadata": {
        "id": "0YHcwv6kUHfK"
      },
      "source": [
        "### Intersection of PRIOGrid with the US country shape file"
      ]
    },
    {
      "cell_type": "code",
      "execution_count": null,
      "metadata": {
        "id": "kufjWb71UHfK"
      },
      "outputs": [],
      "source": [
        "shapely.speedups.enable()\n",
        "# enable shapely.speedups which makes queries running faster.\n",
        "\n",
        "tic = time.time()\n",
        "priogrid_mask = pd.Series()\n",
        "\n",
        "priogrid_mask = priogrid['geometry'].intersects(usa.loc[0, 'geometry'])\n",
        "priogrid_mask.to_frame().to_csv(\"/content/drive/MyDrive/Colab Notebooks/CASE2022_Task2/priogrid_shapefiles/priogrid_mask.csv\",index=False)\n",
        "# selecting the polygon's geometry field to filter out points that are not overlaid\n",
        "toc = time.time()\n",
        "print('time to execute the intersection with USA shape file = ' + str((toc - tic)/60) + ' minutes' )\n",
        "\n",
        "\n"
      ]
    },
    {
      "cell_type": "markdown",
      "source": [
        "### Intersection of PRIOGrid with the UKR-RUS merged country shape files"
      ],
      "metadata": {
        "id": "QCclg84rBwGp"
      }
    },
    {
      "cell_type": "code",
      "source": [
        "shapely.speedups.enable()"
      ],
      "metadata": {
        "id": "BnpjYxPICe_k"
      },
      "execution_count": null,
      "outputs": []
    },
    {
      "cell_type": "code",
      "source": [
        "s = gpd.GeoSeries([ukr.loc[0, 'geometry'], rus.loc[0, 'geometry']])\n",
        "print(s)\n",
        "union = s.unary_union\n",
        "print(type(union))"
      ],
      "metadata": {
        "colab": {
          "base_uri": "https://localhost:8080/"
        },
        "id": "LWCp2xzeCOIj",
        "outputId": "5c1cd0dd-2494-447b-9b39-d5203f51a281"
      },
      "execution_count": 38,
      "outputs": [
        {
          "output_type": "stream",
          "name": "stdout",
          "text": [
            "0    MULTIPOLYGON (((36.55069 45.26153, 36.55069 45...\n",
            "1    MULTIPOLYGON (((131.36847 42.69708, 131.36847 ...\n",
            "dtype: geometry\n",
            "<class 'shapely.geometry.multipolygon.MultiPolygon'>\n"
          ]
        }
      ]
    },
    {
      "cell_type": "code",
      "source": [
        "# enable shapely.speedups which makes queries running faster.\n",
        "\n",
        "tic = time.time()\n",
        "priogrid_mask = pd.Series()\n",
        "\n",
        "#priogrid_mask = priogrid['geometry'].intersects(union.loc[0, 'geometry'])\n",
        "priogrid_mask = priogrid['geometry'].intersects(union)\n",
        "\n",
        "priogrid_mask.to_frame().to_csv(\"/content/drive/MyDrive/Colab Notebooks/CASE2023_Task2/gis/priogrid_mask.csv\",index=False)\n",
        "# selecting the polygon's geometry field to filter out points that are not overlaid\n",
        "toc = time.time()\n",
        "print('time to execute the intersection with UKR-RUS shape file = ' + str((toc - tic)/60) + ' minutes' )"
      ],
      "metadata": {
        "colab": {
          "base_uri": "https://localhost:8080/"
        },
        "id": "ONpuLoyVBpQ4",
        "outputId": "191501f4-49dd-4603-ffe2-8f429ae51a24"
      },
      "execution_count": 39,
      "outputs": [
        {
          "output_type": "stream",
          "name": "stdout",
          "text": [
            "time to execute the intersection with UKR-RUS shape file = 15.955746579170228 minutes\n"
          ]
        }
      ]
    },
    {
      "cell_type": "code",
      "source": [
        "priogrid_ukr_rus = priogrid.loc[priogrid_mask]"
      ],
      "metadata": {
        "id": "z9H6RHaf3IGP"
      },
      "execution_count": 40,
      "outputs": []
    },
    {
      "cell_type": "code",
      "source": [
        "priogrid_ukr_rus.to_csv(\"/content/drive/MyDrive/Colab Notebooks/CASE2023_Task2/gis/priogrid_ukr-rus.csv\",index=False)\n"
      ],
      "metadata": {
        "id": "IxmcXlA7FQPd"
      },
      "execution_count": 41,
      "outputs": []
    },
    {
      "cell_type": "markdown",
      "metadata": {
        "id": "232EYLbp8Jvg"
      },
      "source": [
        "### Gold Standard File\n",
        "###### reading the OSM-normalized Gold Standard from file:"
      ]
    },
    {
      "cell_type": "code",
      "source": [
        "gsOSMNormalized = pd.read_csv(\"/content/drive/MyDrive/Colab Notebooks/CASE2023_Task2/GOLD_STANDARD/russo-ukrainian_conflict.OSMNormalized.csv\",header=0)\n",
        "\n",
        "gsOSMNormalized=gsOSMNormalized.dropna(subset=['lon'])\n",
        "gsOSMNormalized=gsOSMNormalized.dropna(subset=['lat'])\n",
        "\n",
        "\n",
        "gs_gdf = gpd.GeoDataFrame(\n",
        "    gsOSMNormalized, geometry=gpd.points_from_xy(gsOSMNormalized.lon, gsOSMNormalized.lat))\n",
        "gs_gdf = gs_gdf.set_crs(\"EPSG:4326\")\n"
      ],
      "metadata": {
        "id": "swgQqHN4xBWI"
      },
      "execution_count": 42,
      "outputs": []
    },
    {
      "cell_type": "code",
      "source": [
        "print(len(gsOSMNormalized))\n",
        "len(gs_gdf)"
      ],
      "metadata": {
        "id": "lK8JOVJY5Ily",
        "colab": {
          "base_uri": "https://localhost:8080/"
        },
        "outputId": "2a54ad80-a9b6-4606-fe44-473c711a3ffc"
      },
      "execution_count": 43,
      "outputs": [
        {
          "output_type": "stream",
          "name": "stdout",
          "text": [
            "16415\n"
          ]
        },
        {
          "output_type": "execute_result",
          "data": {
            "text/plain": [
              "16415"
            ]
          },
          "metadata": {},
          "execution_count": 43
        }
      ]
    },
    {
      "cell_type": "code",
      "source": [
        "gs_gdf.head()"
      ],
      "metadata": {
        "id": "NUsnQyyQpg60"
      },
      "execution_count": null,
      "outputs": []
    },
    {
      "cell_type": "markdown",
      "source": [
        "###### joining it with UKR-RUS subset of PRIOGrid cells:"
      ],
      "metadata": {
        "id": "2FqezgYYiQjU"
      }
    },
    {
      "cell_type": "code",
      "source": [
        "tic = time.time()\n",
        "\n",
        "# Make a spatial join\n",
        "join = gs_gdf.sjoin(priogrid_ukr_rus, how=\"inner\", op=\"within\")\n",
        "toc = time.time()\n",
        "print('time to execute the sjoin with PRIOGrid shape file = ' + str((toc - tic)/60) + 'minutes' )"
      ],
      "metadata": {
        "id": "u8v1_-lJdbnA"
      },
      "execution_count": null,
      "outputs": []
    },
    {
      "cell_type": "code",
      "source": [
        "join.columns"
      ],
      "metadata": {
        "colab": {
          "base_uri": "https://localhost:8080/"
        },
        "id": "sTu-UB5dpJVx",
        "outputId": "411c9928-978d-46ec-ea7f-53c996144c08"
      },
      "execution_count": 46,
      "outputs": [
        {
          "output_type": "execute_result",
          "data": {
            "text/plain": [
              "Index(['EVENT_DATE', 'YEAR', 'TIME_PRECISION', 'DISORDER_TYPE', 'EVENT_TYPE',\n",
              "       'SUB_EVENT_TYPE', 'ACTOR1', 'ASSOC_ACTOR_1', 'INTER1', 'ACTOR2',\n",
              "       'ASSOC_ACTOR_2', 'INTER2', 'INTERACTION', 'CIVILIAN_TARGETING', 'ISO',\n",
              "       'REGION', 'COUNTRY', 'ADMIN1', 'ADMIN2', 'ADMIN3', 'LOCATION',\n",
              "       'LATITUDE', 'LONGITUDE', 'GEO_PRECISION', 'SOURCE', 'SOURCE_SCALE',\n",
              "       'NOTES', 'FATALITIES', 'TAGS', 'TIMESTAMP', 'lat', 'lon',\n",
              "       'EVENT_ID_NO_CNTY', 'geometry', 'index_right', 'gid'],\n",
              "      dtype='object')"
            ]
          },
          "metadata": {},
          "execution_count": 46
        }
      ]
    },
    {
      "cell_type": "code",
      "source": [
        "selected_cols1 = ['EVENT_ID_NO_CNTY','LOCATION','ADMIN1','COUNTRY','EVENT_DATE','lat','lon','geometry','gid']\n",
        "join = join[selected_cols1]"
      ],
      "metadata": {
        "id": "_m7ZUpnHpOME"
      },
      "execution_count": 47,
      "outputs": []
    },
    {
      "cell_type": "code",
      "source": [
        "dict = {'EVENT_ID_NO_CNTY': 'id',\n",
        "        'LOCATION': 'city',\n",
        "        'ADMIN1': 'state',\n",
        "        'COUNTRY': 'country',\n",
        "        'EVENT_DATE': 'date' }\n",
        "\n",
        "# call rename () method\n",
        "join.rename(columns=dict,inplace=True)\n",
        "join.to_csv(\"/content/drive/MyDrive/Colab Notebooks/CASE2023_Task2/GOLD_STANDARD/russo-ukrainian_conflict.OSMNormalized.PrioAggregated.csv\",index=False)"
      ],
      "metadata": {
        "id": "DuILCY2spYGU"
      },
      "execution_count": 48,
      "outputs": []
    },
    {
      "cell_type": "markdown",
      "metadata": {
        "id": "htF7kI3k8Jvi"
      },
      "source": [
        "### Intersection with the US country shape file"
      ]
    },
    {
      "cell_type": "code",
      "source": [
        "gsPrioAggregated = pd.read_csv(\"/content/drive/MyDrive/Colab Notebooks/CASE2023_Task2/GOLD_STANDARD/russo-ukrainian_conflict.OSMNormalized.PrioAggregated.csv\",header=0)\n",
        "gsPrioAggregated_gdf = gpd.GeoDataFrame(\n",
        "    gsPrioAggregated, geometry=gpd.points_from_xy(gsPrioAggregated.lon, gsPrioAggregated.lat))\n",
        "gsPrioAggregated_gdf = gsPrioAggregated_gdf.set_crs(\"EPSG:4326\")"
      ],
      "metadata": {
        "id": "Y1KN9MoREGMa"
      },
      "execution_count": null,
      "outputs": []
    },
    {
      "cell_type": "code",
      "execution_count": null,
      "metadata": {
        "id": "Nfj0R-vU8Jvi",
        "colab": {
          "base_uri": "https://localhost:8080/"
        },
        "outputId": "5531f9ae-b659-4f6b-b488-fe47c4c8bc4a"
      },
      "outputs": [
        {
          "metadata": {
            "tags": null
          },
          "name": "stderr",
          "output_type": "stream",
          "text": [
            "<ipython-input-285-110370e612b8>:3: DeprecationWarning: This function has no longer any effect, and will be removed in a future release. Starting with Shapely 2.0, equivalent speedups are always available\n",
            "  shapely.speedups.enable()\n"
          ]
        }
      ],
      "source": [
        "import shapely.speedups\n",
        "\n",
        "shapely.speedups.enable()\n",
        "# enable shapely.speedups which makes queries running faster.\n",
        "\n",
        "tic = time.time()\n",
        "gs_union_mask = gsPrioAggregated_gdf['geometry'].within(union)\n",
        "# selecting the polygon's geometry field to filter out points that are not overlaid\n",
        "toc = time.time()\n",
        "print('time to execute the intersection with USA shape file = ' + str((toc - tic)/60) + ' minutes' )\n",
        "\n",
        "gs_ukr_rus_PrioAggregated = gsPrioAggregated.loc[gs_union_mask]\n",
        "gs_union_mask.to_frame().to_csv(\"/content/drive/MyDrive/Colab Notebooks/CASE2023_Task2/GOLD_STANDARD/priogrid_mask.csv\",index=False)\n",
        "gs_ukr_rus_PrioAggregated.to_csv(\"/content/drive/MyDrive/Colab Notebooks/CASE2023_Task2/GOLD_STANDARD/covid_protests_riots_ukr_rus.OSMNormalized.PrioAggregated.csv\",index=False)\n"
      ]
    },
    {
      "cell_type": "markdown",
      "metadata": {
        "id": "Q4QIPDIL8Jvj"
      },
      "source": [
        "### System Output File"
      ]
    },
    {
      "cell_type": "code",
      "source": [
        "system_output = pd.read_csv(\"/content/drive/MyDrive/Colab Notebooks/CASE2023_Task2/SYSTEM_SUBMISSIONS/mordecai/submission.mordecai.news.2.OSMNormalized.csv\",header=0)\n"
      ],
      "metadata": {
        "id": "cqfzLgXcEHsz"
      },
      "execution_count": 53,
      "outputs": []
    },
    {
      "cell_type": "code",
      "source": [
        "len(system_output)"
      ],
      "metadata": {
        "colab": {
          "base_uri": "https://localhost:8080/"
        },
        "id": "eC5CDqshkpgJ",
        "outputId": "292de430-aea1-467c-df5b-12405d193f57"
      },
      "execution_count": 54,
      "outputs": [
        {
          "output_type": "execute_result",
          "data": {
            "text/plain": [
              "368"
            ]
          },
          "metadata": {},
          "execution_count": 54
        }
      ]
    },
    {
      "cell_type": "code",
      "source": [
        "system_output=system_output.dropna(subset=['lon'])\n",
        "system_output=system_output.dropna(subset=['lat'])"
      ],
      "metadata": {
        "id": "VwI1guXOkoEx"
      },
      "execution_count": 55,
      "outputs": []
    },
    {
      "cell_type": "code",
      "source": [
        "len(system_output)"
      ],
      "metadata": {
        "colab": {
          "base_uri": "https://localhost:8080/"
        },
        "id": "sfFnwBa9lJB0",
        "outputId": "942c6690-d016-4040-98a0-c09dd2a51d92"
      },
      "execution_count": 56,
      "outputs": [
        {
          "output_type": "execute_result",
          "data": {
            "text/plain": [
              "368"
            ]
          },
          "metadata": {},
          "execution_count": 56
        }
      ]
    },
    {
      "cell_type": "code",
      "execution_count": 57,
      "metadata": {
        "id": "lpZUYywW8Jvj"
      },
      "outputs": [],
      "source": [
        "system_output_gdf = gpd.GeoDataFrame(\n",
        "    system_output, geometry=gpd.points_from_xy(system_output.lon, system_output.lat))\n",
        "system_output_gdf = system_output_gdf.set_crs(\"EPSG:4326\")"
      ]
    },
    {
      "cell_type": "code",
      "execution_count": null,
      "metadata": {
        "id": "WE4UyP4G8Jvk"
      },
      "outputs": [],
      "source": [
        "# Make a spatial join\n",
        "tic = time.time()\n",
        "join1 = system_output_gdf.sjoin(priogrid_ukr_rus, how=\"inner\", op=\"within\")\n",
        "toc = time.time()\n",
        "print('time to execute the sjoin with PRIOGrid shape file = ' + str((toc - tic)/60) + ' minutes' )\n",
        "join1.head(5)"
      ]
    },
    {
      "cell_type": "code",
      "source": [
        "join1.columns"
      ],
      "metadata": {
        "colab": {
          "base_uri": "https://localhost:8080/"
        },
        "id": "kGUAmCUwlnnx",
        "outputId": "3f42de81-59cc-4e7a-de57-ac11e8c55a9b"
      },
      "execution_count": 59,
      "outputs": [
        {
          "output_type": "execute_result",
          "data": {
            "text/plain": [
              "Index(['date', 'city', 'state', 'country', 'lat', 'lon', 'id', 'geometry',\n",
              "       'index_right', 'gid'],\n",
              "      dtype='object')"
            ]
          },
          "metadata": {},
          "execution_count": 59
        }
      ]
    },
    {
      "cell_type": "code",
      "source": [
        "selected_cols1 = ['date', 'city', 'state', 'country', 'lat', 'lon', 'id', 'geometry','gid']\n",
        "join1 = join1[selected_cols1]"
      ],
      "metadata": {
        "id": "R-7doZyllzSK"
      },
      "execution_count": 60,
      "outputs": []
    },
    {
      "cell_type": "code",
      "source": [
        "print(len(join1))\n",
        "join1.to_csv(\"/content/drive/MyDrive/Colab Notebooks/CASE2023_Task2/SYSTEM_SUBMISSIONS/mordecai/submission.mordecai.news.2.OSMNormalized_PRIO_Aggregated.csv\",index=False)"
      ],
      "metadata": {
        "colab": {
          "base_uri": "https://localhost:8080/"
        },
        "id": "OOT60O8kmIb1",
        "outputId": "c85e769e-8246-43a4-984e-e96135d79654"
      },
      "execution_count": 61,
      "outputs": [
        {
          "output_type": "stream",
          "name": "stdout",
          "text": [
            "252\n"
          ]
        }
      ]
    },
    {
      "cell_type": "code",
      "execution_count": null,
      "metadata": {
        "id": "_WPKn3ei8Jvl"
      },
      "outputs": [],
      "source": [
        "shapely.speedups.enable()\n",
        "# enable shapely.speedups which makes queries running faster.\n",
        "\n",
        "tic = time.time()\n",
        "#gs_mask1 = join1['geometry'].within(union)\n",
        "# selecting the polygon's geometry field to filter out points that\n",
        "# are not overlaid\n",
        "toc = time.time()\n",
        "print('time to execute the intersection with USA shape file = ' + str((toc - tic)/60) + ' minutes' )\n",
        "\n",
        "system_output = join1.loc[gs_mask1]\n"
      ]
    },
    {
      "cell_type": "markdown",
      "source": [
        "### VISUALIZING GOLD STANDARD AND SYSTEM OUTPUT EVENTS ON MAPS"
      ],
      "metadata": {
        "id": "tBZAa5FGlUfv"
      }
    },
    {
      "cell_type": "code",
      "source": [
        "gs_ukr_rus_PrioAggregated = pd.read_csv(\"/content/drive/MyDrive/Colab Notebooks/CASE2023_Task2/GOLD_STANDARD/russo-ukrainian_conflict.OSMNormalized.PrioAggregated.csv\",header=0)\n",
        "gsPrioAggregated_gdf = gpd.GeoDataFrame(\n",
        "    gs_ukr_rus_PrioAggregated, geometry=gpd.points_from_xy(gs_ukr_rus_PrioAggregated.lon, gs_ukr_rus_PrioAggregated.lat))\n",
        "gsPrioAggregated_gdf = gsPrioAggregated_gdf.set_crs(\"EPSG:4326\")\n",
        "\n",
        "gsPrioAggregated_gdf.head()\n",
        "\n",
        "\n",
        "system_output_PrioAggregated = pd.read_csv(\"/content/drive/MyDrive/Colab Notebooks/CASE2023_Task2/SYSTEM_SUBMISSIONS/mordecai/submission.mordecai.news.2.OSMNormalized_PRIO_Aggregated.csv\",header=0)\n",
        "system_output_PrioAggregated_gdf = gpd.GeoDataFrame(\n",
        "    system_output_PrioAggregated, geometry=gpd.points_from_xy(system_output_PrioAggregated.lon, system_output_PrioAggregated.lat))\n",
        "system_output_PrioAggregated_gdf = system_output_PrioAggregated_gdf.set_crs(\"EPSG:4326\")\n",
        "\n",
        "system_output_PrioAggregated_gdf.head()"
      ],
      "metadata": {
        "id": "aBUflBcGoTyc"
      },
      "execution_count": null,
      "outputs": []
    },
    {
      "cell_type": "code",
      "execution_count": 65,
      "metadata": {
        "id": "gInBM2Qx8Jvh"
      },
      "outputs": [],
      "source": [
        "#fig, ax = plt.subplots(figsize=(100,80))\n",
        "map = folium.Map(location = [49.000,31.000], tiles='OpenStreetMap' , zoom_start = 4)\n",
        "\n",
        "# mark each SO event as a red point\n",
        "#for index, row in system_output.iterrows():\n",
        "#        folium.CircleMarker([row['lat'], row['lon']], radius=2,popup=row['id'],fill_color='green').add_to(map)\n",
        "\n",
        "\n",
        "def style_function(feature):\n",
        "    return {'fillColor': '#00000000', 'color': 'black', \"weight\": 0.2 }\n",
        "\n",
        "#priogrid_usa_geo_j = folium.GeoJson(data=priogrid_usa, style_function=style_function)\n",
        "#folium.GeoJson(priogrid_usa_geo_j).add_to(map)\n",
        "\n",
        "for index, r in priogrid_ukr_rus.iterrows():\n",
        "    geo = gpd.GeoSeries(r['geometry'])\n",
        "    geo_j = geo.to_json()\n",
        "    geo_j = folium.GeoJson(data=geo_j,style_function=style_function)\n",
        "    geo_j.add_to(map)\n",
        "\n",
        "# mark each GS event as a blue point\n",
        "for index, row in gsPrioAggregated_gdf.iterrows():\n",
        "   folium.CircleMarker([row['lat'], row['lon']],radius=2,popup=row['id'],fill=True, color='blue').add_to(map)\n",
        "\n",
        "# mark each GS event as a blue point\n",
        "for index, row in system_output_PrioAggregated_gdf.iterrows():\n",
        "   folium.CircleMarker([row['lat'], row['lon']],radius=2,popup=row['id'],fill=True, color='red').add_to(map)\n",
        "\n",
        "map\n",
        "#map.save(os.path.join(IMAGES_PATH, \"MapVisualizationGS_and_SOs.htm\"))"
      ]
    },
    {
      "cell_type": "code",
      "source": [
        "map"
      ],
      "metadata": {
        "id": "CN781WPMo8ha"
      },
      "execution_count": 67,
      "outputs": []
    },
    {
      "cell_type": "code",
      "source": [
        "map.save(os.path.join(IMAGES_PATH, \"MapVisualizationGS_and_BaselineSOs.htm\"))"
      ],
      "metadata": {
        "id": "WMgSUIFipXZu"
      },
      "execution_count": 68,
      "outputs": []
    },
    {
      "cell_type": "markdown",
      "metadata": {
        "id": "AaxXOCk48Jvm"
      },
      "source": [
        "### Column filtering"
      ]
    },
    {
      "cell_type": "code",
      "source": [
        "system_output_PrioAggregated.columns"
      ],
      "metadata": {
        "colab": {
          "base_uri": "https://localhost:8080/"
        },
        "id": "hoJypA9HsfTv",
        "outputId": "167d0e3f-e419-4a35-f6a9-bb9340ef0bd5"
      },
      "execution_count": 72,
      "outputs": [
        {
          "output_type": "execute_result",
          "data": {
            "text/plain": [
              "Index(['date', 'city', 'state', 'country', 'lat', 'lon', 'id', 'geometry',\n",
              "       'gid'],\n",
              "      dtype='object')"
            ]
          },
          "metadata": {},
          "execution_count": 72
        }
      ]
    },
    {
      "cell_type": "code",
      "execution_count": 108,
      "metadata": {
        "id": "9rnTABD08Jvm"
      },
      "outputs": [],
      "source": [
        "system_output_PrioAggregated = pd.read_csv(\"/content/drive/MyDrive/Colab Notebooks/CASE2023_Task2/SYSTEM_SUBMISSIONS/mordecai/submission.mordecai.news.2.OSMNormalized_PRIO_Aggregated.csv\",header=0)\n",
        "system_output_PrioAggregated = system_output_PrioAggregated[['id', 'city', 'state', 'country','date', 'lat','lon','gid']]"
      ]
    },
    {
      "cell_type": "code",
      "source": [
        "gs_ukr_rus_PrioAggregated.columns"
      ],
      "metadata": {
        "colab": {
          "base_uri": "https://localhost:8080/"
        },
        "id": "3Ci5cHW2sm8P",
        "outputId": "9daa78c5-7269-47b2-ac47-c2287cc7262d"
      },
      "execution_count": 71,
      "outputs": [
        {
          "output_type": "execute_result",
          "data": {
            "text/plain": [
              "Index(['id', 'city', 'state', 'country', 'date', 'lat', 'lon', 'geometry',\n",
              "       'gid'],\n",
              "      dtype='object')"
            ]
          },
          "metadata": {},
          "execution_count": 71
        }
      ]
    },
    {
      "cell_type": "code",
      "execution_count": 109,
      "metadata": {
        "id": "4sGZh8Jk8Jvm"
      },
      "outputs": [],
      "source": [
        "gs_ukr_rus_PrioAggregated = pd.read_csv(\"/content/drive/MyDrive/Colab Notebooks/CASE2023_Task2/GOLD_STANDARD/russo-ukrainian_conflict.OSMNormalized.PrioAggregated.csv\",header=0)\n",
        "#gs_us_PrioAggregated.columns\n",
        "gs_ukr_rus_PrioAggregated = gs_ukr_rus_PrioAggregated[['id', 'city', 'state', 'country','date','lat','lon','gid']]"
      ]
    },
    {
      "cell_type": "markdown",
      "metadata": {
        "id": "LmsqUgMn8Jvn"
      },
      "source": [
        "### Date column type conversion and filtering by date"
      ]
    },
    {
      "cell_type": "code",
      "execution_count": 110,
      "metadata": {
        "id": "Bfo2PVCb8Jvo"
      },
      "outputs": [],
      "source": [
        "gs_ukr_rus_PrioAggregated['date'] = pd.to_datetime(gs_ukr_rus_PrioAggregated['date'], errors='raise')"
      ]
    },
    {
      "cell_type": "code",
      "source": [
        "gs_ukr_rus_PrioAggregated['date'] = gs_ukr_rus_PrioAggregated['date'].dt.normalize()"
      ],
      "metadata": {
        "id": "knofkODb24dA"
      },
      "execution_count": 111,
      "outputs": []
    },
    {
      "cell_type": "code",
      "execution_count": 112,
      "metadata": {
        "id": "uWj6TFd98Jvp",
        "colab": {
          "base_uri": "https://localhost:8080/"
        },
        "outputId": "1b6e399b-29d4-45a5-c082-eee536a02945"
      },
      "outputs": [
        {
          "output_type": "stream",
          "name": "stderr",
          "text": [
            "<ipython-input-112-58fab8123738>:1: UserWarning: Parsing dates in DD/MM/YYYY format when dayfirst=False (the default) was specified. This may lead to inconsistently parsed dates! Specify a format to ensure consistent parsing.\n",
            "  gs_ukr_rus_PrioAggregated = gs_ukr_rus_PrioAggregated[(gs_ukr_rus_PrioAggregated['date'] >= '24-2-2022') & (gs_ukr_rus_PrioAggregated['date'] <= '24-08-2022')]\n"
          ]
        }
      ],
      "source": [
        "gs_ukr_rus_PrioAggregated = gs_ukr_rus_PrioAggregated[(gs_ukr_rus_PrioAggregated['date'] >= '24-2-2022') & (gs_ukr_rus_PrioAggregated['date'] <= '24-08-2022')]"
      ]
    },
    {
      "cell_type": "code",
      "source": [
        "len(gs_ukr_rus_PrioAggregated)"
      ],
      "metadata": {
        "id": "FWjNLBwH7Na3"
      },
      "execution_count": null,
      "outputs": []
    },
    {
      "cell_type": "code",
      "execution_count": 128,
      "metadata": {
        "id": "Vt-QpwU98Jvq"
      },
      "outputs": [],
      "source": [
        "system_output_PrioAggregated['date'] = pd.to_datetime(system_output_PrioAggregated['date'], errors='raise')\n",
        "system_output_PrioAggregated['date'] = system_output_PrioAggregated['date'].dt.date"
      ]
    },
    {
      "cell_type": "code",
      "source": [
        "system_output_PrioAggregated['date'] = pd.to_datetime(system_output_PrioAggregated['date'], errors='raise')"
      ],
      "metadata": {
        "id": "c5dbE1aY4tAT"
      },
      "execution_count": 134,
      "outputs": []
    },
    {
      "cell_type": "code",
      "source": [
        "system_output_PrioAggregated"
      ],
      "metadata": {
        "id": "FRhEUtPb4GDL"
      },
      "execution_count": null,
      "outputs": []
    },
    {
      "cell_type": "code",
      "execution_count": 115,
      "metadata": {
        "id": "twJrkXId8Jvq",
        "colab": {
          "base_uri": "https://localhost:8080/"
        },
        "outputId": "fccfa74d-b06c-444f-d4a2-0a5581c6d45d"
      },
      "outputs": [
        {
          "output_type": "stream",
          "name": "stderr",
          "text": [
            "<ipython-input-115-8e905fe89f58>:1: UserWarning: Parsing dates in DD/MM/YYYY format when dayfirst=False (the default) was specified. This may lead to inconsistently parsed dates! Specify a format to ensure consistent parsing.\n",
            "  system_output_PrioAggregated = system_output_PrioAggregated[(system_output_PrioAggregated['date'] >= '24-2-2022') & (system_output_PrioAggregated['date'] <= '24-08-2022')]\n"
          ]
        }
      ],
      "source": [
        "system_output_PrioAggregated = system_output_PrioAggregated[(system_output_PrioAggregated['date'] >= '24-2-2022') & (system_output_PrioAggregated['date'] <= '24-08-2022')]"
      ]
    },
    {
      "cell_type": "code",
      "source": [
        "len(system_output_PrioAggregated)"
      ],
      "metadata": {
        "colab": {
          "base_uri": "https://localhost:8080/"
        },
        "id": "XCFOrH3U7Kyj",
        "outputId": "dd5a7921-3226-4be6-ad5d-00a9ed99d2f8"
      },
      "execution_count": 130,
      "outputs": [
        {
          "output_type": "execute_result",
          "data": {
            "text/plain": [
              "134"
            ]
          },
          "metadata": {},
          "execution_count": 130
        }
      ]
    },
    {
      "cell_type": "code",
      "execution_count": null,
      "metadata": {
        "id": "HKgMizIw8Jvq"
      },
      "outputs": [],
      "source": [
        "#group_by_gid = gs_events_usa.groupby('gid').size().reset_index(name='count').sort_values(['count'], ascending=False)\n",
        "#group_by_gid"
      ]
    },
    {
      "cell_type": "code",
      "execution_count": null,
      "metadata": {
        "id": "iJVcq44u8Jvr"
      },
      "outputs": [],
      "source": [
        "#events_usa_group_by_gid = events_usa.groupby('gid').size().reset_index(name='count').sort_values(['count'], ascending=False)"
      ]
    },
    {
      "cell_type": "markdown",
      "metadata": {
        "id": "3S8dN81s8Jvr"
      },
      "source": [
        "### Time shift (2 days) for news data"
      ]
    },
    {
      "cell_type": "code",
      "execution_count": null,
      "metadata": {
        "id": "iwt1g3tQ8Jvr"
      },
      "outputs": [],
      "source": [
        "system_output['date'] = [ x + datetime.timedelta(days=2) for x in system_output['date']  ]\n"
      ]
    },
    {
      "cell_type": "markdown",
      "metadata": {
        "id": "fPtUyQOQ8Jvr"
      },
      "source": [
        "### Sorting by date\n",
        "\n",
        "\n"
      ]
    },
    {
      "cell_type": "code",
      "execution_count": 131,
      "metadata": {
        "id": "hrPsf_368Jvr",
        "colab": {
          "base_uri": "https://localhost:8080/",
          "height": 424
        },
        "outputId": "a0861be9-d88a-4b34-f3bd-27ff1135cc77"
      },
      "outputs": [
        {
          "output_type": "execute_result",
          "data": {
            "text/plain": [
              "      id                 city         state country        date       lat  \\\n",
              "248  361                 Sumy          Sumy     UKR  2022-02-24  50.92160   \n",
              "251  360            Shchastia       Luhansk     UKR  2022-02-25  48.73784   \n",
              "178  113             Mariupol       Donetsk     UKR  2022-02-26  47.09514   \n",
              "90   359              Kharkiv       Kharkiv     UKR  2022-02-28  49.98081   \n",
              "249  357           Borodianka          Kiev     UKR  2022-03-01  50.64484   \n",
              "..   ...                  ...           ...     ...         ...       ...   \n",
              "136  255  Zaporizhzhya Oblast  Zaporizhzhia     UKR  2022-08-12  47.83972   \n",
              "135  254         Zaporizhzhya  Zaporizhzhia     UKR  2022-08-12  47.85167   \n",
              "140   53             Mykolaiv          Lviv     UKR  2022-08-20  49.52659   \n",
              "232  250            Starytsia       Kharkiv     UKR  2022-08-21  50.24047   \n",
              "110  251         Chornobaivka       Kherson     UKR  2022-08-21  46.69641   \n",
              "\n",
              "          lon     gid  \n",
              "248  34.80029  202750  \n",
              "251  39.23047  199879  \n",
              "178  37.54131  197716  \n",
              "90   36.25272  201313  \n",
              "249  29.92010  202740  \n",
              "..        ...     ...  \n",
              "136  35.14057  198431  \n",
              "135  35.11714  198431  \n",
              "140  23.98138  201288  \n",
              "232  36.79312  202034  \n",
              "110  32.54710  196986  \n",
              "\n",
              "[134 rows x 8 columns]"
            ],
            "text/html": [
              "\n",
              "\n",
              "  <div id=\"df-39bde9c6-8a8e-4364-b5a2-f12dc7210463\">\n",
              "    <div class=\"colab-df-container\">\n",
              "      <div>\n",
              "<style scoped>\n",
              "    .dataframe tbody tr th:only-of-type {\n",
              "        vertical-align: middle;\n",
              "    }\n",
              "\n",
              "    .dataframe tbody tr th {\n",
              "        vertical-align: top;\n",
              "    }\n",
              "\n",
              "    .dataframe thead th {\n",
              "        text-align: right;\n",
              "    }\n",
              "</style>\n",
              "<table border=\"1\" class=\"dataframe\">\n",
              "  <thead>\n",
              "    <tr style=\"text-align: right;\">\n",
              "      <th></th>\n",
              "      <th>id</th>\n",
              "      <th>city</th>\n",
              "      <th>state</th>\n",
              "      <th>country</th>\n",
              "      <th>date</th>\n",
              "      <th>lat</th>\n",
              "      <th>lon</th>\n",
              "      <th>gid</th>\n",
              "    </tr>\n",
              "  </thead>\n",
              "  <tbody>\n",
              "    <tr>\n",
              "      <th>248</th>\n",
              "      <td>361</td>\n",
              "      <td>Sumy</td>\n",
              "      <td>Sumy</td>\n",
              "      <td>UKR</td>\n",
              "      <td>2022-02-24</td>\n",
              "      <td>50.92160</td>\n",
              "      <td>34.80029</td>\n",
              "      <td>202750</td>\n",
              "    </tr>\n",
              "    <tr>\n",
              "      <th>251</th>\n",
              "      <td>360</td>\n",
              "      <td>Shchastia</td>\n",
              "      <td>Luhansk</td>\n",
              "      <td>UKR</td>\n",
              "      <td>2022-02-25</td>\n",
              "      <td>48.73784</td>\n",
              "      <td>39.23047</td>\n",
              "      <td>199879</td>\n",
              "    </tr>\n",
              "    <tr>\n",
              "      <th>178</th>\n",
              "      <td>113</td>\n",
              "      <td>Mariupol</td>\n",
              "      <td>Donetsk</td>\n",
              "      <td>UKR</td>\n",
              "      <td>2022-02-26</td>\n",
              "      <td>47.09514</td>\n",
              "      <td>37.54131</td>\n",
              "      <td>197716</td>\n",
              "    </tr>\n",
              "    <tr>\n",
              "      <th>90</th>\n",
              "      <td>359</td>\n",
              "      <td>Kharkiv</td>\n",
              "      <td>Kharkiv</td>\n",
              "      <td>UKR</td>\n",
              "      <td>2022-02-28</td>\n",
              "      <td>49.98081</td>\n",
              "      <td>36.25272</td>\n",
              "      <td>201313</td>\n",
              "    </tr>\n",
              "    <tr>\n",
              "      <th>249</th>\n",
              "      <td>357</td>\n",
              "      <td>Borodianka</td>\n",
              "      <td>Kiev</td>\n",
              "      <td>UKR</td>\n",
              "      <td>2022-03-01</td>\n",
              "      <td>50.64484</td>\n",
              "      <td>29.92010</td>\n",
              "      <td>202740</td>\n",
              "    </tr>\n",
              "    <tr>\n",
              "      <th>...</th>\n",
              "      <td>...</td>\n",
              "      <td>...</td>\n",
              "      <td>...</td>\n",
              "      <td>...</td>\n",
              "      <td>...</td>\n",
              "      <td>...</td>\n",
              "      <td>...</td>\n",
              "      <td>...</td>\n",
              "    </tr>\n",
              "    <tr>\n",
              "      <th>136</th>\n",
              "      <td>255</td>\n",
              "      <td>Zaporizhzhya Oblast</td>\n",
              "      <td>Zaporizhzhia</td>\n",
              "      <td>UKR</td>\n",
              "      <td>2022-08-12</td>\n",
              "      <td>47.83972</td>\n",
              "      <td>35.14057</td>\n",
              "      <td>198431</td>\n",
              "    </tr>\n",
              "    <tr>\n",
              "      <th>135</th>\n",
              "      <td>254</td>\n",
              "      <td>Zaporizhzhya</td>\n",
              "      <td>Zaporizhzhia</td>\n",
              "      <td>UKR</td>\n",
              "      <td>2022-08-12</td>\n",
              "      <td>47.85167</td>\n",
              "      <td>35.11714</td>\n",
              "      <td>198431</td>\n",
              "    </tr>\n",
              "    <tr>\n",
              "      <th>140</th>\n",
              "      <td>53</td>\n",
              "      <td>Mykolaiv</td>\n",
              "      <td>Lviv</td>\n",
              "      <td>UKR</td>\n",
              "      <td>2022-08-20</td>\n",
              "      <td>49.52659</td>\n",
              "      <td>23.98138</td>\n",
              "      <td>201288</td>\n",
              "    </tr>\n",
              "    <tr>\n",
              "      <th>232</th>\n",
              "      <td>250</td>\n",
              "      <td>Starytsia</td>\n",
              "      <td>Kharkiv</td>\n",
              "      <td>UKR</td>\n",
              "      <td>2022-08-21</td>\n",
              "      <td>50.24047</td>\n",
              "      <td>36.79312</td>\n",
              "      <td>202034</td>\n",
              "    </tr>\n",
              "    <tr>\n",
              "      <th>110</th>\n",
              "      <td>251</td>\n",
              "      <td>Chornobaivka</td>\n",
              "      <td>Kherson</td>\n",
              "      <td>UKR</td>\n",
              "      <td>2022-08-21</td>\n",
              "      <td>46.69641</td>\n",
              "      <td>32.54710</td>\n",
              "      <td>196986</td>\n",
              "    </tr>\n",
              "  </tbody>\n",
              "</table>\n",
              "<p>134 rows × 8 columns</p>\n",
              "</div>\n",
              "      <button class=\"colab-df-convert\" onclick=\"convertToInteractive('df-39bde9c6-8a8e-4364-b5a2-f12dc7210463')\"\n",
              "              title=\"Convert this dataframe to an interactive table.\"\n",
              "              style=\"display:none;\">\n",
              "\n",
              "  <svg xmlns=\"http://www.w3.org/2000/svg\" height=\"24px\"viewBox=\"0 0 24 24\"\n",
              "       width=\"24px\">\n",
              "    <path d=\"M0 0h24v24H0V0z\" fill=\"none\"/>\n",
              "    <path d=\"M18.56 5.44l.94 2.06.94-2.06 2.06-.94-2.06-.94-.94-2.06-.94 2.06-2.06.94zm-11 1L8.5 8.5l.94-2.06 2.06-.94-2.06-.94L8.5 2.5l-.94 2.06-2.06.94zm10 10l.94 2.06.94-2.06 2.06-.94-2.06-.94-.94-2.06-.94 2.06-2.06.94z\"/><path d=\"M17.41 7.96l-1.37-1.37c-.4-.4-.92-.59-1.43-.59-.52 0-1.04.2-1.43.59L10.3 9.45l-7.72 7.72c-.78.78-.78 2.05 0 2.83L4 21.41c.39.39.9.59 1.41.59.51 0 1.02-.2 1.41-.59l7.78-7.78 2.81-2.81c.8-.78.8-2.07 0-2.86zM5.41 20L4 18.59l7.72-7.72 1.47 1.35L5.41 20z\"/>\n",
              "  </svg>\n",
              "      </button>\n",
              "\n",
              "\n",
              "\n",
              "    <div id=\"df-6d3ab06b-d960-4448-aa67-c391b5085edf\">\n",
              "      <button class=\"colab-df-quickchart\" onclick=\"quickchart('df-6d3ab06b-d960-4448-aa67-c391b5085edf')\"\n",
              "              title=\"Suggest charts.\"\n",
              "              style=\"display:none;\">\n",
              "\n",
              "<svg xmlns=\"http://www.w3.org/2000/svg\" height=\"24px\"viewBox=\"0 0 24 24\"\n",
              "     width=\"24px\">\n",
              "    <g>\n",
              "        <path d=\"M19 3H5c-1.1 0-2 .9-2 2v14c0 1.1.9 2 2 2h14c1.1 0 2-.9 2-2V5c0-1.1-.9-2-2-2zM9 17H7v-7h2v7zm4 0h-2V7h2v10zm4 0h-2v-4h2v4z\"/>\n",
              "    </g>\n",
              "</svg>\n",
              "      </button>\n",
              "    </div>\n",
              "\n",
              "<style>\n",
              "  .colab-df-quickchart {\n",
              "    background-color: #E8F0FE;\n",
              "    border: none;\n",
              "    border-radius: 50%;\n",
              "    cursor: pointer;\n",
              "    display: none;\n",
              "    fill: #1967D2;\n",
              "    height: 32px;\n",
              "    padding: 0 0 0 0;\n",
              "    width: 32px;\n",
              "  }\n",
              "\n",
              "  .colab-df-quickchart:hover {\n",
              "    background-color: #E2EBFA;\n",
              "    box-shadow: 0px 1px 2px rgba(60, 64, 67, 0.3), 0px 1px 3px 1px rgba(60, 64, 67, 0.15);\n",
              "    fill: #174EA6;\n",
              "  }\n",
              "\n",
              "  [theme=dark] .colab-df-quickchart {\n",
              "    background-color: #3B4455;\n",
              "    fill: #D2E3FC;\n",
              "  }\n",
              "\n",
              "  [theme=dark] .colab-df-quickchart:hover {\n",
              "    background-color: #434B5C;\n",
              "    box-shadow: 0px 1px 3px 1px rgba(0, 0, 0, 0.15);\n",
              "    filter: drop-shadow(0px 1px 2px rgba(0, 0, 0, 0.3));\n",
              "    fill: #FFFFFF;\n",
              "  }\n",
              "</style>\n",
              "\n",
              "    <script>\n",
              "      async function quickchart(key) {\n",
              "        const containerElement = document.querySelector('#' + key);\n",
              "        const charts = await google.colab.kernel.invokeFunction(\n",
              "            'suggestCharts', [key], {});\n",
              "      }\n",
              "    </script>\n",
              "\n",
              "      <script>\n",
              "\n",
              "function displayQuickchartButton(domScope) {\n",
              "  let quickchartButtonEl =\n",
              "    domScope.querySelector('#df-6d3ab06b-d960-4448-aa67-c391b5085edf button.colab-df-quickchart');\n",
              "  quickchartButtonEl.style.display =\n",
              "    google.colab.kernel.accessAllowed ? 'block' : 'none';\n",
              "}\n",
              "\n",
              "        displayQuickchartButton(document);\n",
              "      </script>\n",
              "      <style>\n",
              "    .colab-df-container {\n",
              "      display:flex;\n",
              "      flex-wrap:wrap;\n",
              "      gap: 12px;\n",
              "    }\n",
              "\n",
              "    .colab-df-convert {\n",
              "      background-color: #E8F0FE;\n",
              "      border: none;\n",
              "      border-radius: 50%;\n",
              "      cursor: pointer;\n",
              "      display: none;\n",
              "      fill: #1967D2;\n",
              "      height: 32px;\n",
              "      padding: 0 0 0 0;\n",
              "      width: 32px;\n",
              "    }\n",
              "\n",
              "    .colab-df-convert:hover {\n",
              "      background-color: #E2EBFA;\n",
              "      box-shadow: 0px 1px 2px rgba(60, 64, 67, 0.3), 0px 1px 3px 1px rgba(60, 64, 67, 0.15);\n",
              "      fill: #174EA6;\n",
              "    }\n",
              "\n",
              "    [theme=dark] .colab-df-convert {\n",
              "      background-color: #3B4455;\n",
              "      fill: #D2E3FC;\n",
              "    }\n",
              "\n",
              "    [theme=dark] .colab-df-convert:hover {\n",
              "      background-color: #434B5C;\n",
              "      box-shadow: 0px 1px 3px 1px rgba(0, 0, 0, 0.15);\n",
              "      filter: drop-shadow(0px 1px 2px rgba(0, 0, 0, 0.3));\n",
              "      fill: #FFFFFF;\n",
              "    }\n",
              "  </style>\n",
              "\n",
              "      <script>\n",
              "        const buttonEl =\n",
              "          document.querySelector('#df-39bde9c6-8a8e-4364-b5a2-f12dc7210463 button.colab-df-convert');\n",
              "        buttonEl.style.display =\n",
              "          google.colab.kernel.accessAllowed ? 'block' : 'none';\n",
              "\n",
              "        async function convertToInteractive(key) {\n",
              "          const element = document.querySelector('#df-39bde9c6-8a8e-4364-b5a2-f12dc7210463');\n",
              "          const dataTable =\n",
              "            await google.colab.kernel.invokeFunction('convertToInteractive',\n",
              "                                                     [key], {});\n",
              "          if (!dataTable) return;\n",
              "\n",
              "          const docLinkHtml = 'Like what you see? Visit the ' +\n",
              "            '<a target=\"_blank\" href=https://colab.research.google.com/notebooks/data_table.ipynb>data table notebook</a>'\n",
              "            + ' to learn more about interactive tables.';\n",
              "          element.innerHTML = '';\n",
              "          dataTable['output_type'] = 'display_data';\n",
              "          await google.colab.output.renderOutput(dataTable, element);\n",
              "          const docLink = document.createElement('div');\n",
              "          docLink.innerHTML = docLinkHtml;\n",
              "          element.appendChild(docLink);\n",
              "        }\n",
              "      </script>\n",
              "    </div>\n",
              "  </div>\n"
            ]
          },
          "metadata": {},
          "execution_count": 131
        }
      ],
      "source": [
        "gs_ukr_rus_PrioAggregated.sort_values(by=\"date\")\n",
        "system_output_PrioAggregated.sort_values(by=\"date\")"
      ]
    },
    {
      "cell_type": "markdown",
      "source": [
        "### Computing Location Ratio ###"
      ],
      "metadata": {
        "id": "CVsASlyavETa"
      }
    },
    {
      "cell_type": "code",
      "source": [
        "gs_location_size = gs_ukr_rus_PrioAggregated.groupby(gs_ukr_rus_PrioAggregated['gid']).count()\n",
        "ratio = len(gs_location_size)/len(gs_ukr_rus_PrioAggregated)\n",
        "print(len(gs_location_size))\n",
        "print(len(gs_ukr_rus_PrioAggregated))\n",
        "print(ratio)"
      ],
      "metadata": {
        "colab": {
          "base_uri": "https://localhost:8080/"
        },
        "id": "NN_k_5vUsgMk",
        "outputId": "25a328ad-f787-41d3-aa17-ef2c1569f7bf"
      },
      "execution_count": 118,
      "outputs": [
        {
          "output_type": "stream",
          "name": "stdout",
          "text": [
            "216\n",
            "16415\n",
            "0.013158696314346635\n"
          ]
        }
      ]
    },
    {
      "cell_type": "code",
      "source": [
        "so_location_size = system_output_PrioAggregated.groupby(system_output_PrioAggregated['gid']).count()\n",
        "ratio1 = len(so_location_size)/len(system_output_PrioAggregated)\n",
        "print(len(so_location_size))\n",
        "print(len(system_output_PrioAggregated))\n",
        "print(ratio1)"
      ],
      "metadata": {
        "colab": {
          "base_uri": "https://localhost:8080/"
        },
        "id": "Z0xhoRw8wX4O",
        "outputId": "de21934a-5e2b-4911-c269-a13b1c1f1979"
      },
      "execution_count": 119,
      "outputs": [
        {
          "output_type": "stream",
          "name": "stdout",
          "text": [
            "51\n",
            "134\n",
            "0.3805970149253731\n"
          ]
        }
      ]
    },
    {
      "cell_type": "code",
      "source": [
        "join_gid_diff_in_count = pd.merge(gs_ukr_rus_PrioAggregated.groupby(gs_ukr_rus_PrioAggregated['gid']).size().reset_index(name='gid_counts'), system_output_PrioAggregated.groupby(system_output_PrioAggregated['gid']).size().reset_index(name='gid_counts'), on='gid', how='outer').fillna(0)\n",
        "join_gid_diff_in_count.head()"
      ],
      "metadata": {
        "colab": {
          "base_uri": "https://localhost:8080/",
          "height": 206
        },
        "id": "uhjxM3z_2kgj",
        "outputId": "707a84ac-2be6-4954-da36-bbfc1b27030c"
      },
      "execution_count": 120,
      "outputs": [
        {
          "output_type": "execute_result",
          "data": {
            "text/plain": [
              "      gid  gid_counts_x  gid_counts_y\n",
              "0  194108           5.0           0.0\n",
              "1  194109           5.0           0.0\n",
              "2  194830           1.0           0.0\n",
              "3  194831           1.0           0.0\n",
              "4  194833           1.0           0.0"
            ],
            "text/html": [
              "\n",
              "\n",
              "  <div id=\"df-7f261cd0-8893-42d9-b899-7709609c2168\">\n",
              "    <div class=\"colab-df-container\">\n",
              "      <div>\n",
              "<style scoped>\n",
              "    .dataframe tbody tr th:only-of-type {\n",
              "        vertical-align: middle;\n",
              "    }\n",
              "\n",
              "    .dataframe tbody tr th {\n",
              "        vertical-align: top;\n",
              "    }\n",
              "\n",
              "    .dataframe thead th {\n",
              "        text-align: right;\n",
              "    }\n",
              "</style>\n",
              "<table border=\"1\" class=\"dataframe\">\n",
              "  <thead>\n",
              "    <tr style=\"text-align: right;\">\n",
              "      <th></th>\n",
              "      <th>gid</th>\n",
              "      <th>gid_counts_x</th>\n",
              "      <th>gid_counts_y</th>\n",
              "    </tr>\n",
              "  </thead>\n",
              "  <tbody>\n",
              "    <tr>\n",
              "      <th>0</th>\n",
              "      <td>194108</td>\n",
              "      <td>5.0</td>\n",
              "      <td>0.0</td>\n",
              "    </tr>\n",
              "    <tr>\n",
              "      <th>1</th>\n",
              "      <td>194109</td>\n",
              "      <td>5.0</td>\n",
              "      <td>0.0</td>\n",
              "    </tr>\n",
              "    <tr>\n",
              "      <th>2</th>\n",
              "      <td>194830</td>\n",
              "      <td>1.0</td>\n",
              "      <td>0.0</td>\n",
              "    </tr>\n",
              "    <tr>\n",
              "      <th>3</th>\n",
              "      <td>194831</td>\n",
              "      <td>1.0</td>\n",
              "      <td>0.0</td>\n",
              "    </tr>\n",
              "    <tr>\n",
              "      <th>4</th>\n",
              "      <td>194833</td>\n",
              "      <td>1.0</td>\n",
              "      <td>0.0</td>\n",
              "    </tr>\n",
              "  </tbody>\n",
              "</table>\n",
              "</div>\n",
              "      <button class=\"colab-df-convert\" onclick=\"convertToInteractive('df-7f261cd0-8893-42d9-b899-7709609c2168')\"\n",
              "              title=\"Convert this dataframe to an interactive table.\"\n",
              "              style=\"display:none;\">\n",
              "\n",
              "  <svg xmlns=\"http://www.w3.org/2000/svg\" height=\"24px\"viewBox=\"0 0 24 24\"\n",
              "       width=\"24px\">\n",
              "    <path d=\"M0 0h24v24H0V0z\" fill=\"none\"/>\n",
              "    <path d=\"M18.56 5.44l.94 2.06.94-2.06 2.06-.94-2.06-.94-.94-2.06-.94 2.06-2.06.94zm-11 1L8.5 8.5l.94-2.06 2.06-.94-2.06-.94L8.5 2.5l-.94 2.06-2.06.94zm10 10l.94 2.06.94-2.06 2.06-.94-2.06-.94-.94-2.06-.94 2.06-2.06.94z\"/><path d=\"M17.41 7.96l-1.37-1.37c-.4-.4-.92-.59-1.43-.59-.52 0-1.04.2-1.43.59L10.3 9.45l-7.72 7.72c-.78.78-.78 2.05 0 2.83L4 21.41c.39.39.9.59 1.41.59.51 0 1.02-.2 1.41-.59l7.78-7.78 2.81-2.81c.8-.78.8-2.07 0-2.86zM5.41 20L4 18.59l7.72-7.72 1.47 1.35L5.41 20z\"/>\n",
              "  </svg>\n",
              "      </button>\n",
              "\n",
              "\n",
              "\n",
              "    <div id=\"df-b42c117a-6177-4d21-8936-1f3e856a7192\">\n",
              "      <button class=\"colab-df-quickchart\" onclick=\"quickchart('df-b42c117a-6177-4d21-8936-1f3e856a7192')\"\n",
              "              title=\"Suggest charts.\"\n",
              "              style=\"display:none;\">\n",
              "\n",
              "<svg xmlns=\"http://www.w3.org/2000/svg\" height=\"24px\"viewBox=\"0 0 24 24\"\n",
              "     width=\"24px\">\n",
              "    <g>\n",
              "        <path d=\"M19 3H5c-1.1 0-2 .9-2 2v14c0 1.1.9 2 2 2h14c1.1 0 2-.9 2-2V5c0-1.1-.9-2-2-2zM9 17H7v-7h2v7zm4 0h-2V7h2v10zm4 0h-2v-4h2v4z\"/>\n",
              "    </g>\n",
              "</svg>\n",
              "      </button>\n",
              "    </div>\n",
              "\n",
              "<style>\n",
              "  .colab-df-quickchart {\n",
              "    background-color: #E8F0FE;\n",
              "    border: none;\n",
              "    border-radius: 50%;\n",
              "    cursor: pointer;\n",
              "    display: none;\n",
              "    fill: #1967D2;\n",
              "    height: 32px;\n",
              "    padding: 0 0 0 0;\n",
              "    width: 32px;\n",
              "  }\n",
              "\n",
              "  .colab-df-quickchart:hover {\n",
              "    background-color: #E2EBFA;\n",
              "    box-shadow: 0px 1px 2px rgba(60, 64, 67, 0.3), 0px 1px 3px 1px rgba(60, 64, 67, 0.15);\n",
              "    fill: #174EA6;\n",
              "  }\n",
              "\n",
              "  [theme=dark] .colab-df-quickchart {\n",
              "    background-color: #3B4455;\n",
              "    fill: #D2E3FC;\n",
              "  }\n",
              "\n",
              "  [theme=dark] .colab-df-quickchart:hover {\n",
              "    background-color: #434B5C;\n",
              "    box-shadow: 0px 1px 3px 1px rgba(0, 0, 0, 0.15);\n",
              "    filter: drop-shadow(0px 1px 2px rgba(0, 0, 0, 0.3));\n",
              "    fill: #FFFFFF;\n",
              "  }\n",
              "</style>\n",
              "\n",
              "    <script>\n",
              "      async function quickchart(key) {\n",
              "        const containerElement = document.querySelector('#' + key);\n",
              "        const charts = await google.colab.kernel.invokeFunction(\n",
              "            'suggestCharts', [key], {});\n",
              "      }\n",
              "    </script>\n",
              "\n",
              "      <script>\n",
              "\n",
              "function displayQuickchartButton(domScope) {\n",
              "  let quickchartButtonEl =\n",
              "    domScope.querySelector('#df-b42c117a-6177-4d21-8936-1f3e856a7192 button.colab-df-quickchart');\n",
              "  quickchartButtonEl.style.display =\n",
              "    google.colab.kernel.accessAllowed ? 'block' : 'none';\n",
              "}\n",
              "\n",
              "        displayQuickchartButton(document);\n",
              "      </script>\n",
              "      <style>\n",
              "    .colab-df-container {\n",
              "      display:flex;\n",
              "      flex-wrap:wrap;\n",
              "      gap: 12px;\n",
              "    }\n",
              "\n",
              "    .colab-df-convert {\n",
              "      background-color: #E8F0FE;\n",
              "      border: none;\n",
              "      border-radius: 50%;\n",
              "      cursor: pointer;\n",
              "      display: none;\n",
              "      fill: #1967D2;\n",
              "      height: 32px;\n",
              "      padding: 0 0 0 0;\n",
              "      width: 32px;\n",
              "    }\n",
              "\n",
              "    .colab-df-convert:hover {\n",
              "      background-color: #E2EBFA;\n",
              "      box-shadow: 0px 1px 2px rgba(60, 64, 67, 0.3), 0px 1px 3px 1px rgba(60, 64, 67, 0.15);\n",
              "      fill: #174EA6;\n",
              "    }\n",
              "\n",
              "    [theme=dark] .colab-df-convert {\n",
              "      background-color: #3B4455;\n",
              "      fill: #D2E3FC;\n",
              "    }\n",
              "\n",
              "    [theme=dark] .colab-df-convert:hover {\n",
              "      background-color: #434B5C;\n",
              "      box-shadow: 0px 1px 3px 1px rgba(0, 0, 0, 0.15);\n",
              "      filter: drop-shadow(0px 1px 2px rgba(0, 0, 0, 0.3));\n",
              "      fill: #FFFFFF;\n",
              "    }\n",
              "  </style>\n",
              "\n",
              "      <script>\n",
              "        const buttonEl =\n",
              "          document.querySelector('#df-7f261cd0-8893-42d9-b899-7709609c2168 button.colab-df-convert');\n",
              "        buttonEl.style.display =\n",
              "          google.colab.kernel.accessAllowed ? 'block' : 'none';\n",
              "\n",
              "        async function convertToInteractive(key) {\n",
              "          const element = document.querySelector('#df-7f261cd0-8893-42d9-b899-7709609c2168');\n",
              "          const dataTable =\n",
              "            await google.colab.kernel.invokeFunction('convertToInteractive',\n",
              "                                                     [key], {});\n",
              "          if (!dataTable) return;\n",
              "\n",
              "          const docLinkHtml = 'Like what you see? Visit the ' +\n",
              "            '<a target=\"_blank\" href=https://colab.research.google.com/notebooks/data_table.ipynb>data table notebook</a>'\n",
              "            + ' to learn more about interactive tables.';\n",
              "          element.innerHTML = '';\n",
              "          dataTable['output_type'] = 'display_data';\n",
              "          await google.colab.output.renderOutput(dataTable, element);\n",
              "          const docLink = document.createElement('div');\n",
              "          docLink.innerHTML = docLinkHtml;\n",
              "          element.appendChild(docLink);\n",
              "        }\n",
              "      </script>\n",
              "    </div>\n",
              "  </div>\n"
            ]
          },
          "metadata": {},
          "execution_count": 120
        }
      ]
    },
    {
      "cell_type": "code",
      "source": [
        "join_gid_diff_in_count['countDiff'] = join_gid_diff_in_count.apply(lambda row: abs(row.gid_counts_x - row.gid_counts_y), axis=1)\n",
        "#join_gid_diff_in_count.sort_values(by=['countDiff'], ascending=False)\n",
        "#join_gid_diff_in_count=join_gid_diff_in_count['gid','countDiff']\n",
        "join_gid_diff_in_count.info()"
      ],
      "metadata": {
        "colab": {
          "base_uri": "https://localhost:8080/"
        },
        "id": "TbrJcNdp-I1R",
        "outputId": "c6c2b3a1-0a2a-4f07-d0fd-75475b838339"
      },
      "execution_count": 121,
      "outputs": [
        {
          "output_type": "stream",
          "name": "stdout",
          "text": [
            "<class 'pandas.core.frame.DataFrame'>\n",
            "Int64Index: 225 entries, 0 to 224\n",
            "Data columns (total 4 columns):\n",
            " #   Column        Non-Null Count  Dtype  \n",
            "---  ------        --------------  -----  \n",
            " 0   gid           225 non-null    int64  \n",
            " 1   gid_counts_x  225 non-null    float64\n",
            " 2   gid_counts_y  225 non-null    float64\n",
            " 3   countDiff     225 non-null    float64\n",
            "dtypes: float64(3), int64(1)\n",
            "memory usage: 8.8 KB\n"
          ]
        }
      ]
    },
    {
      "cell_type": "code",
      "source": [
        "join_gid_diff_in_count = join_gid_diff_in_count.sort_values(by=['countDiff'], ascending=False)\n",
        "join_gid_diff_in_count.head()"
      ],
      "metadata": {
        "colab": {
          "base_uri": "https://localhost:8080/",
          "height": 206
        },
        "id": "DNJ1Jhx_F3GI",
        "outputId": "2deffb93-4ec5-4098-c05b-d09e5312f021"
      },
      "execution_count": 122,
      "outputs": [
        {
          "output_type": "execute_result",
          "data": {
            "text/plain": [
              "        gid  gid_counts_x  gid_counts_y  countDiff\n",
              "93   199877        1772.0          19.0     1753.0\n",
              "76   199156        1571.0           7.0     1564.0\n",
              "160  202033         773.0           2.0      771.0\n",
              "77   199157         764.0           0.0      764.0\n",
              "92   199876         468.0           7.0      461.0"
            ],
            "text/html": [
              "\n",
              "\n",
              "  <div id=\"df-843169ca-1e89-4eac-933a-fa5a27aa7a7e\">\n",
              "    <div class=\"colab-df-container\">\n",
              "      <div>\n",
              "<style scoped>\n",
              "    .dataframe tbody tr th:only-of-type {\n",
              "        vertical-align: middle;\n",
              "    }\n",
              "\n",
              "    .dataframe tbody tr th {\n",
              "        vertical-align: top;\n",
              "    }\n",
              "\n",
              "    .dataframe thead th {\n",
              "        text-align: right;\n",
              "    }\n",
              "</style>\n",
              "<table border=\"1\" class=\"dataframe\">\n",
              "  <thead>\n",
              "    <tr style=\"text-align: right;\">\n",
              "      <th></th>\n",
              "      <th>gid</th>\n",
              "      <th>gid_counts_x</th>\n",
              "      <th>gid_counts_y</th>\n",
              "      <th>countDiff</th>\n",
              "    </tr>\n",
              "  </thead>\n",
              "  <tbody>\n",
              "    <tr>\n",
              "      <th>93</th>\n",
              "      <td>199877</td>\n",
              "      <td>1772.0</td>\n",
              "      <td>19.0</td>\n",
              "      <td>1753.0</td>\n",
              "    </tr>\n",
              "    <tr>\n",
              "      <th>76</th>\n",
              "      <td>199156</td>\n",
              "      <td>1571.0</td>\n",
              "      <td>7.0</td>\n",
              "      <td>1564.0</td>\n",
              "    </tr>\n",
              "    <tr>\n",
              "      <th>160</th>\n",
              "      <td>202033</td>\n",
              "      <td>773.0</td>\n",
              "      <td>2.0</td>\n",
              "      <td>771.0</td>\n",
              "    </tr>\n",
              "    <tr>\n",
              "      <th>77</th>\n",
              "      <td>199157</td>\n",
              "      <td>764.0</td>\n",
              "      <td>0.0</td>\n",
              "      <td>764.0</td>\n",
              "    </tr>\n",
              "    <tr>\n",
              "      <th>92</th>\n",
              "      <td>199876</td>\n",
              "      <td>468.0</td>\n",
              "      <td>7.0</td>\n",
              "      <td>461.0</td>\n",
              "    </tr>\n",
              "  </tbody>\n",
              "</table>\n",
              "</div>\n",
              "      <button class=\"colab-df-convert\" onclick=\"convertToInteractive('df-843169ca-1e89-4eac-933a-fa5a27aa7a7e')\"\n",
              "              title=\"Convert this dataframe to an interactive table.\"\n",
              "              style=\"display:none;\">\n",
              "\n",
              "  <svg xmlns=\"http://www.w3.org/2000/svg\" height=\"24px\"viewBox=\"0 0 24 24\"\n",
              "       width=\"24px\">\n",
              "    <path d=\"M0 0h24v24H0V0z\" fill=\"none\"/>\n",
              "    <path d=\"M18.56 5.44l.94 2.06.94-2.06 2.06-.94-2.06-.94-.94-2.06-.94 2.06-2.06.94zm-11 1L8.5 8.5l.94-2.06 2.06-.94-2.06-.94L8.5 2.5l-.94 2.06-2.06.94zm10 10l.94 2.06.94-2.06 2.06-.94-2.06-.94-.94-2.06-.94 2.06-2.06.94z\"/><path d=\"M17.41 7.96l-1.37-1.37c-.4-.4-.92-.59-1.43-.59-.52 0-1.04.2-1.43.59L10.3 9.45l-7.72 7.72c-.78.78-.78 2.05 0 2.83L4 21.41c.39.39.9.59 1.41.59.51 0 1.02-.2 1.41-.59l7.78-7.78 2.81-2.81c.8-.78.8-2.07 0-2.86zM5.41 20L4 18.59l7.72-7.72 1.47 1.35L5.41 20z\"/>\n",
              "  </svg>\n",
              "      </button>\n",
              "\n",
              "\n",
              "\n",
              "    <div id=\"df-3d3c6244-7a79-4c93-bb03-91357dfe3faf\">\n",
              "      <button class=\"colab-df-quickchart\" onclick=\"quickchart('df-3d3c6244-7a79-4c93-bb03-91357dfe3faf')\"\n",
              "              title=\"Suggest charts.\"\n",
              "              style=\"display:none;\">\n",
              "\n",
              "<svg xmlns=\"http://www.w3.org/2000/svg\" height=\"24px\"viewBox=\"0 0 24 24\"\n",
              "     width=\"24px\">\n",
              "    <g>\n",
              "        <path d=\"M19 3H5c-1.1 0-2 .9-2 2v14c0 1.1.9 2 2 2h14c1.1 0 2-.9 2-2V5c0-1.1-.9-2-2-2zM9 17H7v-7h2v7zm4 0h-2V7h2v10zm4 0h-2v-4h2v4z\"/>\n",
              "    </g>\n",
              "</svg>\n",
              "      </button>\n",
              "    </div>\n",
              "\n",
              "<style>\n",
              "  .colab-df-quickchart {\n",
              "    background-color: #E8F0FE;\n",
              "    border: none;\n",
              "    border-radius: 50%;\n",
              "    cursor: pointer;\n",
              "    display: none;\n",
              "    fill: #1967D2;\n",
              "    height: 32px;\n",
              "    padding: 0 0 0 0;\n",
              "    width: 32px;\n",
              "  }\n",
              "\n",
              "  .colab-df-quickchart:hover {\n",
              "    background-color: #E2EBFA;\n",
              "    box-shadow: 0px 1px 2px rgba(60, 64, 67, 0.3), 0px 1px 3px 1px rgba(60, 64, 67, 0.15);\n",
              "    fill: #174EA6;\n",
              "  }\n",
              "\n",
              "  [theme=dark] .colab-df-quickchart {\n",
              "    background-color: #3B4455;\n",
              "    fill: #D2E3FC;\n",
              "  }\n",
              "\n",
              "  [theme=dark] .colab-df-quickchart:hover {\n",
              "    background-color: #434B5C;\n",
              "    box-shadow: 0px 1px 3px 1px rgba(0, 0, 0, 0.15);\n",
              "    filter: drop-shadow(0px 1px 2px rgba(0, 0, 0, 0.3));\n",
              "    fill: #FFFFFF;\n",
              "  }\n",
              "</style>\n",
              "\n",
              "    <script>\n",
              "      async function quickchart(key) {\n",
              "        const containerElement = document.querySelector('#' + key);\n",
              "        const charts = await google.colab.kernel.invokeFunction(\n",
              "            'suggestCharts', [key], {});\n",
              "      }\n",
              "    </script>\n",
              "\n",
              "      <script>\n",
              "\n",
              "function displayQuickchartButton(domScope) {\n",
              "  let quickchartButtonEl =\n",
              "    domScope.querySelector('#df-3d3c6244-7a79-4c93-bb03-91357dfe3faf button.colab-df-quickchart');\n",
              "  quickchartButtonEl.style.display =\n",
              "    google.colab.kernel.accessAllowed ? 'block' : 'none';\n",
              "}\n",
              "\n",
              "        displayQuickchartButton(document);\n",
              "      </script>\n",
              "      <style>\n",
              "    .colab-df-container {\n",
              "      display:flex;\n",
              "      flex-wrap:wrap;\n",
              "      gap: 12px;\n",
              "    }\n",
              "\n",
              "    .colab-df-convert {\n",
              "      background-color: #E8F0FE;\n",
              "      border: none;\n",
              "      border-radius: 50%;\n",
              "      cursor: pointer;\n",
              "      display: none;\n",
              "      fill: #1967D2;\n",
              "      height: 32px;\n",
              "      padding: 0 0 0 0;\n",
              "      width: 32px;\n",
              "    }\n",
              "\n",
              "    .colab-df-convert:hover {\n",
              "      background-color: #E2EBFA;\n",
              "      box-shadow: 0px 1px 2px rgba(60, 64, 67, 0.3), 0px 1px 3px 1px rgba(60, 64, 67, 0.15);\n",
              "      fill: #174EA6;\n",
              "    }\n",
              "\n",
              "    [theme=dark] .colab-df-convert {\n",
              "      background-color: #3B4455;\n",
              "      fill: #D2E3FC;\n",
              "    }\n",
              "\n",
              "    [theme=dark] .colab-df-convert:hover {\n",
              "      background-color: #434B5C;\n",
              "      box-shadow: 0px 1px 3px 1px rgba(0, 0, 0, 0.15);\n",
              "      filter: drop-shadow(0px 1px 2px rgba(0, 0, 0, 0.3));\n",
              "      fill: #FFFFFF;\n",
              "    }\n",
              "  </style>\n",
              "\n",
              "      <script>\n",
              "        const buttonEl =\n",
              "          document.querySelector('#df-843169ca-1e89-4eac-933a-fa5a27aa7a7e button.colab-df-convert');\n",
              "        buttonEl.style.display =\n",
              "          google.colab.kernel.accessAllowed ? 'block' : 'none';\n",
              "\n",
              "        async function convertToInteractive(key) {\n",
              "          const element = document.querySelector('#df-843169ca-1e89-4eac-933a-fa5a27aa7a7e');\n",
              "          const dataTable =\n",
              "            await google.colab.kernel.invokeFunction('convertToInteractive',\n",
              "                                                     [key], {});\n",
              "          if (!dataTable) return;\n",
              "\n",
              "          const docLinkHtml = 'Like what you see? Visit the ' +\n",
              "            '<a target=\"_blank\" href=https://colab.research.google.com/notebooks/data_table.ipynb>data table notebook</a>'\n",
              "            + ' to learn more about interactive tables.';\n",
              "          element.innerHTML = '';\n",
              "          dataTable['output_type'] = 'display_data';\n",
              "          await google.colab.output.renderOutput(dataTable, element);\n",
              "          const docLink = document.createElement('div');\n",
              "          docLink.innerHTML = docLinkHtml;\n",
              "          element.appendChild(docLink);\n",
              "        }\n",
              "      </script>\n",
              "    </div>\n",
              "  </div>\n"
            ]
          },
          "metadata": {},
          "execution_count": 122
        }
      ]
    },
    {
      "cell_type": "code",
      "source": [
        "join_gid_with_prio_grid = pd.merge(join_gid_diff_in_count, priogrid, on='gid', how='left')\n",
        "join_gid_with_prio_grid.head(20)\n"
      ],
      "metadata": {
        "colab": {
          "base_uri": "https://localhost:8080/",
          "height": 677
        },
        "id": "etCgvCm3HB9u",
        "outputId": "3594fa7e-a9d1-4fa9-9ef7-0c033cd79645"
      },
      "execution_count": 123,
      "outputs": [
        {
          "output_type": "execute_result",
          "data": {
            "text/plain": [
              "       gid  gid_counts_x  gid_counts_y  countDiff  \\\n",
              "0   199877        1772.0          19.0     1753.0   \n",
              "1   199156        1571.0           7.0     1564.0   \n",
              "2   202033         773.0           2.0      771.0   \n",
              "3   199157         764.0           0.0      764.0   \n",
              "4   199876         468.0           7.0      461.0   \n",
              "5   200595         446.0           0.0      446.0   \n",
              "6   199878         446.0           2.0      444.0   \n",
              "7   198436         444.0           1.0      443.0   \n",
              "8   199875         436.0           0.0      436.0   \n",
              "9   198435         401.0           0.0      401.0   \n",
              "10  201314         369.0           1.0      368.0   \n",
              "11  200594         357.0           0.0      357.0   \n",
              "12  198433         334.0           0.0      334.0   \n",
              "13  201313         343.0          10.0      333.0   \n",
              "14  196985         307.0           0.0      307.0   \n",
              "15  198434         296.0           0.0      296.0   \n",
              "16  197707         264.0           1.0      263.0   \n",
              "17  200597         257.0           3.0      254.0   \n",
              "18  196984         255.0           3.0      252.0   \n",
              "19  202741         252.0           1.0      251.0   \n",
              "\n",
              "                                             geometry  \n",
              "0   POLYGON ((38.00000 48.50000, 38.00000 49.00000...  \n",
              "1   POLYGON ((37.50000 48.00000, 37.50000 48.50000...  \n",
              "2   POLYGON ((36.00000 50.00000, 36.00000 50.50000...  \n",
              "3   POLYGON ((38.00000 48.00000, 38.00000 48.50000...  \n",
              "4   POLYGON ((37.50000 48.50000, 37.50000 49.00000...  \n",
              "5   POLYGON ((37.00000 49.00000, 37.00000 49.50000...  \n",
              "6   POLYGON ((38.50000 48.50000, 38.50000 49.00000...  \n",
              "7   POLYGON ((37.50000 47.50000, 37.50000 48.00000...  \n",
              "8   POLYGON ((37.00000 48.50000, 37.00000 49.00000...  \n",
              "9   POLYGON ((37.00000 47.50000, 37.00000 48.00000...  \n",
              "10  POLYGON ((36.50000 49.50000, 36.50000 50.00000...  \n",
              "11  POLYGON ((36.50000 49.00000, 36.50000 49.50000...  \n",
              "12  POLYGON ((36.00000 47.50000, 36.00000 48.00000...  \n",
              "13  POLYGON ((36.00000 49.50000, 36.00000 50.00000...  \n",
              "14  POLYGON ((32.00000 46.50000, 32.00000 47.00000...  \n",
              "15  POLYGON ((36.50000 47.50000, 36.50000 48.00000...  \n",
              "16  POLYGON ((33.00000 47.00000, 33.00000 47.50000...  \n",
              "17  POLYGON ((38.00000 49.00000, 38.00000 49.50000...  \n",
              "18  POLYGON ((31.50000 46.50000, 31.50000 47.00000...  \n",
              "19  POLYGON ((30.00000 50.50000, 30.00000 51.00000...  "
            ],
            "text/html": [
              "\n",
              "\n",
              "  <div id=\"df-f1351fe3-1b45-485b-933b-690dab20c3c9\">\n",
              "    <div class=\"colab-df-container\">\n",
              "      <div>\n",
              "<style scoped>\n",
              "    .dataframe tbody tr th:only-of-type {\n",
              "        vertical-align: middle;\n",
              "    }\n",
              "\n",
              "    .dataframe tbody tr th {\n",
              "        vertical-align: top;\n",
              "    }\n",
              "\n",
              "    .dataframe thead th {\n",
              "        text-align: right;\n",
              "    }\n",
              "</style>\n",
              "<table border=\"1\" class=\"dataframe\">\n",
              "  <thead>\n",
              "    <tr style=\"text-align: right;\">\n",
              "      <th></th>\n",
              "      <th>gid</th>\n",
              "      <th>gid_counts_x</th>\n",
              "      <th>gid_counts_y</th>\n",
              "      <th>countDiff</th>\n",
              "      <th>geometry</th>\n",
              "    </tr>\n",
              "  </thead>\n",
              "  <tbody>\n",
              "    <tr>\n",
              "      <th>0</th>\n",
              "      <td>199877</td>\n",
              "      <td>1772.0</td>\n",
              "      <td>19.0</td>\n",
              "      <td>1753.0</td>\n",
              "      <td>POLYGON ((38.00000 48.50000, 38.00000 49.00000...</td>\n",
              "    </tr>\n",
              "    <tr>\n",
              "      <th>1</th>\n",
              "      <td>199156</td>\n",
              "      <td>1571.0</td>\n",
              "      <td>7.0</td>\n",
              "      <td>1564.0</td>\n",
              "      <td>POLYGON ((37.50000 48.00000, 37.50000 48.50000...</td>\n",
              "    </tr>\n",
              "    <tr>\n",
              "      <th>2</th>\n",
              "      <td>202033</td>\n",
              "      <td>773.0</td>\n",
              "      <td>2.0</td>\n",
              "      <td>771.0</td>\n",
              "      <td>POLYGON ((36.00000 50.00000, 36.00000 50.50000...</td>\n",
              "    </tr>\n",
              "    <tr>\n",
              "      <th>3</th>\n",
              "      <td>199157</td>\n",
              "      <td>764.0</td>\n",
              "      <td>0.0</td>\n",
              "      <td>764.0</td>\n",
              "      <td>POLYGON ((38.00000 48.00000, 38.00000 48.50000...</td>\n",
              "    </tr>\n",
              "    <tr>\n",
              "      <th>4</th>\n",
              "      <td>199876</td>\n",
              "      <td>468.0</td>\n",
              "      <td>7.0</td>\n",
              "      <td>461.0</td>\n",
              "      <td>POLYGON ((37.50000 48.50000, 37.50000 49.00000...</td>\n",
              "    </tr>\n",
              "    <tr>\n",
              "      <th>5</th>\n",
              "      <td>200595</td>\n",
              "      <td>446.0</td>\n",
              "      <td>0.0</td>\n",
              "      <td>446.0</td>\n",
              "      <td>POLYGON ((37.00000 49.00000, 37.00000 49.50000...</td>\n",
              "    </tr>\n",
              "    <tr>\n",
              "      <th>6</th>\n",
              "      <td>199878</td>\n",
              "      <td>446.0</td>\n",
              "      <td>2.0</td>\n",
              "      <td>444.0</td>\n",
              "      <td>POLYGON ((38.50000 48.50000, 38.50000 49.00000...</td>\n",
              "    </tr>\n",
              "    <tr>\n",
              "      <th>7</th>\n",
              "      <td>198436</td>\n",
              "      <td>444.0</td>\n",
              "      <td>1.0</td>\n",
              "      <td>443.0</td>\n",
              "      <td>POLYGON ((37.50000 47.50000, 37.50000 48.00000...</td>\n",
              "    </tr>\n",
              "    <tr>\n",
              "      <th>8</th>\n",
              "      <td>199875</td>\n",
              "      <td>436.0</td>\n",
              "      <td>0.0</td>\n",
              "      <td>436.0</td>\n",
              "      <td>POLYGON ((37.00000 48.50000, 37.00000 49.00000...</td>\n",
              "    </tr>\n",
              "    <tr>\n",
              "      <th>9</th>\n",
              "      <td>198435</td>\n",
              "      <td>401.0</td>\n",
              "      <td>0.0</td>\n",
              "      <td>401.0</td>\n",
              "      <td>POLYGON ((37.00000 47.50000, 37.00000 48.00000...</td>\n",
              "    </tr>\n",
              "    <tr>\n",
              "      <th>10</th>\n",
              "      <td>201314</td>\n",
              "      <td>369.0</td>\n",
              "      <td>1.0</td>\n",
              "      <td>368.0</td>\n",
              "      <td>POLYGON ((36.50000 49.50000, 36.50000 50.00000...</td>\n",
              "    </tr>\n",
              "    <tr>\n",
              "      <th>11</th>\n",
              "      <td>200594</td>\n",
              "      <td>357.0</td>\n",
              "      <td>0.0</td>\n",
              "      <td>357.0</td>\n",
              "      <td>POLYGON ((36.50000 49.00000, 36.50000 49.50000...</td>\n",
              "    </tr>\n",
              "    <tr>\n",
              "      <th>12</th>\n",
              "      <td>198433</td>\n",
              "      <td>334.0</td>\n",
              "      <td>0.0</td>\n",
              "      <td>334.0</td>\n",
              "      <td>POLYGON ((36.00000 47.50000, 36.00000 48.00000...</td>\n",
              "    </tr>\n",
              "    <tr>\n",
              "      <th>13</th>\n",
              "      <td>201313</td>\n",
              "      <td>343.0</td>\n",
              "      <td>10.0</td>\n",
              "      <td>333.0</td>\n",
              "      <td>POLYGON ((36.00000 49.50000, 36.00000 50.00000...</td>\n",
              "    </tr>\n",
              "    <tr>\n",
              "      <th>14</th>\n",
              "      <td>196985</td>\n",
              "      <td>307.0</td>\n",
              "      <td>0.0</td>\n",
              "      <td>307.0</td>\n",
              "      <td>POLYGON ((32.00000 46.50000, 32.00000 47.00000...</td>\n",
              "    </tr>\n",
              "    <tr>\n",
              "      <th>15</th>\n",
              "      <td>198434</td>\n",
              "      <td>296.0</td>\n",
              "      <td>0.0</td>\n",
              "      <td>296.0</td>\n",
              "      <td>POLYGON ((36.50000 47.50000, 36.50000 48.00000...</td>\n",
              "    </tr>\n",
              "    <tr>\n",
              "      <th>16</th>\n",
              "      <td>197707</td>\n",
              "      <td>264.0</td>\n",
              "      <td>1.0</td>\n",
              "      <td>263.0</td>\n",
              "      <td>POLYGON ((33.00000 47.00000, 33.00000 47.50000...</td>\n",
              "    </tr>\n",
              "    <tr>\n",
              "      <th>17</th>\n",
              "      <td>200597</td>\n",
              "      <td>257.0</td>\n",
              "      <td>3.0</td>\n",
              "      <td>254.0</td>\n",
              "      <td>POLYGON ((38.00000 49.00000, 38.00000 49.50000...</td>\n",
              "    </tr>\n",
              "    <tr>\n",
              "      <th>18</th>\n",
              "      <td>196984</td>\n",
              "      <td>255.0</td>\n",
              "      <td>3.0</td>\n",
              "      <td>252.0</td>\n",
              "      <td>POLYGON ((31.50000 46.50000, 31.50000 47.00000...</td>\n",
              "    </tr>\n",
              "    <tr>\n",
              "      <th>19</th>\n",
              "      <td>202741</td>\n",
              "      <td>252.0</td>\n",
              "      <td>1.0</td>\n",
              "      <td>251.0</td>\n",
              "      <td>POLYGON ((30.00000 50.50000, 30.00000 51.00000...</td>\n",
              "    </tr>\n",
              "  </tbody>\n",
              "</table>\n",
              "</div>\n",
              "      <button class=\"colab-df-convert\" onclick=\"convertToInteractive('df-f1351fe3-1b45-485b-933b-690dab20c3c9')\"\n",
              "              title=\"Convert this dataframe to an interactive table.\"\n",
              "              style=\"display:none;\">\n",
              "\n",
              "  <svg xmlns=\"http://www.w3.org/2000/svg\" height=\"24px\"viewBox=\"0 0 24 24\"\n",
              "       width=\"24px\">\n",
              "    <path d=\"M0 0h24v24H0V0z\" fill=\"none\"/>\n",
              "    <path d=\"M18.56 5.44l.94 2.06.94-2.06 2.06-.94-2.06-.94-.94-2.06-.94 2.06-2.06.94zm-11 1L8.5 8.5l.94-2.06 2.06-.94-2.06-.94L8.5 2.5l-.94 2.06-2.06.94zm10 10l.94 2.06.94-2.06 2.06-.94-2.06-.94-.94-2.06-.94 2.06-2.06.94z\"/><path d=\"M17.41 7.96l-1.37-1.37c-.4-.4-.92-.59-1.43-.59-.52 0-1.04.2-1.43.59L10.3 9.45l-7.72 7.72c-.78.78-.78 2.05 0 2.83L4 21.41c.39.39.9.59 1.41.59.51 0 1.02-.2 1.41-.59l7.78-7.78 2.81-2.81c.8-.78.8-2.07 0-2.86zM5.41 20L4 18.59l7.72-7.72 1.47 1.35L5.41 20z\"/>\n",
              "  </svg>\n",
              "      </button>\n",
              "\n",
              "\n",
              "\n",
              "    <div id=\"df-4c17452e-4f5e-461b-8903-2efe1cc38130\">\n",
              "      <button class=\"colab-df-quickchart\" onclick=\"quickchart('df-4c17452e-4f5e-461b-8903-2efe1cc38130')\"\n",
              "              title=\"Suggest charts.\"\n",
              "              style=\"display:none;\">\n",
              "\n",
              "<svg xmlns=\"http://www.w3.org/2000/svg\" height=\"24px\"viewBox=\"0 0 24 24\"\n",
              "     width=\"24px\">\n",
              "    <g>\n",
              "        <path d=\"M19 3H5c-1.1 0-2 .9-2 2v14c0 1.1.9 2 2 2h14c1.1 0 2-.9 2-2V5c0-1.1-.9-2-2-2zM9 17H7v-7h2v7zm4 0h-2V7h2v10zm4 0h-2v-4h2v4z\"/>\n",
              "    </g>\n",
              "</svg>\n",
              "      </button>\n",
              "    </div>\n",
              "\n",
              "<style>\n",
              "  .colab-df-quickchart {\n",
              "    background-color: #E8F0FE;\n",
              "    border: none;\n",
              "    border-radius: 50%;\n",
              "    cursor: pointer;\n",
              "    display: none;\n",
              "    fill: #1967D2;\n",
              "    height: 32px;\n",
              "    padding: 0 0 0 0;\n",
              "    width: 32px;\n",
              "  }\n",
              "\n",
              "  .colab-df-quickchart:hover {\n",
              "    background-color: #E2EBFA;\n",
              "    box-shadow: 0px 1px 2px rgba(60, 64, 67, 0.3), 0px 1px 3px 1px rgba(60, 64, 67, 0.15);\n",
              "    fill: #174EA6;\n",
              "  }\n",
              "\n",
              "  [theme=dark] .colab-df-quickchart {\n",
              "    background-color: #3B4455;\n",
              "    fill: #D2E3FC;\n",
              "  }\n",
              "\n",
              "  [theme=dark] .colab-df-quickchart:hover {\n",
              "    background-color: #434B5C;\n",
              "    box-shadow: 0px 1px 3px 1px rgba(0, 0, 0, 0.15);\n",
              "    filter: drop-shadow(0px 1px 2px rgba(0, 0, 0, 0.3));\n",
              "    fill: #FFFFFF;\n",
              "  }\n",
              "</style>\n",
              "\n",
              "    <script>\n",
              "      async function quickchart(key) {\n",
              "        const containerElement = document.querySelector('#' + key);\n",
              "        const charts = await google.colab.kernel.invokeFunction(\n",
              "            'suggestCharts', [key], {});\n",
              "      }\n",
              "    </script>\n",
              "\n",
              "      <script>\n",
              "\n",
              "function displayQuickchartButton(domScope) {\n",
              "  let quickchartButtonEl =\n",
              "    domScope.querySelector('#df-4c17452e-4f5e-461b-8903-2efe1cc38130 button.colab-df-quickchart');\n",
              "  quickchartButtonEl.style.display =\n",
              "    google.colab.kernel.accessAllowed ? 'block' : 'none';\n",
              "}\n",
              "\n",
              "        displayQuickchartButton(document);\n",
              "      </script>\n",
              "      <style>\n",
              "    .colab-df-container {\n",
              "      display:flex;\n",
              "      flex-wrap:wrap;\n",
              "      gap: 12px;\n",
              "    }\n",
              "\n",
              "    .colab-df-convert {\n",
              "      background-color: #E8F0FE;\n",
              "      border: none;\n",
              "      border-radius: 50%;\n",
              "      cursor: pointer;\n",
              "      display: none;\n",
              "      fill: #1967D2;\n",
              "      height: 32px;\n",
              "      padding: 0 0 0 0;\n",
              "      width: 32px;\n",
              "    }\n",
              "\n",
              "    .colab-df-convert:hover {\n",
              "      background-color: #E2EBFA;\n",
              "      box-shadow: 0px 1px 2px rgba(60, 64, 67, 0.3), 0px 1px 3px 1px rgba(60, 64, 67, 0.15);\n",
              "      fill: #174EA6;\n",
              "    }\n",
              "\n",
              "    [theme=dark] .colab-df-convert {\n",
              "      background-color: #3B4455;\n",
              "      fill: #D2E3FC;\n",
              "    }\n",
              "\n",
              "    [theme=dark] .colab-df-convert:hover {\n",
              "      background-color: #434B5C;\n",
              "      box-shadow: 0px 1px 3px 1px rgba(0, 0, 0, 0.15);\n",
              "      filter: drop-shadow(0px 1px 2px rgba(0, 0, 0, 0.3));\n",
              "      fill: #FFFFFF;\n",
              "    }\n",
              "  </style>\n",
              "\n",
              "      <script>\n",
              "        const buttonEl =\n",
              "          document.querySelector('#df-f1351fe3-1b45-485b-933b-690dab20c3c9 button.colab-df-convert');\n",
              "        buttonEl.style.display =\n",
              "          google.colab.kernel.accessAllowed ? 'block' : 'none';\n",
              "\n",
              "        async function convertToInteractive(key) {\n",
              "          const element = document.querySelector('#df-f1351fe3-1b45-485b-933b-690dab20c3c9');\n",
              "          const dataTable =\n",
              "            await google.colab.kernel.invokeFunction('convertToInteractive',\n",
              "                                                     [key], {});\n",
              "          if (!dataTable) return;\n",
              "\n",
              "          const docLinkHtml = 'Like what you see? Visit the ' +\n",
              "            '<a target=\"_blank\" href=https://colab.research.google.com/notebooks/data_table.ipynb>data table notebook</a>'\n",
              "            + ' to learn more about interactive tables.';\n",
              "          element.innerHTML = '';\n",
              "          dataTable['output_type'] = 'display_data';\n",
              "          await google.colab.output.renderOutput(dataTable, element);\n",
              "          const docLink = document.createElement('div');\n",
              "          docLink.innerHTML = docLinkHtml;\n",
              "          element.appendChild(docLink);\n",
              "        }\n",
              "      </script>\n",
              "    </div>\n",
              "  </div>\n"
            ]
          },
          "metadata": {},
          "execution_count": 123
        }
      ]
    },
    {
      "cell_type": "markdown",
      "source": [
        "### METRICS 1: Timeseries of daily \"protest cells\""
      ],
      "metadata": {
        "id": "y0bwYyugPSSc"
      }
    },
    {
      "cell_type": "code",
      "execution_count": null,
      "metadata": {
        "id": "cvDfPd-P8Jvs"
      },
      "outputs": [],
      "source": [
        "time_series_gs_events = pd.DataFrame(columns=['Day','AttackCells'])\n",
        "\n",
        "time_series_gs_events.Day = [  group[0] for group in gs_ukr_rus_PrioAggregated.groupby(gs_ukr_rus_PrioAggregated['date']) ]\n",
        "time_series_gs_events.AttackCells = [   group[1]['gid'].nunique() for group in gs_ukr_rus_PrioAggregated.groupby(gs_ukr_rus_PrioAggregated['date']) ]\n",
        "\n",
        "time_series_gs_events.head(10)"
      ]
    },
    {
      "cell_type": "code",
      "execution_count": 137,
      "metadata": {
        "id": "3rnT-fJz8Jvs",
        "colab": {
          "base_uri": "https://localhost:8080/",
          "height": 363
        },
        "outputId": "b45bbf61-1fe7-4ebf-9711-4eae2993db56"
      },
      "outputs": [
        {
          "output_type": "execute_result",
          "data": {
            "text/plain": [
              "         Day  AttackCells\n",
              "0 2022-02-24            1\n",
              "1 2022-02-25            1\n",
              "2 2022-02-26            1\n",
              "3 2022-02-28            1\n",
              "4 2022-03-01            2\n",
              "5 2022-03-03            1\n",
              "6 2022-03-11            2\n",
              "7 2022-03-12            1\n",
              "8 2022-03-14            2\n",
              "9 2022-03-19            1"
            ],
            "text/html": [
              "\n",
              "\n",
              "  <div id=\"df-5a35e9da-88ab-465b-a947-b58d70265527\">\n",
              "    <div class=\"colab-df-container\">\n",
              "      <div>\n",
              "<style scoped>\n",
              "    .dataframe tbody tr th:only-of-type {\n",
              "        vertical-align: middle;\n",
              "    }\n",
              "\n",
              "    .dataframe tbody tr th {\n",
              "        vertical-align: top;\n",
              "    }\n",
              "\n",
              "    .dataframe thead th {\n",
              "        text-align: right;\n",
              "    }\n",
              "</style>\n",
              "<table border=\"1\" class=\"dataframe\">\n",
              "  <thead>\n",
              "    <tr style=\"text-align: right;\">\n",
              "      <th></th>\n",
              "      <th>Day</th>\n",
              "      <th>AttackCells</th>\n",
              "    </tr>\n",
              "  </thead>\n",
              "  <tbody>\n",
              "    <tr>\n",
              "      <th>0</th>\n",
              "      <td>2022-02-24</td>\n",
              "      <td>1</td>\n",
              "    </tr>\n",
              "    <tr>\n",
              "      <th>1</th>\n",
              "      <td>2022-02-25</td>\n",
              "      <td>1</td>\n",
              "    </tr>\n",
              "    <tr>\n",
              "      <th>2</th>\n",
              "      <td>2022-02-26</td>\n",
              "      <td>1</td>\n",
              "    </tr>\n",
              "    <tr>\n",
              "      <th>3</th>\n",
              "      <td>2022-02-28</td>\n",
              "      <td>1</td>\n",
              "    </tr>\n",
              "    <tr>\n",
              "      <th>4</th>\n",
              "      <td>2022-03-01</td>\n",
              "      <td>2</td>\n",
              "    </tr>\n",
              "    <tr>\n",
              "      <th>5</th>\n",
              "      <td>2022-03-03</td>\n",
              "      <td>1</td>\n",
              "    </tr>\n",
              "    <tr>\n",
              "      <th>6</th>\n",
              "      <td>2022-03-11</td>\n",
              "      <td>2</td>\n",
              "    </tr>\n",
              "    <tr>\n",
              "      <th>7</th>\n",
              "      <td>2022-03-12</td>\n",
              "      <td>1</td>\n",
              "    </tr>\n",
              "    <tr>\n",
              "      <th>8</th>\n",
              "      <td>2022-03-14</td>\n",
              "      <td>2</td>\n",
              "    </tr>\n",
              "    <tr>\n",
              "      <th>9</th>\n",
              "      <td>2022-03-19</td>\n",
              "      <td>1</td>\n",
              "    </tr>\n",
              "  </tbody>\n",
              "</table>\n",
              "</div>\n",
              "      <button class=\"colab-df-convert\" onclick=\"convertToInteractive('df-5a35e9da-88ab-465b-a947-b58d70265527')\"\n",
              "              title=\"Convert this dataframe to an interactive table.\"\n",
              "              style=\"display:none;\">\n",
              "\n",
              "  <svg xmlns=\"http://www.w3.org/2000/svg\" height=\"24px\"viewBox=\"0 0 24 24\"\n",
              "       width=\"24px\">\n",
              "    <path d=\"M0 0h24v24H0V0z\" fill=\"none\"/>\n",
              "    <path d=\"M18.56 5.44l.94 2.06.94-2.06 2.06-.94-2.06-.94-.94-2.06-.94 2.06-2.06.94zm-11 1L8.5 8.5l.94-2.06 2.06-.94-2.06-.94L8.5 2.5l-.94 2.06-2.06.94zm10 10l.94 2.06.94-2.06 2.06-.94-2.06-.94-.94-2.06-.94 2.06-2.06.94z\"/><path d=\"M17.41 7.96l-1.37-1.37c-.4-.4-.92-.59-1.43-.59-.52 0-1.04.2-1.43.59L10.3 9.45l-7.72 7.72c-.78.78-.78 2.05 0 2.83L4 21.41c.39.39.9.59 1.41.59.51 0 1.02-.2 1.41-.59l7.78-7.78 2.81-2.81c.8-.78.8-2.07 0-2.86zM5.41 20L4 18.59l7.72-7.72 1.47 1.35L5.41 20z\"/>\n",
              "  </svg>\n",
              "      </button>\n",
              "\n",
              "\n",
              "\n",
              "    <div id=\"df-49c46068-9193-4fbc-b787-bd84d7e03784\">\n",
              "      <button class=\"colab-df-quickchart\" onclick=\"quickchart('df-49c46068-9193-4fbc-b787-bd84d7e03784')\"\n",
              "              title=\"Suggest charts.\"\n",
              "              style=\"display:none;\">\n",
              "\n",
              "<svg xmlns=\"http://www.w3.org/2000/svg\" height=\"24px\"viewBox=\"0 0 24 24\"\n",
              "     width=\"24px\">\n",
              "    <g>\n",
              "        <path d=\"M19 3H5c-1.1 0-2 .9-2 2v14c0 1.1.9 2 2 2h14c1.1 0 2-.9 2-2V5c0-1.1-.9-2-2-2zM9 17H7v-7h2v7zm4 0h-2V7h2v10zm4 0h-2v-4h2v4z\"/>\n",
              "    </g>\n",
              "</svg>\n",
              "      </button>\n",
              "    </div>\n",
              "\n",
              "<style>\n",
              "  .colab-df-quickchart {\n",
              "    background-color: #E8F0FE;\n",
              "    border: none;\n",
              "    border-radius: 50%;\n",
              "    cursor: pointer;\n",
              "    display: none;\n",
              "    fill: #1967D2;\n",
              "    height: 32px;\n",
              "    padding: 0 0 0 0;\n",
              "    width: 32px;\n",
              "  }\n",
              "\n",
              "  .colab-df-quickchart:hover {\n",
              "    background-color: #E2EBFA;\n",
              "    box-shadow: 0px 1px 2px rgba(60, 64, 67, 0.3), 0px 1px 3px 1px rgba(60, 64, 67, 0.15);\n",
              "    fill: #174EA6;\n",
              "  }\n",
              "\n",
              "  [theme=dark] .colab-df-quickchart {\n",
              "    background-color: #3B4455;\n",
              "    fill: #D2E3FC;\n",
              "  }\n",
              "\n",
              "  [theme=dark] .colab-df-quickchart:hover {\n",
              "    background-color: #434B5C;\n",
              "    box-shadow: 0px 1px 3px 1px rgba(0, 0, 0, 0.15);\n",
              "    filter: drop-shadow(0px 1px 2px rgba(0, 0, 0, 0.3));\n",
              "    fill: #FFFFFF;\n",
              "  }\n",
              "</style>\n",
              "\n",
              "    <script>\n",
              "      async function quickchart(key) {\n",
              "        const containerElement = document.querySelector('#' + key);\n",
              "        const charts = await google.colab.kernel.invokeFunction(\n",
              "            'suggestCharts', [key], {});\n",
              "      }\n",
              "    </script>\n",
              "\n",
              "      <script>\n",
              "\n",
              "function displayQuickchartButton(domScope) {\n",
              "  let quickchartButtonEl =\n",
              "    domScope.querySelector('#df-49c46068-9193-4fbc-b787-bd84d7e03784 button.colab-df-quickchart');\n",
              "  quickchartButtonEl.style.display =\n",
              "    google.colab.kernel.accessAllowed ? 'block' : 'none';\n",
              "}\n",
              "\n",
              "        displayQuickchartButton(document);\n",
              "      </script>\n",
              "      <style>\n",
              "    .colab-df-container {\n",
              "      display:flex;\n",
              "      flex-wrap:wrap;\n",
              "      gap: 12px;\n",
              "    }\n",
              "\n",
              "    .colab-df-convert {\n",
              "      background-color: #E8F0FE;\n",
              "      border: none;\n",
              "      border-radius: 50%;\n",
              "      cursor: pointer;\n",
              "      display: none;\n",
              "      fill: #1967D2;\n",
              "      height: 32px;\n",
              "      padding: 0 0 0 0;\n",
              "      width: 32px;\n",
              "    }\n",
              "\n",
              "    .colab-df-convert:hover {\n",
              "      background-color: #E2EBFA;\n",
              "      box-shadow: 0px 1px 2px rgba(60, 64, 67, 0.3), 0px 1px 3px 1px rgba(60, 64, 67, 0.15);\n",
              "      fill: #174EA6;\n",
              "    }\n",
              "\n",
              "    [theme=dark] .colab-df-convert {\n",
              "      background-color: #3B4455;\n",
              "      fill: #D2E3FC;\n",
              "    }\n",
              "\n",
              "    [theme=dark] .colab-df-convert:hover {\n",
              "      background-color: #434B5C;\n",
              "      box-shadow: 0px 1px 3px 1px rgba(0, 0, 0, 0.15);\n",
              "      filter: drop-shadow(0px 1px 2px rgba(0, 0, 0, 0.3));\n",
              "      fill: #FFFFFF;\n",
              "    }\n",
              "  </style>\n",
              "\n",
              "      <script>\n",
              "        const buttonEl =\n",
              "          document.querySelector('#df-5a35e9da-88ab-465b-a947-b58d70265527 button.colab-df-convert');\n",
              "        buttonEl.style.display =\n",
              "          google.colab.kernel.accessAllowed ? 'block' : 'none';\n",
              "\n",
              "        async function convertToInteractive(key) {\n",
              "          const element = document.querySelector('#df-5a35e9da-88ab-465b-a947-b58d70265527');\n",
              "          const dataTable =\n",
              "            await google.colab.kernel.invokeFunction('convertToInteractive',\n",
              "                                                     [key], {});\n",
              "          if (!dataTable) return;\n",
              "\n",
              "          const docLinkHtml = 'Like what you see? Visit the ' +\n",
              "            '<a target=\"_blank\" href=https://colab.research.google.com/notebooks/data_table.ipynb>data table notebook</a>'\n",
              "            + ' to learn more about interactive tables.';\n",
              "          element.innerHTML = '';\n",
              "          dataTable['output_type'] = 'display_data';\n",
              "          await google.colab.output.renderOutput(dataTable, element);\n",
              "          const docLink = document.createElement('div');\n",
              "          docLink.innerHTML = docLinkHtml;\n",
              "          element.appendChild(docLink);\n",
              "        }\n",
              "      </script>\n",
              "    </div>\n",
              "  </div>\n"
            ]
          },
          "metadata": {},
          "execution_count": 137
        }
      ],
      "source": [
        "time_series_so_events = pd.DataFrame(columns=['Day','AttackCells'])\n",
        "\n",
        "time_series_so_events.Day = [  group[0] for group in system_output_PrioAggregated.groupby(system_output_PrioAggregated['date']) ]\n",
        "time_series_so_events.AttackCells = [   group[1]['gid'].nunique() for group in system_output_PrioAggregated.groupby(system_output_PrioAggregated['date']) ]\n",
        "\n",
        "time_series_so_events.head(10)\n"
      ]
    },
    {
      "cell_type": "code",
      "execution_count": 138,
      "metadata": {
        "id": "-kfhNlcx8Jvs"
      },
      "outputs": [],
      "source": [
        "joined_data_frame1 = (pd.merge(time_series_gs_events, time_series_so_events, on='Day', how='outer')\n",
        "        .fillna(0)\n",
        "        .sort_values('Day')\n",
        "        .set_index('Day'))"
      ]
    },
    {
      "cell_type": "code",
      "source": [
        "joined_data_frame1.head()"
      ],
      "metadata": {
        "colab": {
          "base_uri": "https://localhost:8080/",
          "height": 238
        },
        "id": "3AfLEFoeUPWt",
        "outputId": "88648439-57c2-4bfe-d7c4-d8504a846a39"
      },
      "execution_count": 105,
      "outputs": [
        {
          "output_type": "execute_result",
          "data": {
            "text/plain": [
              "                           AttackCells_x  AttackCells_y\n",
              "Day                                                    \n",
              "2022-02-24 00:00:00+00:00             40            1.0\n",
              "2022-02-25 00:00:00+00:00             40            1.0\n",
              "2022-02-26 00:00:00+00:00             44            1.0\n",
              "2022-02-27 00:00:00+00:00             30            0.0\n",
              "2022-02-28 00:00:00+00:00             36            1.0"
            ],
            "text/html": [
              "\n",
              "\n",
              "  <div id=\"df-84b73271-7422-4705-bb93-65919f7381ff\">\n",
              "    <div class=\"colab-df-container\">\n",
              "      <div>\n",
              "<style scoped>\n",
              "    .dataframe tbody tr th:only-of-type {\n",
              "        vertical-align: middle;\n",
              "    }\n",
              "\n",
              "    .dataframe tbody tr th {\n",
              "        vertical-align: top;\n",
              "    }\n",
              "\n",
              "    .dataframe thead th {\n",
              "        text-align: right;\n",
              "    }\n",
              "</style>\n",
              "<table border=\"1\" class=\"dataframe\">\n",
              "  <thead>\n",
              "    <tr style=\"text-align: right;\">\n",
              "      <th></th>\n",
              "      <th>AttackCells_x</th>\n",
              "      <th>AttackCells_y</th>\n",
              "    </tr>\n",
              "    <tr>\n",
              "      <th>Day</th>\n",
              "      <th></th>\n",
              "      <th></th>\n",
              "    </tr>\n",
              "  </thead>\n",
              "  <tbody>\n",
              "    <tr>\n",
              "      <th>2022-02-24 00:00:00+00:00</th>\n",
              "      <td>40</td>\n",
              "      <td>1.0</td>\n",
              "    </tr>\n",
              "    <tr>\n",
              "      <th>2022-02-25 00:00:00+00:00</th>\n",
              "      <td>40</td>\n",
              "      <td>1.0</td>\n",
              "    </tr>\n",
              "    <tr>\n",
              "      <th>2022-02-26 00:00:00+00:00</th>\n",
              "      <td>44</td>\n",
              "      <td>1.0</td>\n",
              "    </tr>\n",
              "    <tr>\n",
              "      <th>2022-02-27 00:00:00+00:00</th>\n",
              "      <td>30</td>\n",
              "      <td>0.0</td>\n",
              "    </tr>\n",
              "    <tr>\n",
              "      <th>2022-02-28 00:00:00+00:00</th>\n",
              "      <td>36</td>\n",
              "      <td>1.0</td>\n",
              "    </tr>\n",
              "  </tbody>\n",
              "</table>\n",
              "</div>\n",
              "      <button class=\"colab-df-convert\" onclick=\"convertToInteractive('df-84b73271-7422-4705-bb93-65919f7381ff')\"\n",
              "              title=\"Convert this dataframe to an interactive table.\"\n",
              "              style=\"display:none;\">\n",
              "\n",
              "  <svg xmlns=\"http://www.w3.org/2000/svg\" height=\"24px\"viewBox=\"0 0 24 24\"\n",
              "       width=\"24px\">\n",
              "    <path d=\"M0 0h24v24H0V0z\" fill=\"none\"/>\n",
              "    <path d=\"M18.56 5.44l.94 2.06.94-2.06 2.06-.94-2.06-.94-.94-2.06-.94 2.06-2.06.94zm-11 1L8.5 8.5l.94-2.06 2.06-.94-2.06-.94L8.5 2.5l-.94 2.06-2.06.94zm10 10l.94 2.06.94-2.06 2.06-.94-2.06-.94-.94-2.06-.94 2.06-2.06.94z\"/><path d=\"M17.41 7.96l-1.37-1.37c-.4-.4-.92-.59-1.43-.59-.52 0-1.04.2-1.43.59L10.3 9.45l-7.72 7.72c-.78.78-.78 2.05 0 2.83L4 21.41c.39.39.9.59 1.41.59.51 0 1.02-.2 1.41-.59l7.78-7.78 2.81-2.81c.8-.78.8-2.07 0-2.86zM5.41 20L4 18.59l7.72-7.72 1.47 1.35L5.41 20z\"/>\n",
              "  </svg>\n",
              "      </button>\n",
              "\n",
              "\n",
              "\n",
              "    <div id=\"df-33815c3b-aba4-4f2f-a4ea-747d1561a651\">\n",
              "      <button class=\"colab-df-quickchart\" onclick=\"quickchart('df-33815c3b-aba4-4f2f-a4ea-747d1561a651')\"\n",
              "              title=\"Suggest charts.\"\n",
              "              style=\"display:none;\">\n",
              "\n",
              "<svg xmlns=\"http://www.w3.org/2000/svg\" height=\"24px\"viewBox=\"0 0 24 24\"\n",
              "     width=\"24px\">\n",
              "    <g>\n",
              "        <path d=\"M19 3H5c-1.1 0-2 .9-2 2v14c0 1.1.9 2 2 2h14c1.1 0 2-.9 2-2V5c0-1.1-.9-2-2-2zM9 17H7v-7h2v7zm4 0h-2V7h2v10zm4 0h-2v-4h2v4z\"/>\n",
              "    </g>\n",
              "</svg>\n",
              "      </button>\n",
              "    </div>\n",
              "\n",
              "<style>\n",
              "  .colab-df-quickchart {\n",
              "    background-color: #E8F0FE;\n",
              "    border: none;\n",
              "    border-radius: 50%;\n",
              "    cursor: pointer;\n",
              "    display: none;\n",
              "    fill: #1967D2;\n",
              "    height: 32px;\n",
              "    padding: 0 0 0 0;\n",
              "    width: 32px;\n",
              "  }\n",
              "\n",
              "  .colab-df-quickchart:hover {\n",
              "    background-color: #E2EBFA;\n",
              "    box-shadow: 0px 1px 2px rgba(60, 64, 67, 0.3), 0px 1px 3px 1px rgba(60, 64, 67, 0.15);\n",
              "    fill: #174EA6;\n",
              "  }\n",
              "\n",
              "  [theme=dark] .colab-df-quickchart {\n",
              "    background-color: #3B4455;\n",
              "    fill: #D2E3FC;\n",
              "  }\n",
              "\n",
              "  [theme=dark] .colab-df-quickchart:hover {\n",
              "    background-color: #434B5C;\n",
              "    box-shadow: 0px 1px 3px 1px rgba(0, 0, 0, 0.15);\n",
              "    filter: drop-shadow(0px 1px 2px rgba(0, 0, 0, 0.3));\n",
              "    fill: #FFFFFF;\n",
              "  }\n",
              "</style>\n",
              "\n",
              "    <script>\n",
              "      async function quickchart(key) {\n",
              "        const containerElement = document.querySelector('#' + key);\n",
              "        const charts = await google.colab.kernel.invokeFunction(\n",
              "            'suggestCharts', [key], {});\n",
              "      }\n",
              "    </script>\n",
              "\n",
              "      <script>\n",
              "\n",
              "function displayQuickchartButton(domScope) {\n",
              "  let quickchartButtonEl =\n",
              "    domScope.querySelector('#df-33815c3b-aba4-4f2f-a4ea-747d1561a651 button.colab-df-quickchart');\n",
              "  quickchartButtonEl.style.display =\n",
              "    google.colab.kernel.accessAllowed ? 'block' : 'none';\n",
              "}\n",
              "\n",
              "        displayQuickchartButton(document);\n",
              "      </script>\n",
              "      <style>\n",
              "    .colab-df-container {\n",
              "      display:flex;\n",
              "      flex-wrap:wrap;\n",
              "      gap: 12px;\n",
              "    }\n",
              "\n",
              "    .colab-df-convert {\n",
              "      background-color: #E8F0FE;\n",
              "      border: none;\n",
              "      border-radius: 50%;\n",
              "      cursor: pointer;\n",
              "      display: none;\n",
              "      fill: #1967D2;\n",
              "      height: 32px;\n",
              "      padding: 0 0 0 0;\n",
              "      width: 32px;\n",
              "    }\n",
              "\n",
              "    .colab-df-convert:hover {\n",
              "      background-color: #E2EBFA;\n",
              "      box-shadow: 0px 1px 2px rgba(60, 64, 67, 0.3), 0px 1px 3px 1px rgba(60, 64, 67, 0.15);\n",
              "      fill: #174EA6;\n",
              "    }\n",
              "\n",
              "    [theme=dark] .colab-df-convert {\n",
              "      background-color: #3B4455;\n",
              "      fill: #D2E3FC;\n",
              "    }\n",
              "\n",
              "    [theme=dark] .colab-df-convert:hover {\n",
              "      background-color: #434B5C;\n",
              "      box-shadow: 0px 1px 3px 1px rgba(0, 0, 0, 0.15);\n",
              "      filter: drop-shadow(0px 1px 2px rgba(0, 0, 0, 0.3));\n",
              "      fill: #FFFFFF;\n",
              "    }\n",
              "  </style>\n",
              "\n",
              "      <script>\n",
              "        const buttonEl =\n",
              "          document.querySelector('#df-84b73271-7422-4705-bb93-65919f7381ff button.colab-df-convert');\n",
              "        buttonEl.style.display =\n",
              "          google.colab.kernel.accessAllowed ? 'block' : 'none';\n",
              "\n",
              "        async function convertToInteractive(key) {\n",
              "          const element = document.querySelector('#df-84b73271-7422-4705-bb93-65919f7381ff');\n",
              "          const dataTable =\n",
              "            await google.colab.kernel.invokeFunction('convertToInteractive',\n",
              "                                                     [key], {});\n",
              "          if (!dataTable) return;\n",
              "\n",
              "          const docLinkHtml = 'Like what you see? Visit the ' +\n",
              "            '<a target=\"_blank\" href=https://colab.research.google.com/notebooks/data_table.ipynb>data table notebook</a>'\n",
              "            + ' to learn more about interactive tables.';\n",
              "          element.innerHTML = '';\n",
              "          dataTable['output_type'] = 'display_data';\n",
              "          await google.colab.output.renderOutput(dataTable, element);\n",
              "          const docLink = document.createElement('div');\n",
              "          docLink.innerHTML = docLinkHtml;\n",
              "          element.appendChild(docLink);\n",
              "        }\n",
              "      </script>\n",
              "    </div>\n",
              "  </div>\n"
            ]
          },
          "metadata": {},
          "execution_count": 105
        }
      ]
    },
    {
      "cell_type": "code",
      "execution_count": 139,
      "metadata": {
        "id": "JeddZJRC8Jvt"
      },
      "outputs": [],
      "source": [
        "joined_data_frame1.rename(columns={\"AttackCells_x\":\"GoldStandard\",\"AttackCells_y\":\"mordecai_news_2\"}, inplace=True)"
      ]
    },
    {
      "cell_type": "code",
      "source": [
        "joined_data_frame1.head()"
      ],
      "metadata": {
        "id": "hiBBq2EXCr4f"
      },
      "execution_count": null,
      "outputs": []
    },
    {
      "cell_type": "code",
      "source": [
        "joined_data_frame1.to_csv(\"/content/drive/MyDrive/Colab Notebooks/CASE2023_Task2/results/metrics1.mordecai.news.2.csv\",index=True)"
      ],
      "metadata": {
        "id": "km0BBG109Wso"
      },
      "execution_count": 141,
      "outputs": []
    },
    {
      "cell_type": "code",
      "execution_count": 143,
      "metadata": {
        "colab": {
          "base_uri": "https://localhost:8080/"
        },
        "id": "2rneavT18Jvt",
        "outputId": "0cc8bcc0-0af8-4531-96d0-ac3eb838ad91"
      },
      "outputs": [
        {
          "output_type": "execute_result",
          "data": {
            "text/plain": [
              "Index(['GoldStandard', 'mordecai_news_2'], dtype='object')"
            ]
          },
          "metadata": {},
          "execution_count": 143
        }
      ],
      "source": [
        "joined_data_frame1.columns"
      ]
    },
    {
      "cell_type": "code",
      "execution_count": null,
      "metadata": {
        "id": "xfqd9HDH8Jvt"
      },
      "outputs": [],
      "source": [
        "table = pd.read_csv(\"/content/drive/MyDrive/Colab Notebooks/CASE2023_Task2/results/metrics1.mordecai.news.2.csv\",header=0)\n",
        "\n",
        "\n",
        "# to set the plot size\n",
        "plt.figure(figsize=(13, 8), dpi=300)\n",
        "\n",
        "# gca stands for 'get current axis'\n",
        "ax = plt.gca()\n",
        "table.plot(kind='line',x='Day',y='GoldStandard',color='orange',ax=ax)\n",
        "table.plot(kind='line',x='Day',y='mordecai_news_2', color='green', ax=ax)\n",
        "for label in ax.get_xticklabels(which='major'):\n",
        "  label.set(rotation=30, horizontalalignment='right')\n",
        "\n",
        "# adding title\n",
        "#plt.title('News')\n",
        "\n",
        "# adding label to x-axis\n",
        "#plt.xlabel('Day')\n",
        "\n",
        "# adding label to y-axis\n",
        "plt.ylabel('Protest Cells')\n",
        "\n",
        "# adding legend.\n",
        "plt.legend()\n",
        "\n",
        "#plt.save(os.path.join(IMAGES_PATH, \"MapVisualizationGS_and_SOs.htm\"))\n",
        "\n",
        "plt.savefig(os.path.join(IMAGES_PATH, \"AttackCellsTimeSeries_news.png\"), format='png', dpi=300)\n",
        "\n",
        "plt.show()"
      ]
    },
    {
      "cell_type": "markdown",
      "source": [
        "### Scores"
      ],
      "metadata": {
        "id": "3yVC_5xHPowd"
      }
    },
    {
      "cell_type": "code",
      "execution_count": 144,
      "metadata": {
        "colab": {
          "base_uri": "https://localhost:8080/"
        },
        "id": "ZPP5E7Gc8Jvt",
        "outputId": "af882cd3-ecdf-4281-ee03-e8374300109c"
      },
      "outputs": [
        {
          "output_type": "execute_result",
          "data": {
            "text/plain": [
              "0.027544499621465154"
            ]
          },
          "metadata": {},
          "execution_count": 144
        }
      ],
      "source": [
        "joined_data_frame1.GoldStandard.corr(joined_data_frame1.mordecai_news_2, method=\"pearson\")"
      ]
    },
    {
      "cell_type": "code",
      "execution_count": 145,
      "metadata": {
        "colab": {
          "base_uri": "https://localhost:8080/"
        },
        "id": "RE8wVa5x8Jvu",
        "outputId": "3f303ade-a455-4aed-e0e9-96d742ccfeb0"
      },
      "outputs": [
        {
          "output_type": "execute_result",
          "data": {
            "text/plain": [
              "0.0012961648200781142"
            ]
          },
          "metadata": {},
          "execution_count": 145
        }
      ],
      "source": [
        "joined_data_frame1.GoldStandard.corr(joined_data_frame1.mordecai_news_2, method=\"spearman\")"
      ]
    },
    {
      "cell_type": "code",
      "source": [
        "mean_squared_error(joined_data_frame1.GoldStandard, joined_data_frame1.mordecai_news_2, squared=True)"
      ],
      "metadata": {
        "colab": {
          "base_uri": "https://localhost:8080/"
        },
        "id": "LbnRNl5PYskG",
        "outputId": "077efac5-8966-4a03-dbbb-a23f50dda177"
      },
      "execution_count": 146,
      "outputs": [
        {
          "output_type": "execute_result",
          "data": {
            "text/plain": [
              "1407.9945054945056"
            ]
          },
          "metadata": {},
          "execution_count": 146
        }
      ]
    },
    {
      "cell_type": "markdown",
      "source": [
        "## METRICS 2: Event count correlation on \"day_cells\":"
      ],
      "metadata": {
        "id": "Af3gLOx5aPAA"
      }
    },
    {
      "cell_type": "markdown",
      "source": [
        "## Iterate on days: join with PrioGrid_UKR-RUS"
      ],
      "metadata": {
        "id": "DHjS7qXHuIBm"
      }
    },
    {
      "cell_type": "code",
      "source": [
        "#priogrid_usa = pd.read_csv(\"/content/drive/MyDrive/Colab Notebooks/CASE2022_Task2/priogrid_shapefiles/priogrid_usa.csv\",header=0)\n"
      ],
      "metadata": {
        "id": "Sx_ZJX88FyYn"
      },
      "execution_count": null,
      "outputs": []
    },
    {
      "cell_type": "code",
      "source": [
        "time_series_gs_events = pd.DataFrame()\n",
        "\n",
        "for group in gs_ukr_rus_PrioAggregated.groupby(gs_ukr_rus_PrioAggregated['date']):\n",
        "   outer_join = pd.merge(group[1].groupby('gid').size().reset_index(name='countID'), priogrid_ukr_rus['gid'],how=\"outer\",on=\"gid\").fillna(0)\n",
        "   outer_join.insert(0, 'Day', group[0])\n",
        "   time_series_gs_events = time_series_gs_events.append(outer_join)\n",
        "\n"
      ],
      "metadata": {
        "id": "ELA1uJKWa-no"
      },
      "execution_count": null,
      "outputs": []
    },
    {
      "cell_type": "code",
      "source": [
        "time_series_so_events = pd.DataFrame()\n",
        "\n",
        "for group in system_output_PrioAggregated.groupby(system_output['date']):\n",
        "   outer_join1 = pd.merge(group[1].groupby('gid').size().reset_index(name='countID'), priogrid_ukr_rus['gid'],how=\"outer\",on=\"gid\").fillna(0)\n",
        "   outer_join1.insert(0, 'Day', group[0])\n",
        "   time_series_so_events = time_series_so_events.append(outer_join1)\n",
        "\n"
      ],
      "metadata": {
        "id": "xLrRlsALtJly"
      },
      "execution_count": null,
      "outputs": []
    },
    {
      "cell_type": "markdown",
      "source": [
        "### Combining columns to create day_cell units:"
      ],
      "metadata": {
        "id": "oB95TNv1iErm"
      }
    },
    {
      "cell_type": "code",
      "source": [
        "time_series_gs_events['DayCell'] = time_series_gs_events['Day'].astype(str) +\"_\"+ time_series_gs_events[\"gid\"].astype(str)\n"
      ],
      "metadata": {
        "id": "AUK7BSl9rHyC"
      },
      "execution_count": 149,
      "outputs": []
    },
    {
      "cell_type": "code",
      "source": [
        "time_series_so_events['DayCell'] = time_series_so_events['Day'].astype(str) +\"_\"+ time_series_so_events[\"gid\"].astype(str)\n"
      ],
      "metadata": {
        "id": "wUGuQp6ztn45"
      },
      "execution_count": 150,
      "outputs": []
    },
    {
      "cell_type": "code",
      "source": [
        "time_series_so_events['Day'] = pd.to_datetime(time_series_so_events['Day'], errors='raise')"
      ],
      "metadata": {
        "id": "eo0_tzsUpZ5_"
      },
      "execution_count": 151,
      "outputs": []
    },
    {
      "cell_type": "code",
      "source": [
        "time_series_gs_events.info()"
      ],
      "metadata": {
        "id": "Qf_7eyLnrmDD"
      },
      "execution_count": null,
      "outputs": []
    },
    {
      "cell_type": "code",
      "execution_count": 153,
      "metadata": {
        "id": "HGfDM6l4oNip"
      },
      "outputs": [],
      "source": [
        "joined_data_frame2 = (pd.merge(time_series_gs_events, time_series_so_events, on='DayCell', how='outer')\n",
        "        .fillna(0))"
      ]
    },
    {
      "cell_type": "code",
      "source": [
        "joined_data_frame2.columns"
      ],
      "metadata": {
        "colab": {
          "base_uri": "https://localhost:8080/"
        },
        "id": "G9q_0Dfjsk8C",
        "outputId": "95da65fa-87e2-4172-ef34-64ef686bb6f5"
      },
      "execution_count": 154,
      "outputs": [
        {
          "output_type": "execute_result",
          "data": {
            "text/plain": [
              "Index(['Day_x', 'gid_x', 'countID_x', 'DayCell', 'Day_y', 'gid_y',\n",
              "       'countID_y'],\n",
              "      dtype='object')"
            ]
          },
          "metadata": {},
          "execution_count": 154
        }
      ]
    },
    {
      "cell_type": "code",
      "source": [
        "joined_data_frame2.rename(columns={\"Day_x\":\"Day\",\"countID_x\":\"GoldStandardEvents\",\"countID_y\":\"SystemOutEvents\"}, inplace=True)"
      ],
      "metadata": {
        "id": "Y_fIP-C4s268"
      },
      "execution_count": 155,
      "outputs": []
    },
    {
      "cell_type": "code",
      "execution_count": null,
      "metadata": {
        "id": "2noWl5g0oNip"
      },
      "outputs": [],
      "source": [
        "joined_data_frame2 = joined_data_frame2[['Day','DayCell','GoldStandardEvents','SystemOutEvents']]\n",
        "joined_data_frame2.info()"
      ]
    },
    {
      "cell_type": "code",
      "source": [
        "joined_data_frame2.to_csv(\"/content/drive/MyDrive/Colab Notebooks/CASE2023_Task2/results/metrics2.mordecai.news.2.join.csv\",index=False)"
      ],
      "metadata": {
        "id": "WnZwCb0QoNiq"
      },
      "execution_count": 157,
      "outputs": []
    },
    {
      "cell_type": "code",
      "source": [
        "joined_data_frame2.columns"
      ],
      "metadata": {
        "colab": {
          "base_uri": "https://localhost:8080/"
        },
        "id": "600SGasTuVbX",
        "outputId": "582c40a2-391d-4de3-ee33-7d7fd748b873"
      },
      "execution_count": 158,
      "outputs": [
        {
          "output_type": "execute_result",
          "data": {
            "text/plain": [
              "Index(['Day', 'DayCell', 'GoldStandardEvents', 'SystemOutEvents'], dtype='object')"
            ]
          },
          "metadata": {},
          "execution_count": 158
        }
      ]
    },
    {
      "cell_type": "code",
      "execution_count": 159,
      "metadata": {
        "colab": {
          "base_uri": "https://localhost:8080/"
        },
        "outputId": "73a9ec98-e3c2-48e0-f99b-178993e872c1",
        "id": "DFGa19LuoNiq"
      },
      "outputs": [
        {
          "output_type": "execute_result",
          "data": {
            "text/plain": [
              "-0.00014906707622746508"
            ]
          },
          "metadata": {},
          "execution_count": 159
        }
      ],
      "source": [
        "joined_data_frame2.GoldStandardEvents.corr(joined_data_frame2.SystemOutEvents, method=\"pearson\")"
      ]
    },
    {
      "cell_type": "code",
      "execution_count": 160,
      "metadata": {
        "colab": {
          "base_uri": "https://localhost:8080/"
        },
        "outputId": "5b94c93e-84d5-4e6b-9151-8f647c3d27e5",
        "id": "la3phgGOoNiq"
      },
      "outputs": [
        {
          "output_type": "execute_result",
          "data": {
            "text/plain": [
              "-0.00023903704255703303"
            ]
          },
          "metadata": {},
          "execution_count": 160
        }
      ],
      "source": [
        "joined_data_frame2.GoldStandardEvents.corr(joined_data_frame2.SystemOutEvents, method=\"spearman\")"
      ]
    },
    {
      "cell_type": "code",
      "source": [
        "mean_squared_error(joined_data_frame2.GoldStandardEvents, joined_data_frame2.SystemOutEvents, squared=True)"
      ],
      "metadata": {
        "colab": {
          "base_uri": "https://localhost:8080/"
        },
        "outputId": "1ef247d2-e336-4322-867a-999b293e838d",
        "id": "-7xR-ZUBoNiq"
      },
      "execution_count": 161,
      "outputs": [
        {
          "output_type": "execute_result",
          "data": {
            "text/plain": [
              "0.022276955737862317"
            ]
          },
          "metadata": {},
          "execution_count": 161
        }
      ]
    },
    {
      "cell_type": "code",
      "source": [
        "joined_data_frame2.head()"
      ],
      "metadata": {
        "colab": {
          "base_uri": "https://localhost:8080/",
          "height": 206
        },
        "id": "uFki688OH-O0",
        "outputId": "7538757c-e088-4eed-aa35-624472969945"
      },
      "execution_count": 162,
      "outputs": [
        {
          "output_type": "execute_result",
          "data": {
            "text/plain": [
              "                   Day            DayCell  GoldStandardEvents  SystemOutEvents\n",
              "0  2022-02-24 00:00:00  2022-02-24_196262                 2.0              0.0\n",
              "1  2022-02-24 00:00:00  2022-02-24_196268                 1.0              0.0\n",
              "2  2022-02-24 00:00:00  2022-02-24_196270                 2.0              0.0\n",
              "3  2022-02-24 00:00:00  2022-02-24_196986                 3.0              0.0\n",
              "4  2022-02-24 00:00:00  2022-02-24_196987                 4.0              0.0"
            ],
            "text/html": [
              "\n",
              "\n",
              "  <div id=\"df-e59c685d-397a-4890-a010-7fd6009355f0\">\n",
              "    <div class=\"colab-df-container\">\n",
              "      <div>\n",
              "<style scoped>\n",
              "    .dataframe tbody tr th:only-of-type {\n",
              "        vertical-align: middle;\n",
              "    }\n",
              "\n",
              "    .dataframe tbody tr th {\n",
              "        vertical-align: top;\n",
              "    }\n",
              "\n",
              "    .dataframe thead th {\n",
              "        text-align: right;\n",
              "    }\n",
              "</style>\n",
              "<table border=\"1\" class=\"dataframe\">\n",
              "  <thead>\n",
              "    <tr style=\"text-align: right;\">\n",
              "      <th></th>\n",
              "      <th>Day</th>\n",
              "      <th>DayCell</th>\n",
              "      <th>GoldStandardEvents</th>\n",
              "      <th>SystemOutEvents</th>\n",
              "    </tr>\n",
              "  </thead>\n",
              "  <tbody>\n",
              "    <tr>\n",
              "      <th>0</th>\n",
              "      <td>2022-02-24 00:00:00</td>\n",
              "      <td>2022-02-24_196262</td>\n",
              "      <td>2.0</td>\n",
              "      <td>0.0</td>\n",
              "    </tr>\n",
              "    <tr>\n",
              "      <th>1</th>\n",
              "      <td>2022-02-24 00:00:00</td>\n",
              "      <td>2022-02-24_196268</td>\n",
              "      <td>1.0</td>\n",
              "      <td>0.0</td>\n",
              "    </tr>\n",
              "    <tr>\n",
              "      <th>2</th>\n",
              "      <td>2022-02-24 00:00:00</td>\n",
              "      <td>2022-02-24_196270</td>\n",
              "      <td>2.0</td>\n",
              "      <td>0.0</td>\n",
              "    </tr>\n",
              "    <tr>\n",
              "      <th>3</th>\n",
              "      <td>2022-02-24 00:00:00</td>\n",
              "      <td>2022-02-24_196986</td>\n",
              "      <td>3.0</td>\n",
              "      <td>0.0</td>\n",
              "    </tr>\n",
              "    <tr>\n",
              "      <th>4</th>\n",
              "      <td>2022-02-24 00:00:00</td>\n",
              "      <td>2022-02-24_196987</td>\n",
              "      <td>4.0</td>\n",
              "      <td>0.0</td>\n",
              "    </tr>\n",
              "  </tbody>\n",
              "</table>\n",
              "</div>\n",
              "      <button class=\"colab-df-convert\" onclick=\"convertToInteractive('df-e59c685d-397a-4890-a010-7fd6009355f0')\"\n",
              "              title=\"Convert this dataframe to an interactive table.\"\n",
              "              style=\"display:none;\">\n",
              "\n",
              "  <svg xmlns=\"http://www.w3.org/2000/svg\" height=\"24px\"viewBox=\"0 0 24 24\"\n",
              "       width=\"24px\">\n",
              "    <path d=\"M0 0h24v24H0V0z\" fill=\"none\"/>\n",
              "    <path d=\"M18.56 5.44l.94 2.06.94-2.06 2.06-.94-2.06-.94-.94-2.06-.94 2.06-2.06.94zm-11 1L8.5 8.5l.94-2.06 2.06-.94-2.06-.94L8.5 2.5l-.94 2.06-2.06.94zm10 10l.94 2.06.94-2.06 2.06-.94-2.06-.94-.94-2.06-.94 2.06-2.06.94z\"/><path d=\"M17.41 7.96l-1.37-1.37c-.4-.4-.92-.59-1.43-.59-.52 0-1.04.2-1.43.59L10.3 9.45l-7.72 7.72c-.78.78-.78 2.05 0 2.83L4 21.41c.39.39.9.59 1.41.59.51 0 1.02-.2 1.41-.59l7.78-7.78 2.81-2.81c.8-.78.8-2.07 0-2.86zM5.41 20L4 18.59l7.72-7.72 1.47 1.35L5.41 20z\"/>\n",
              "  </svg>\n",
              "      </button>\n",
              "\n",
              "\n",
              "\n",
              "    <div id=\"df-e169a493-ac9b-41be-9147-f9818fcbb8c6\">\n",
              "      <button class=\"colab-df-quickchart\" onclick=\"quickchart('df-e169a493-ac9b-41be-9147-f9818fcbb8c6')\"\n",
              "              title=\"Suggest charts.\"\n",
              "              style=\"display:none;\">\n",
              "\n",
              "<svg xmlns=\"http://www.w3.org/2000/svg\" height=\"24px\"viewBox=\"0 0 24 24\"\n",
              "     width=\"24px\">\n",
              "    <g>\n",
              "        <path d=\"M19 3H5c-1.1 0-2 .9-2 2v14c0 1.1.9 2 2 2h14c1.1 0 2-.9 2-2V5c0-1.1-.9-2-2-2zM9 17H7v-7h2v7zm4 0h-2V7h2v10zm4 0h-2v-4h2v4z\"/>\n",
              "    </g>\n",
              "</svg>\n",
              "      </button>\n",
              "    </div>\n",
              "\n",
              "<style>\n",
              "  .colab-df-quickchart {\n",
              "    background-color: #E8F0FE;\n",
              "    border: none;\n",
              "    border-radius: 50%;\n",
              "    cursor: pointer;\n",
              "    display: none;\n",
              "    fill: #1967D2;\n",
              "    height: 32px;\n",
              "    padding: 0 0 0 0;\n",
              "    width: 32px;\n",
              "  }\n",
              "\n",
              "  .colab-df-quickchart:hover {\n",
              "    background-color: #E2EBFA;\n",
              "    box-shadow: 0px 1px 2px rgba(60, 64, 67, 0.3), 0px 1px 3px 1px rgba(60, 64, 67, 0.15);\n",
              "    fill: #174EA6;\n",
              "  }\n",
              "\n",
              "  [theme=dark] .colab-df-quickchart {\n",
              "    background-color: #3B4455;\n",
              "    fill: #D2E3FC;\n",
              "  }\n",
              "\n",
              "  [theme=dark] .colab-df-quickchart:hover {\n",
              "    background-color: #434B5C;\n",
              "    box-shadow: 0px 1px 3px 1px rgba(0, 0, 0, 0.15);\n",
              "    filter: drop-shadow(0px 1px 2px rgba(0, 0, 0, 0.3));\n",
              "    fill: #FFFFFF;\n",
              "  }\n",
              "</style>\n",
              "\n",
              "    <script>\n",
              "      async function quickchart(key) {\n",
              "        const containerElement = document.querySelector('#' + key);\n",
              "        const charts = await google.colab.kernel.invokeFunction(\n",
              "            'suggestCharts', [key], {});\n",
              "      }\n",
              "    </script>\n",
              "\n",
              "      <script>\n",
              "\n",
              "function displayQuickchartButton(domScope) {\n",
              "  let quickchartButtonEl =\n",
              "    domScope.querySelector('#df-e169a493-ac9b-41be-9147-f9818fcbb8c6 button.colab-df-quickchart');\n",
              "  quickchartButtonEl.style.display =\n",
              "    google.colab.kernel.accessAllowed ? 'block' : 'none';\n",
              "}\n",
              "\n",
              "        displayQuickchartButton(document);\n",
              "      </script>\n",
              "      <style>\n",
              "    .colab-df-container {\n",
              "      display:flex;\n",
              "      flex-wrap:wrap;\n",
              "      gap: 12px;\n",
              "    }\n",
              "\n",
              "    .colab-df-convert {\n",
              "      background-color: #E8F0FE;\n",
              "      border: none;\n",
              "      border-radius: 50%;\n",
              "      cursor: pointer;\n",
              "      display: none;\n",
              "      fill: #1967D2;\n",
              "      height: 32px;\n",
              "      padding: 0 0 0 0;\n",
              "      width: 32px;\n",
              "    }\n",
              "\n",
              "    .colab-df-convert:hover {\n",
              "      background-color: #E2EBFA;\n",
              "      box-shadow: 0px 1px 2px rgba(60, 64, 67, 0.3), 0px 1px 3px 1px rgba(60, 64, 67, 0.15);\n",
              "      fill: #174EA6;\n",
              "    }\n",
              "\n",
              "    [theme=dark] .colab-df-convert {\n",
              "      background-color: #3B4455;\n",
              "      fill: #D2E3FC;\n",
              "    }\n",
              "\n",
              "    [theme=dark] .colab-df-convert:hover {\n",
              "      background-color: #434B5C;\n",
              "      box-shadow: 0px 1px 3px 1px rgba(0, 0, 0, 0.15);\n",
              "      filter: drop-shadow(0px 1px 2px rgba(0, 0, 0, 0.3));\n",
              "      fill: #FFFFFF;\n",
              "    }\n",
              "  </style>\n",
              "\n",
              "      <script>\n",
              "        const buttonEl =\n",
              "          document.querySelector('#df-e59c685d-397a-4890-a010-7fd6009355f0 button.colab-df-convert');\n",
              "        buttonEl.style.display =\n",
              "          google.colab.kernel.accessAllowed ? 'block' : 'none';\n",
              "\n",
              "        async function convertToInteractive(key) {\n",
              "          const element = document.querySelector('#df-e59c685d-397a-4890-a010-7fd6009355f0');\n",
              "          const dataTable =\n",
              "            await google.colab.kernel.invokeFunction('convertToInteractive',\n",
              "                                                     [key], {});\n",
              "          if (!dataTable) return;\n",
              "\n",
              "          const docLinkHtml = 'Like what you see? Visit the ' +\n",
              "            '<a target=\"_blank\" href=https://colab.research.google.com/notebooks/data_table.ipynb>data table notebook</a>'\n",
              "            + ' to learn more about interactive tables.';\n",
              "          element.innerHTML = '';\n",
              "          dataTable['output_type'] = 'display_data';\n",
              "          await google.colab.output.renderOutput(dataTable, element);\n",
              "          const docLink = document.createElement('div');\n",
              "          docLink.innerHTML = docLinkHtml;\n",
              "          element.appendChild(docLink);\n",
              "        }\n",
              "      </script>\n",
              "    </div>\n",
              "  </div>\n"
            ]
          },
          "metadata": {},
          "execution_count": 162
        }
      ]
    },
    {
      "cell_type": "code",
      "source": [
        "joined_data_frame2['GoldStandard'] = ['conflict' if x > 0 else 'no-conflict' for x in joined_data_frame2['GoldStandardEvents']]\n",
        "joined_data_frame2['SystemOut'] = ['conflict' if x > 0 else 'no-conflict' for x in joined_data_frame2['SystemOutEvents']]"
      ],
      "metadata": {
        "id": "Kq6w8qY5Jkz3"
      },
      "execution_count": 163,
      "outputs": []
    },
    {
      "cell_type": "code",
      "source": [
        "confusion_matrix = pd.crosstab(joined_data_frame2['GoldStandard'], joined_data_frame2['SystemOut'], rownames=['GoldStandard'], colnames=['SystemOut'])\n",
        "print(confusion_matrix)\n",
        "import seaborn as sn\n",
        "sn.heatmap(confusion_matrix, annot=True)"
      ],
      "metadata": {
        "colab": {
          "base_uri": "https://localhost:8080/",
          "height": 564
        },
        "id": "HY-evxwyLJyl",
        "outputId": "1053badb-2cb6-4da7-e04a-d40149916b0b"
      },
      "execution_count": 164,
      "outputs": [
        {
          "output_type": "stream",
          "name": "stdout",
          "text": [
            "SystemOut     conflict  no-conflict\n",
            "GoldStandard                       \n",
            "conflict             0         6795\n",
            "no-conflict        118      3742567\n"
          ]
        },
        {
          "output_type": "execute_result",
          "data": {
            "text/plain": [
              "<Axes: xlabel='SystemOut', ylabel='GoldStandard'>"
            ]
          },
          "metadata": {},
          "execution_count": 164
        },
        {
          "output_type": "display_data",
          "data": {
            "text/plain": [
              "<Figure size 640x480 with 2 Axes>"
            ],
            "image/png": "[encoded data removed]"
          },
          "metadata": {}
        }
      ]
    },
    {
      "cell_type": "code",
      "source": [
        "joined_data_frame2.head()"
      ],
      "metadata": {
        "colab": {
          "base_uri": "https://localhost:8080/",
          "height": 206
        },
        "id": "at0FUB6RTiu-",
        "outputId": "0fe448ed-1975-4e87-ab7f-5fe7b40f7527"
      },
      "execution_count": 165,
      "outputs": [
        {
          "output_type": "execute_result",
          "data": {
            "text/plain": [
              "                   Day            DayCell  GoldStandardEvents  \\\n",
              "0  2022-02-24 00:00:00  2022-02-24_196262                 2.0   \n",
              "1  2022-02-24 00:00:00  2022-02-24_196268                 1.0   \n",
              "2  2022-02-24 00:00:00  2022-02-24_196270                 2.0   \n",
              "3  2022-02-24 00:00:00  2022-02-24_196986                 3.0   \n",
              "4  2022-02-24 00:00:00  2022-02-24_196987                 4.0   \n",
              "\n",
              "   SystemOutEvents GoldStandard    SystemOut  \n",
              "0              0.0     conflict  no-conflict  \n",
              "1              0.0     conflict  no-conflict  \n",
              "2              0.0     conflict  no-conflict  \n",
              "3              0.0     conflict  no-conflict  \n",
              "4              0.0     conflict  no-conflict  "
            ],
            "text/html": [
              "\n",
              "\n",
              "  <div id=\"df-f594f0a9-5330-4d33-920d-9a115a2404c2\">\n",
              "    <div class=\"colab-df-container\">\n",
              "      <div>\n",
              "<style scoped>\n",
              "    .dataframe tbody tr th:only-of-type {\n",
              "        vertical-align: middle;\n",
              "    }\n",
              "\n",
              "    .dataframe tbody tr th {\n",
              "        vertical-align: top;\n",
              "    }\n",
              "\n",
              "    .dataframe thead th {\n",
              "        text-align: right;\n",
              "    }\n",
              "</style>\n",
              "<table border=\"1\" class=\"dataframe\">\n",
              "  <thead>\n",
              "    <tr style=\"text-align: right;\">\n",
              "      <th></th>\n",
              "      <th>Day</th>\n",
              "      <th>DayCell</th>\n",
              "      <th>GoldStandardEvents</th>\n",
              "      <th>SystemOutEvents</th>\n",
              "      <th>GoldStandard</th>\n",
              "      <th>SystemOut</th>\n",
              "    </tr>\n",
              "  </thead>\n",
              "  <tbody>\n",
              "    <tr>\n",
              "      <th>0</th>\n",
              "      <td>2022-02-24 00:00:00</td>\n",
              "      <td>2022-02-24_196262</td>\n",
              "      <td>2.0</td>\n",
              "      <td>0.0</td>\n",
              "      <td>conflict</td>\n",
              "      <td>no-conflict</td>\n",
              "    </tr>\n",
              "    <tr>\n",
              "      <th>1</th>\n",
              "      <td>2022-02-24 00:00:00</td>\n",
              "      <td>2022-02-24_196268</td>\n",
              "      <td>1.0</td>\n",
              "      <td>0.0</td>\n",
              "      <td>conflict</td>\n",
              "      <td>no-conflict</td>\n",
              "    </tr>\n",
              "    <tr>\n",
              "      <th>2</th>\n",
              "      <td>2022-02-24 00:00:00</td>\n",
              "      <td>2022-02-24_196270</td>\n",
              "      <td>2.0</td>\n",
              "      <td>0.0</td>\n",
              "      <td>conflict</td>\n",
              "      <td>no-conflict</td>\n",
              "    </tr>\n",
              "    <tr>\n",
              "      <th>3</th>\n",
              "      <td>2022-02-24 00:00:00</td>\n",
              "      <td>2022-02-24_196986</td>\n",
              "      <td>3.0</td>\n",
              "      <td>0.0</td>\n",
              "      <td>conflict</td>\n",
              "      <td>no-conflict</td>\n",
              "    </tr>\n",
              "    <tr>\n",
              "      <th>4</th>\n",
              "      <td>2022-02-24 00:00:00</td>\n",
              "      <td>2022-02-24_196987</td>\n",
              "      <td>4.0</td>\n",
              "      <td>0.0</td>\n",
              "      <td>conflict</td>\n",
              "      <td>no-conflict</td>\n",
              "    </tr>\n",
              "  </tbody>\n",
              "</table>\n",
              "</div>\n",
              "      <button class=\"colab-df-convert\" onclick=\"convertToInteractive('df-f594f0a9-5330-4d33-920d-9a115a2404c2')\"\n",
              "              title=\"Convert this dataframe to an interactive table.\"\n",
              "              style=\"display:none;\">\n",
              "\n",
              "  <svg xmlns=\"http://www.w3.org/2000/svg\" height=\"24px\"viewBox=\"0 0 24 24\"\n",
              "       width=\"24px\">\n",
              "    <path d=\"M0 0h24v24H0V0z\" fill=\"none\"/>\n",
              "    <path d=\"M18.56 5.44l.94 2.06.94-2.06 2.06-.94-2.06-.94-.94-2.06-.94 2.06-2.06.94zm-11 1L8.5 8.5l.94-2.06 2.06-.94-2.06-.94L8.5 2.5l-.94 2.06-2.06.94zm10 10l.94 2.06.94-2.06 2.06-.94-2.06-.94-.94-2.06-.94 2.06-2.06.94z\"/><path d=\"M17.41 7.96l-1.37-1.37c-.4-.4-.92-.59-1.43-.59-.52 0-1.04.2-1.43.59L10.3 9.45l-7.72 7.72c-.78.78-.78 2.05 0 2.83L4 21.41c.39.39.9.59 1.41.59.51 0 1.02-.2 1.41-.59l7.78-7.78 2.81-2.81c.8-.78.8-2.07 0-2.86zM5.41 20L4 18.59l7.72-7.72 1.47 1.35L5.41 20z\"/>\n",
              "  </svg>\n",
              "      </button>\n",
              "\n",
              "\n",
              "\n",
              "    <div id=\"df-8bc927fd-cfcb-4d35-bdd4-7d244122e212\">\n",
              "      <button class=\"colab-df-quickchart\" onclick=\"quickchart('df-8bc927fd-cfcb-4d35-bdd4-7d244122e212')\"\n",
              "              title=\"Suggest charts.\"\n",
              "              style=\"display:none;\">\n",
              "\n",
              "<svg xmlns=\"http://www.w3.org/2000/svg\" height=\"24px\"viewBox=\"0 0 24 24\"\n",
              "     width=\"24px\">\n",
              "    <g>\n",
              "        <path d=\"M19 3H5c-1.1 0-2 .9-2 2v14c0 1.1.9 2 2 2h14c1.1 0 2-.9 2-2V5c0-1.1-.9-2-2-2zM9 17H7v-7h2v7zm4 0h-2V7h2v10zm4 0h-2v-4h2v4z\"/>\n",
              "    </g>\n",
              "</svg>\n",
              "      </button>\n",
              "    </div>\n",
              "\n",
              "<style>\n",
              "  .colab-df-quickchart {\n",
              "    background-color: #E8F0FE;\n",
              "    border: none;\n",
              "    border-radius: 50%;\n",
              "    cursor: pointer;\n",
              "    display: none;\n",
              "    fill: #1967D2;\n",
              "    height: 32px;\n",
              "    padding: 0 0 0 0;\n",
              "    width: 32px;\n",
              "  }\n",
              "\n",
              "  .colab-df-quickchart:hover {\n",
              "    background-color: #E2EBFA;\n",
              "    box-shadow: 0px 1px 2px rgba(60, 64, 67, 0.3), 0px 1px 3px 1px rgba(60, 64, 67, 0.15);\n",
              "    fill: #174EA6;\n",
              "  }\n",
              "\n",
              "  [theme=dark] .colab-df-quickchart {\n",
              "    background-color: #3B4455;\n",
              "    fill: #D2E3FC;\n",
              "  }\n",
              "\n",
              "  [theme=dark] .colab-df-quickchart:hover {\n",
              "    background-color: #434B5C;\n",
              "    box-shadow: 0px 1px 3px 1px rgba(0, 0, 0, 0.15);\n",
              "    filter: drop-shadow(0px 1px 2px rgba(0, 0, 0, 0.3));\n",
              "    fill: #FFFFFF;\n",
              "  }\n",
              "</style>\n",
              "\n",
              "    <script>\n",
              "      async function quickchart(key) {\n",
              "        const containerElement = document.querySelector('#' + key);\n",
              "        const charts = await google.colab.kernel.invokeFunction(\n",
              "            'suggestCharts', [key], {});\n",
              "      }\n",
              "    </script>\n",
              "\n",
              "      <script>\n",
              "\n",
              "function displayQuickchartButton(domScope) {\n",
              "  let quickchartButtonEl =\n",
              "    domScope.querySelector('#df-8bc927fd-cfcb-4d35-bdd4-7d244122e212 button.colab-df-quickchart');\n",
              "  quickchartButtonEl.style.display =\n",
              "    google.colab.kernel.accessAllowed ? 'block' : 'none';\n",
              "}\n",
              "\n",
              "        displayQuickchartButton(document);\n",
              "      </script>\n",
              "      <style>\n",
              "    .colab-df-container {\n",
              "      display:flex;\n",
              "      flex-wrap:wrap;\n",
              "      gap: 12px;\n",
              "    }\n",
              "\n",
              "    .colab-df-convert {\n",
              "      background-color: #E8F0FE;\n",
              "      border: none;\n",
              "      border-radius: 50%;\n",
              "      cursor: pointer;\n",
              "      display: none;\n",
              "      fill: #1967D2;\n",
              "      height: 32px;\n",
              "      padding: 0 0 0 0;\n",
              "      width: 32px;\n",
              "    }\n",
              "\n",
              "    .colab-df-convert:hover {\n",
              "      background-color: #E2EBFA;\n",
              "      box-shadow: 0px 1px 2px rgba(60, 64, 67, 0.3), 0px 1px 3px 1px rgba(60, 64, 67, 0.15);\n",
              "      fill: #174EA6;\n",
              "    }\n",
              "\n",
              "    [theme=dark] .colab-df-convert {\n",
              "      background-color: #3B4455;\n",
              "      fill: #D2E3FC;\n",
              "    }\n",
              "\n",
              "    [theme=dark] .colab-df-convert:hover {\n",
              "      background-color: #434B5C;\n",
              "      box-shadow: 0px 1px 3px 1px rgba(0, 0, 0, 0.15);\n",
              "      filter: drop-shadow(0px 1px 2px rgba(0, 0, 0, 0.3));\n",
              "      fill: #FFFFFF;\n",
              "    }\n",
              "  </style>\n",
              "\n",
              "      <script>\n",
              "        const buttonEl =\n",
              "          document.querySelector('#df-f594f0a9-5330-4d33-920d-9a115a2404c2 button.colab-df-convert');\n",
              "        buttonEl.style.display =\n",
              "          google.colab.kernel.accessAllowed ? 'block' : 'none';\n",
              "\n",
              "        async function convertToInteractive(key) {\n",
              "          const element = document.querySelector('#df-f594f0a9-5330-4d33-920d-9a115a2404c2');\n",
              "          const dataTable =\n",
              "            await google.colab.kernel.invokeFunction('convertToInteractive',\n",
              "                                                     [key], {});\n",
              "          if (!dataTable) return;\n",
              "\n",
              "          const docLinkHtml = 'Like what you see? Visit the ' +\n",
              "            '<a target=\"_blank\" href=https://colab.research.google.com/notebooks/data_table.ipynb>data table notebook</a>'\n",
              "            + ' to learn more about interactive tables.';\n",
              "          element.innerHTML = '';\n",
              "          dataTable['output_type'] = 'display_data';\n",
              "          await google.colab.output.renderOutput(dataTable, element);\n",
              "          const docLink = document.createElement('div');\n",
              "          docLink.innerHTML = docLinkHtml;\n",
              "          element.appendChild(docLink);\n",
              "        }\n",
              "      </script>\n",
              "    </div>\n",
              "  </div>\n"
            ]
          },
          "metadata": {},
          "execution_count": 165
        }
      ]
    },
    {
      "cell_type": "code",
      "source": [
        "from sklearn.metrics import precision_recall_fscore_support\n",
        "\n",
        "y_true = joined_data_frame2.GoldStandard\n",
        "y_pred = joined_data_frame2.SystemOut\n",
        "\n",
        "print(precision_recall_fscore_support(y_true, y_pred))\n"
      ],
      "metadata": {
        "colab": {
          "base_uri": "https://localhost:8080/"
        },
        "id": "eRM05AfmLvJz",
        "outputId": "e3d85d92-948a-4799-abc7-fe8e58a1c5e2"
      },
      "execution_count": 166,
      "outputs": [
        {
          "output_type": "stream",
          "name": "stdout",
          "text": [
            "(array([0.        , 0.99818769]), array([0.        , 0.99996847]), array([0.        , 0.99907729]), array([   6795, 3742685]))\n"
          ]
        }
      ]
    },
    {
      "cell_type": "markdown",
      "source": [
        "\n",
        "\n",
        "---\n",
        "\n"
      ],
      "metadata": {
        "id": "qqh8BowWtvCt"
      }
    },
    {
      "cell_type": "markdown",
      "source": [
        "### Cross-correlation functions ###"
      ],
      "metadata": {
        "id": "5rJ83cl1jc6d"
      }
    },
    {
      "cell_type": "code",
      "source": [
        "# Function to calculate correlation\n",
        "def correlation(x, y):\n",
        "    shortest = min(x.shape[0], y.shape[0])\n",
        "    return np.corrcoef(x.iloc[:shortest].values, y.iloc[:shortest].values)[0, 1]"
      ],
      "metadata": {
        "id": "5WUW5hXhwxVm"
      },
      "execution_count": null,
      "outputs": []
    },
    {
      "cell_type": "code",
      "source": [
        "# Function to plot time series and show the correlation\n",
        "def plot_correlation(x, y, text):\n",
        "    # plot\n",
        "    plt.subplots(figsize=(10, 6))\n",
        "    x.plot(label=\"x\")\n",
        "    y.plot(label=\"y\")\n",
        "    plt.title(f\"Correlation {text}: {correlation(x, y)}\")\n",
        "    plt.legend(loc=\"best\")\n",
        "    plt.show()"
      ],
      "metadata": {
        "id": "IQ0r8prfwlhO"
      },
      "execution_count": null,
      "outputs": []
    },
    {
      "cell_type": "code",
      "source": [
        "from scipy.signal import correlate\n",
        "from scipy.signal import correlation_lags\n",
        "\n",
        "# Function to calculate cross-correlation,\n",
        "# extract the best matching shift and then shift\n",
        "# one of the series appropriately.\n",
        "def shift_for_maximum_correlation(x, y):\n",
        "    correlation = correlate(x, y, mode=\"full\")\n",
        "    print(correlation)\n",
        "    lags = correlation_lags(x.size, y.size, mode=\"full\")\n",
        "    print(lags)\n",
        "    lag = lags[np.argmax(correlation)]\n",
        "    print(f\"Best lag: {lag}\")\n",
        "    if lag < 0:\n",
        "        y = y.iloc[abs(lag):].reset_index(drop=True)\n",
        "    else:\n",
        "        x = x.iloc[lag:].reset_index(drop=True)\n",
        "    return x, y"
      ],
      "metadata": {
        "id": "HgQhQCkZ0Me6"
      },
      "execution_count": null,
      "outputs": []
    },
    {
      "cell_type": "code",
      "source": [
        "# Generate two series that are correlated\n",
        "original_x = pd.Series(np.random.uniform(size=100))\n",
        "original_y = 1.3*original_x + np.random.normal(0, 0.1, size=100)"
      ],
      "metadata": {
        "id": "wjkGK3vBtsFm"
      },
      "execution_count": null,
      "outputs": []
    },
    {
      "cell_type": "markdown",
      "source": [
        "#### Text example ###"
      ],
      "metadata": {
        "id": "erdk5H7Ujq3_"
      }
    },
    {
      "cell_type": "code",
      "source": [
        "# Show results without shifting\n",
        "plot_correlation(original_x, original_y, \"before shifting\")"
      ],
      "metadata": {
        "colab": {
          "base_uri": "https://localhost:8080/",
          "height": 549
        },
        "id": "9oGOsE2MxGqk",
        "outputId": "db4799fe-21fa-44ba-d44d-c1956b77087b"
      },
      "execution_count": null,
      "outputs": [
        {
          "output_type": "display_data",
          "data": {
            "text/plain": [
              "<Figure size 1000x600 with 1 Axes>"
            ],
            "image/png": "[encoded data removed]"
          },
          "metadata": {}
        }
      ]
    },
    {
      "cell_type": "code",
      "source": [
        "# Now create shifted versions,\n",
        "# I create two examples, one where x is shifted\n",
        "# and one where y is.\n",
        "shifted_versions = [\n",
        "    (original_x.iloc[10:].reset_index(drop=True), original_y),\n",
        "    (original_x, original_y.iloc[20:].reset_index(drop=True)),\n",
        "]"
      ],
      "metadata": {
        "id": "0cMzrb-ox5Qg"
      },
      "execution_count": null,
      "outputs": []
    },
    {
      "cell_type": "code",
      "source": [
        "# Show results without shifting\n",
        "for x, y in shifted_versions:\n",
        "    plot_correlation(x, y, \"before shifting\")"
      ],
      "metadata": {
        "colab": {
          "base_uri": "https://localhost:8080/",
          "height": 1000
        },
        "id": "0LzlUPQazedt",
        "outputId": "1561fd66-f87a-4636-8b1d-9d75ab69d3f5"
      },
      "execution_count": null,
      "outputs": [
        {
          "output_type": "display_data",
          "data": {
            "text/plain": [
              "<Figure size 1000x600 with 1 Axes>"
            ],
            "image/png": "[encoded data removed]"
          },
          "metadata": {}
        },
        {
          "output_type": "display_data",
          "data": {
            "text/plain": [
              "<Figure size 1000x600 with 1 Axes>"
            ],
            "image/png": "[encoded data removed]"
          },
          "metadata": {}
        }
      ]
    },
    {
      "cell_type": "code",
      "source": [
        "for x, y in shifted_versions:\n",
        "    shifted_x, shifted_y = shift_for_maximum_correlation(x, y)"
      ],
      "metadata": {
        "id": "vWqQvLc70hAO"
      },
      "execution_count": null,
      "outputs": []
    },
    {
      "cell_type": "code",
      "source": [
        "plot_correlation(shifted_x, shifted_y, text=\"after shifting\")"
      ],
      "metadata": {
        "colab": {
          "base_uri": "https://localhost:8080/",
          "height": 549
        },
        "id": "r2gqO9o15TrR",
        "outputId": "b338f28e-08fd-42df-f4e8-ee1fa43dae6a"
      },
      "execution_count": null,
      "outputs": [
        {
          "output_type": "display_data",
          "data": {
            "text/plain": [
              "<Figure size 1000x600 with 1 Axes>"
            ],
            "image/png": "[encoded data removed]"
          },
          "metadata": {}
        }
      ]
    },
    {
      "cell_type": "markdown",
      "source": [
        "\n",
        "\n",
        "---\n",
        "\n"
      ],
      "metadata": {
        "id": "HG1fXl5UjwjV"
      }
    }
  ],
  "metadata": {
    "kernelspec": {
      "display_name": "case20202_env",
      "language": "python",
      "name": "case20202_env"
    },
    "language_info": {
      "codemirror_mode": {
        "name": "ipython",
        "version": 3
      },
      "file_extension": ".py",
      "mimetype": "text/x-python",
      "name": "python",
      "nbconvert_exporter": "python",
      "pygments_lexer": "ipython3",
      "version": "3.10.4"
    },
    "colab": {
      "provenance": [],
      "collapsed_sections": [
        "OJqTfBz98JvY",
        "X89vytSpIXFn",
        "X6avM5zY8Jvc",
        "RBLUui0HYBF6",
        "ySUH_sjc8Jvh",
        "vHL80oVfpZDa",
        "0YHcwv6kUHfK",
        "QCclg84rBwGp",
        "htF7kI3k8Jvi",
        "Q4QIPDIL8Jvj",
        "AaxXOCk48Jvm",
        "LmsqUgMn8Jvn",
        "fPtUyQOQ8Jvr",
        "CVsASlyavETa",
        "3yVC_5xHPowd",
        "5rJ83cl1jc6d"
      ],
      "include_colab_link": true
    }
  },
  "nbformat": 4,
  "nbformat_minor": 0
}